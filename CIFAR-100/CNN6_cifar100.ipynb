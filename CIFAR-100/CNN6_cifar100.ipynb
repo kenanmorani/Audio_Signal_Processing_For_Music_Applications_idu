{
  "nbformat": 4,
  "nbformat_minor": 0,
  "metadata": {
    "colab": {
      "name": "CNN6 cifar100.ipynb",
      "provenance": [],
      "collapsed_sections": [],
      "include_colab_link": true
    },
    "kernelspec": {
      "name": "python3",
      "display_name": "Python 3"
    },
    "accelerator": "GPU"
  },
  "cells": [
    {
      "cell_type": "markdown",
      "metadata": {
        "id": "view-in-github",
        "colab_type": "text"
      },
      "source": [
        "<a href=\"https://colab.research.google.com/github/kenanmorani/Audio_Signal_Processing_For_Music_Applications_idu/blob/main/CIFAR-100/CNN6_cifar100.ipynb\" target=\"_parent\"><img src=\"https://colab.research.google.com/assets/colab-badge.svg\" alt=\"Open In Colab\"/></a>"
      ]
    },
    {
      "cell_type": "code",
      "metadata": {
        "id": "lJmJvC7WlsLo",
        "colab": {
          "base_uri": "https://localhost:8080/"
        },
        "outputId": "30304791-1a7b-4e7d-8fd9-2d20b6339403"
      },
      "source": [
        "!pip uninstall keras\n",
        "!pip install keras"
      ],
      "execution_count": 1,
      "outputs": [
        {
          "output_type": "stream",
          "text": [
            "Uninstalling Keras-2.4.3:\n",
            "  Would remove:\n",
            "    /usr/local/lib/python3.6/dist-packages/Keras-2.4.3.dist-info/*\n",
            "    /usr/local/lib/python3.6/dist-packages/docs/*\n",
            "    /usr/local/lib/python3.6/dist-packages/keras/*\n",
            "  Would not remove (might be manually added):\n",
            "    /usr/local/lib/python3.6/dist-packages/docs/md_autogen.py\n",
            "    /usr/local/lib/python3.6/dist-packages/docs/update_docs.py\n",
            "Proceed (y/n)? y\n",
            "  Successfully uninstalled Keras-2.4.3\n",
            "Collecting keras\n",
            "  Downloading https://files.pythonhosted.org/packages/44/e1/dc0757b20b56c980b5553c1b5c4c32d378c7055ab7bfa92006801ad359ab/Keras-2.4.3-py2.py3-none-any.whl\n",
            "Requirement already satisfied: pyyaml in /usr/local/lib/python3.6/dist-packages (from keras) (3.13)\n",
            "Requirement already satisfied: scipy>=0.14 in /usr/local/lib/python3.6/dist-packages (from keras) (1.4.1)\n",
            "Requirement already satisfied: numpy>=1.9.1 in /usr/local/lib/python3.6/dist-packages (from keras) (1.19.5)\n",
            "Requirement already satisfied: h5py in /usr/local/lib/python3.6/dist-packages (from keras) (2.10.0)\n",
            "Requirement already satisfied: six in /usr/local/lib/python3.6/dist-packages (from h5py->keras) (1.15.0)\n",
            "Installing collected packages: keras\n",
            "Successfully installed keras-2.4.3\n"
          ],
          "name": "stdout"
        }
      ]
    },
    {
      "cell_type": "code",
      "metadata": {
        "id": "5Z_P_SNDltEW"
      },
      "source": [
        "from __future__ import print_function\n",
        "import keras\n",
        "from keras.datasets import cifar100\n",
        "from keras.models import Sequential\n",
        "from keras.layers import Dense, Dropout, Activation, Flatten\n",
        "from keras.layers import Conv2D, MaxPooling2D, ZeroPadding2D\n",
        "from keras.optimizers import SGD\n",
        "from keras.regularizers import l2\n",
        "from keras.callbacks import Callback, LearningRateScheduler, TensorBoard, ModelCheckpoint\n",
        "from keras.preprocessing.image import ImageDataGenerator\n",
        "from keras.utils import to_categorical\n",
        "from keras import backend as K\n",
        "import sys\n",
        "import os\n",
        "import numpy as np\n",
        "import matplotlib.pyplot as plt"
      ],
      "execution_count": 2,
      "outputs": []
    },
    {
      "cell_type": "code",
      "metadata": {
        "id": "SmGeRoXjg6ec"
      },
      "source": [
        "BATCH_SIZE = 100\n",
        "NUM_CLASSES = 100\n",
        "EPOCHS = 200\n",
        "INIT_DROPOUT_RATE = 0.5\n",
        "MOMENTUM_RATE = 0.9\n",
        "INIT_LEARNING_RATE = 0.01\n",
        "L2_DECAY_RATE = 0.0005\n",
        "CROP_SIZE = 32\n",
        "LOG_DIR = './logs'\n",
        "MODEL_PATH = './keras_cifar100_model.h5'"
      ],
      "execution_count": 3,
      "outputs": []
    },
    {
      "cell_type": "code",
      "metadata": {
        "id": "xFzCiHWrhNlw",
        "colab": {
          "base_uri": "https://localhost:8080/"
        },
        "outputId": "ebcefe3e-bfd0-403c-b55f-ed4c734d928d"
      },
      "source": [
        "(x_train, y_train), (x_test, y_test) = cifar100.load_data()"
      ],
      "execution_count": 4,
      "outputs": [
        {
          "output_type": "stream",
          "text": [
            "Downloading data from https://www.cs.toronto.edu/~kriz/cifar-100-python.tar.gz\n",
            "169009152/169001437 [==============================] - 2s 0us/step\n"
          ],
          "name": "stdout"
        }
      ]
    },
    {
      "cell_type": "code",
      "metadata": {
        "id": "tiu4O0l3hBf3",
        "colab": {
          "base_uri": "https://localhost:8080/"
        },
        "outputId": "fb2f1f56-4398-46d2-8773-03c861c4d4c6"
      },
      "source": [
        "print(x_train.shape,x_test.shape)\n",
        "print(y_train.shape,y_test.shape)"
      ],
      "execution_count": 5,
      "outputs": [
        {
          "output_type": "stream",
          "text": [
            "(50000, 32, 32, 3) (10000, 32, 32, 3)\n",
            "(50000, 1) (10000, 1)\n"
          ],
          "name": "stdout"
        }
      ]
    },
    {
      "cell_type": "code",
      "metadata": {
        "id": "yw3m5kdXNf56",
        "colab": {
          "base_uri": "https://localhost:8080/",
          "height": 269
        },
        "outputId": "4c368b5f-cffa-4e93-8680-e8562d703a5c"
      },
      "source": [
        "m=4\n",
        "k=0\n",
        "plt.figure(1)\n",
        "for i in range(0,m):\n",
        "  for j in range(0,m):\n",
        "    plt.subplot2grid((m,m),(i,j))\n",
        "    plt.imshow(x_train[k])\n",
        "    k=k+1\n",
        "plt.show()\n"
      ],
      "execution_count": null,
      "outputs": [
        {
          "output_type": "display_data",
          "data": {
            "image/png": "[encoded data removed]",
            "text/plain": [
              "<Figure size 432x288 with 16 Axes>"
            ]
          },
          "metadata": {
            "tags": []
          }
        }
      ]
    },
    {
      "cell_type": "code",
      "metadata": {
        "id": "IRM8NvWIhQsa",
        "colab": {
          "base_uri": "https://localhost:8080/"
        },
        "outputId": "eef4d8c9-a540-4bc6-ca93-045ee8f833a9"
      },
      "source": [
        "y_train = to_categorical(y_train, NUM_CLASSES)\n",
        "y_test = to_categorical(y_test, NUM_CLASSES)\n",
        "print(y_train.shape,y_test.shape)"
      ],
      "execution_count": 6,
      "outputs": [
        {
          "output_type": "stream",
          "text": [
            "(50000, 100) (10000, 100)\n"
          ],
          "name": "stdout"
        }
      ]
    },
    {
      "cell_type": "code",
      "metadata": {
        "id": "cHZ7qz7lhUBj"
      },
      "source": [
        "x_train = x_train.astype('float32')\n",
        "x_test = x_test.astype('float32')\n",
        "x_train /= 255.0\n",
        "x_test /= 255.0"
      ],
      "execution_count": 7,
      "outputs": []
    },
    {
      "cell_type": "code",
      "metadata": {
        "id": "TTHONrvKhWsp"
      },
      "source": [
        "model = Sequential()\n",
        "model.add(ZeroPadding2D(4, input_shape=x_train.shape[1:]))\n",
        "# Stack 1:\n",
        "model.add(Conv2D(384, (3, 3), padding='same', kernel_regularizer=l2(0.01)))\n",
        "model.add(Activation('elu'))\n",
        "model.add(MaxPooling2D(pool_size=(2, 2), padding='same'))\n",
        "model.add(Dropout(INIT_DROPOUT_RATE))\n",
        "# Stack 2:\n",
        "model.add(Conv2D(384, (1, 1), padding='same', kernel_regularizer=l2(L2_DECAY_RATE)))\n",
        "model.add(Conv2D(384, (2, 2), padding='same', kernel_regularizer=l2(L2_DECAY_RATE)))\n",
        "model.add(Conv2D(640, (2, 2), padding='same', kernel_regularizer=l2(L2_DECAY_RATE)))\n",
        "model.add(Conv2D(640, (2, 2), padding='same', kernel_regularizer=l2(L2_DECAY_RATE)))\n",
        "model.add(Activation('elu'))\n",
        "model.add(MaxPooling2D(pool_size=(2, 2), padding='same'))\n",
        "model.add(Dropout(INIT_DROPOUT_RATE))\n",
        "# Stack 3:\n",
        "model.add(Conv2D(640, (3, 3), padding='same', kernel_regularizer=l2(L2_DECAY_RATE)))\n",
        "model.add(Conv2D(768, (2, 2), padding='same', kernel_regularizer=l2(L2_DECAY_RATE)))\n",
        "model.add(Conv2D(768, (2, 2), padding='same', kernel_regularizer=l2(L2_DECAY_RATE)))\n",
        "model.add(Conv2D(768, (2, 2), padding='same', kernel_regularizer=l2(L2_DECAY_RATE)))\n",
        "model.add(Activation('elu'))\n",
        "model.add(MaxPooling2D(pool_size=(2, 2), padding='same'))\n",
        "model.add(Dropout(INIT_DROPOUT_RATE))\n",
        "# Stack 4:\n",
        "model.add(Conv2D(768, (1, 1), padding='same', kernel_regularizer=l2(L2_DECAY_RATE)))\n",
        "model.add(Conv2D(896, (2, 2), padding='same', kernel_regularizer=l2(L2_DECAY_RATE)))\n",
        "model.add(Conv2D(896, (2, 2), padding='same', kernel_regularizer=l2(L2_DECAY_RATE)))\n",
        "model.add(Activation('elu'))\n",
        "model.add(MaxPooling2D(pool_size=(2, 2), padding='same'))\n",
        "model.add(Dropout(INIT_DROPOUT_RATE))\n",
        "# Stack 5:\n",
        "model.add(Conv2D(896, (3, 3), padding='same', kernel_regularizer=l2(L2_DECAY_RATE)))\n",
        "model.add(Conv2D(1024, (2, 2), padding='same', kernel_regularizer=l2(L2_DECAY_RATE)))\n",
        "model.add(Conv2D(1024, (2, 2), padding='same', kernel_regularizer=l2(L2_DECAY_RATE)))\n",
        "model.add(Activation('elu'))\n",
        "model.add(MaxPooling2D(pool_size=(2, 2), padding='same'))\n",
        "model.add(Dropout(INIT_DROPOUT_RATE))\n",
        "# Stack 6:\n",
        "model.add(Conv2D(1024, (1, 1), padding='same', kernel_regularizer=l2(L2_DECAY_RATE)))\n",
        "model.add(Conv2D(1152, (2, 2), padding='same', kernel_regularizer=l2(L2_DECAY_RATE)))\n",
        "model.add(Activation('elu'))\n",
        "model.add(MaxPooling2D(pool_size=(2, 2), padding='same'))\n",
        "model.add(Dropout(INIT_DROPOUT_RATE))\n",
        "# Stack 7:\n",
        "model.add(Conv2D(1152, (1, 1), padding='same', kernel_regularizer=l2(L2_DECAY_RATE)))\n",
        "model.add(Activation('elu'))\n",
        "model.add(MaxPooling2D(pool_size=(2, 2), padding='same'))\n",
        "model.add(Dropout(INIT_DROPOUT_RATE))\n",
        "model.add(Flatten())\n",
        "model.add(Dense(NUM_CLASSES))\n",
        "model.add(Activation('softmax'))"
      ],
      "execution_count": 8,
      "outputs": []
    },
    {
      "cell_type": "code",
      "metadata": {
        "id": "oc61a1uVheJZ",
        "colab": {
          "base_uri": "https://localhost:8080/"
        },
        "outputId": "9c64e522-1cee-4e8f-8aba-344954aa69ec"
      },
      "source": [
        "model.summary()"
      ],
      "execution_count": 9,
      "outputs": [
        {
          "output_type": "stream",
          "text": [
            "Model: \"sequential\"\n",
            "_________________________________________________________________\n",
            "Layer (type)                 Output Shape              Param #   \n",
            "=================================================================\n",
            "zero_padding2d (ZeroPadding2 (None, 40, 40, 3)         0         \n",
            "_________________________________________________________________\n",
            "conv2d (Conv2D)              (None, 40, 40, 384)       10752     \n",
            "_________________________________________________________________\n",
            "activation (Activation)      (None, 40, 40, 384)       0         \n",
            "_________________________________________________________________\n",
            "max_pooling2d (MaxPooling2D) (None, 20, 20, 384)       0         \n",
            "_________________________________________________________________\n",
            "dropout (Dropout)            (None, 20, 20, 384)       0         \n",
            "_________________________________________________________________\n",
            "conv2d_1 (Conv2D)            (None, 20, 20, 384)       147840    \n",
            "_________________________________________________________________\n",
            "conv2d_2 (Conv2D)            (None, 20, 20, 384)       590208    \n",
            "_________________________________________________________________\n",
            "conv2d_3 (Conv2D)            (None, 20, 20, 640)       983680    \n",
            "_________________________________________________________________\n",
            "conv2d_4 (Conv2D)            (None, 20, 20, 640)       1639040   \n",
            "_________________________________________________________________\n",
            "activation_1 (Activation)    (None, 20, 20, 640)       0         \n",
            "_________________________________________________________________\n",
            "max_pooling2d_1 (MaxPooling2 (None, 10, 10, 640)       0         \n",
            "_________________________________________________________________\n",
            "dropout_1 (Dropout)          (None, 10, 10, 640)       0         \n",
            "_________________________________________________________________\n",
            "conv2d_5 (Conv2D)            (None, 10, 10, 640)       3687040   \n",
            "_________________________________________________________________\n",
            "conv2d_6 (Conv2D)            (None, 10, 10, 768)       1966848   \n",
            "_________________________________________________________________\n",
            "conv2d_7 (Conv2D)            (None, 10, 10, 768)       2360064   \n",
            "_________________________________________________________________\n",
            "conv2d_8 (Conv2D)            (None, 10, 10, 768)       2360064   \n",
            "_________________________________________________________________\n",
            "activation_2 (Activation)    (None, 10, 10, 768)       0         \n",
            "_________________________________________________________________\n",
            "max_pooling2d_2 (MaxPooling2 (None, 5, 5, 768)         0         \n",
            "_________________________________________________________________\n",
            "dropout_2 (Dropout)          (None, 5, 5, 768)         0         \n",
            "_________________________________________________________________\n",
            "conv2d_9 (Conv2D)            (None, 5, 5, 768)         590592    \n",
            "_________________________________________________________________\n",
            "conv2d_10 (Conv2D)           (None, 5, 5, 896)         2753408   \n",
            "_________________________________________________________________\n",
            "conv2d_11 (Conv2D)           (None, 5, 5, 896)         3212160   \n",
            "_________________________________________________________________\n",
            "activation_3 (Activation)    (None, 5, 5, 896)         0         \n",
            "_________________________________________________________________\n",
            "max_pooling2d_3 (MaxPooling2 (None, 3, 3, 896)         0         \n",
            "_________________________________________________________________\n",
            "dropout_3 (Dropout)          (None, 3, 3, 896)         0         \n",
            "_________________________________________________________________\n",
            "conv2d_12 (Conv2D)           (None, 3, 3, 896)         7226240   \n",
            "_________________________________________________________________\n",
            "conv2d_13 (Conv2D)           (None, 3, 3, 1024)        3671040   \n",
            "_________________________________________________________________\n",
            "conv2d_14 (Conv2D)           (None, 3, 3, 1024)        4195328   \n",
            "_________________________________________________________________\n",
            "activation_4 (Activation)    (None, 3, 3, 1024)        0         \n",
            "_________________________________________________________________\n",
            "max_pooling2d_4 (MaxPooling2 (None, 2, 2, 1024)        0         \n",
            "_________________________________________________________________\n",
            "dropout_4 (Dropout)          (None, 2, 2, 1024)        0         \n",
            "_________________________________________________________________\n",
            "conv2d_15 (Conv2D)           (None, 2, 2, 1024)        1049600   \n",
            "_________________________________________________________________\n",
            "conv2d_16 (Conv2D)           (None, 2, 2, 1152)        4719744   \n",
            "_________________________________________________________________\n",
            "activation_5 (Activation)    (None, 2, 2, 1152)        0         \n",
            "_________________________________________________________________\n",
            "max_pooling2d_5 (MaxPooling2 (None, 1, 1, 1152)        0         \n",
            "_________________________________________________________________\n",
            "dropout_5 (Dropout)          (None, 1, 1, 1152)        0         \n",
            "_________________________________________________________________\n",
            "conv2d_17 (Conv2D)           (None, 1, 1, 1152)        1328256   \n",
            "_________________________________________________________________\n",
            "activation_6 (Activation)    (None, 1, 1, 1152)        0         \n",
            "_________________________________________________________________\n",
            "max_pooling2d_6 (MaxPooling2 (None, 1, 1, 1152)        0         \n",
            "_________________________________________________________________\n",
            "dropout_6 (Dropout)          (None, 1, 1, 1152)        0         \n",
            "_________________________________________________________________\n",
            "flatten (Flatten)            (None, 1152)              0         \n",
            "_________________________________________________________________\n",
            "dense (Dense)                (None, 100)               115300    \n",
            "_________________________________________________________________\n",
            "activation_7 (Activation)    (None, 100)               0         \n",
            "=================================================================\n",
            "Total params: 42,607,204\n",
            "Trainable params: 42,607,204\n",
            "Non-trainable params: 0\n",
            "_________________________________________________________________\n"
          ],
          "name": "stdout"
        }
      ]
    },
    {
      "cell_type": "code",
      "metadata": {
        "id": "3J4WWEAFhhTs"
      },
      "source": [
        "def lr_scheduler(epoch, lr, step_decay = 0.1):\n",
        "    return float(lr * step_decay) if epoch == 35.000 else lr"
      ],
      "execution_count": 10,
      "outputs": []
    },
    {
      "cell_type": "code",
      "metadata": {
        "id": "GaQUwhcWhlIb"
      },
      "source": [
        "def dr_scheduler(epoch, layers, rate_list = [0.0, .1, .2, .3, .4, .5, 0.0], rate_factor = 1.5):\n",
        "    if epoch == 85000:\n",
        "        for i, layer in enumerate([l for l in layers if \"dropout\" in np.str.lower(l.name)]):\n",
        "            layer.rate = layer.rate + rate_list[i]\n",
        "    elif epoch == 135000:\n",
        "        for i, layer in enumerate([l for l in layers if \"dropout\" in np.str.lower(l.name)]):\n",
        "            layer.rate = layer.rate + layer.rate * rate_factor if layer.rate <= 0.66 else 1\n",
        "    return layers"
      ],
      "execution_count": 12,
      "outputs": []
    },
    {
      "cell_type": "code",
      "metadata": {
        "id": "MovVkmAchoKu"
      },
      "source": [
        "class StepLearningRateSchedulerAt(LearningRateScheduler):\n",
        "    def __init__(self, schedule, verbose = 0): \n",
        "        super(LearningRateScheduler, self).__init__()\n",
        "        self.schedule = schedule\n",
        "        self.verbose = verbose\n",
        "    \n",
        "    def on_epoch_begin(self, epoch, logs=None): \n",
        "        if not hasattr(self.model.optimizer, 'lr'):\n",
        "            raise ValueError('Optimizer must have a \"lr\" attribute.')\n",
        "            \n",
        "        lr = float(K.get_value(self.model.optimizer.lr))\n",
        "        lr = self.schedule(epoch, lr)\n",
        "       \n",
        "        if not isinstance(lr, (float, np.float32, np.float64)):\n",
        "            raise ValueError('The output of the \"schedule\" function ' 'should be float.')\n",
        "        \n",
        "        K.set_value(self.model.optimizer.lr, lr)\n",
        "        if self.verbose > 0: \n",
        "            print('\\nEpoch %05d: LearningRateScheduler reducing learning ' 'rate to %s.' % (epoch + 1, lr))"
      ],
      "execution_count": 13,
      "outputs": []
    },
    {
      "cell_type": "code",
      "metadata": {
        "id": "A8jnrhYnhq1g"
      },
      "source": [
        "\n",
        "class DropoutRateScheduler(Callback):\n",
        "    def __init__(self, schedule, verbose = 0):\n",
        "        super(Callback, self).__init__()\n",
        "        self.schedule = schedule\n",
        "        self.verbose = verbose\n",
        "        \n",
        "    def on_epoch_begin(self, epoch, logs=None):\n",
        "        if not hasattr(self.model, 'layers'):\n",
        "            raise ValueError('Model must have a \"layers\" attribute.')\n",
        "            \n",
        "        layers = self.model.layers\n",
        "        layers = self.schedule(epoch, layers)\n",
        "        \n",
        "        if not isinstance(layers, list):\n",
        "            raise ValueError('The output of the \"schedule\" function should be list.')\n",
        "        \n",
        "        self.model.layers = layers\n",
        "        \n",
        "        if self.verbose > 0:\n",
        "            for layer in [l for l in self.model.layers if \"dropout\" in np.str.lower(l.name)]:\n",
        "                print('\\nEpoch %05d: Dropout rate for layer %s: %s.' % (epoch + 1, layer.name, layer.rate))"
      ],
      "execution_count": 14,
      "outputs": []
    },
    {
      "cell_type": "code",
      "metadata": {
        "id": "l58Qdvq1hu6U"
      },
      "source": [
        "def random_crop(img, random_crop_size):\n",
        "    height, width = img.shape[0], img.shape[1]\n",
        "    dy, dx = random_crop_size\n",
        "    x = np.random.randint(0, width - dx + 1)\n",
        "    y = np.random.randint(0, height - dy + 1)\n",
        "    return img[y:(y+dy), x:(x+dx), :]"
      ],
      "execution_count": 15,
      "outputs": []
    },
    {
      "cell_type": "code",
      "metadata": {
        "id": "OhCT2Vnchz_y"
      },
      "source": [
        "def crop_generator(batches, crop_length, num_channel = 3):\n",
        "    while True:\n",
        "        batch_x, batch_y = next(batches)\n",
        "        batch_crops = np.zeros((batch_x.shape[0], crop_length, crop_length, num_channel))\n",
        "        for i in range(batch_x.shape[0]):\n",
        "            batch_crops[i] = random_crop(batch_x[i], (crop_length, crop_length))\n",
        "        yield (batch_crops, batch_y)"
      ],
      "execution_count": 16,
      "outputs": []
    },
    {
      "cell_type": "code",
      "metadata": {
        "id": "vRCYaXZXh3Wk"
      },
      "source": [
        "opt = SGD(lr=INIT_LEARNING_RATE, momentum=MOMENTUM_RATE)"
      ],
      "execution_count": 17,
      "outputs": []
    },
    {
      "cell_type": "code",
      "metadata": {
        "id": "Uh8Juu6qh5Vj",
        "colab": {
          "base_uri": "https://localhost:8080/"
        },
        "outputId": "81509e01-c1f9-46bb-e117-2f3ce3ffca83"
      },
      "source": [
        "\n",
        "lr_rate_scheduler = StepLearningRateSchedulerAt(lr_scheduler)\n",
        "dropout_scheduler = DropoutRateScheduler(dr_scheduler)\n",
        "tensorboard = TensorBoard(log_dir=LOG_DIR, batch_size=BATCH_SIZE)\n",
        "checkpointer = ModelCheckpoint(MODEL_PATH, monitor='val_loss', verbose=1, save_best_only=True)"
      ],
      "execution_count": 18,
      "outputs": [
        {
          "output_type": "stream",
          "text": [
            "WARNING:tensorflow:`batch_size` is no longer needed in the `TensorBoard` Callback and will be ignored in TensorFlow 2.0.\n"
          ],
          "name": "stdout"
        }
      ]
    },
    {
      "cell_type": "code",
      "metadata": {
        "id": "z-laMEyth7j7"
      },
      "source": [
        "model.compile(optimizer=opt,\n",
        "              loss='categorical_crossentropy',\n",
        "              metrics=['accuracy', 'top_k_categorical_accuracy'])"
      ],
      "execution_count": 35,
      "outputs": []
    },
    {
      "cell_type": "code",
      "metadata": {
        "id": "5Ag_Z3rBh9vr",
        "colab": {
          "base_uri": "https://localhost:8080/"
        },
        "outputId": "116e367f-da04-4fd3-ff30-4f7596eff153"
      },
      "source": [
        "datagen = ImageDataGenerator(samplewise_center=True,\n",
        "                             zca_whitening=True,\n",
        "                             horizontal_flip=True\n",
        "                            )"
      ],
      "execution_count": 20,
      "outputs": [
        {
          "output_type": "stream",
          "text": [
            "/usr/local/lib/python3.6/dist-packages/keras_preprocessing/image/image_data_generator.py:337: UserWarning: This ImageDataGenerator specifies `zca_whitening`, which overrides setting of `featurewise_center`.\n",
            "  warnings.warn('This ImageDataGenerator specifies '\n"
          ],
          "name": "stderr"
        }
      ]
    },
    {
      "cell_type": "code",
      "metadata": {
        "id": "9GXZOaBoiBJM"
      },
      "source": [
        "datagen.fit(x_train)"
      ],
      "execution_count": 21,
      "outputs": []
    },
    {
      "cell_type": "code",
      "metadata": {
        "id": "Q86GEHlaiD61"
      },
      "source": [
        "train_flow = datagen.flow(x_train, y_train, batch_size=BATCH_SIZE)\n",
        "train_flow_w_crops = crop_generator(train_flow, CROP_SIZE)\n",
        "valid_flow = datagen.flow(x_train, y_train, batch_size=BATCH_SIZE)"
      ],
      "execution_count": 22,
      "outputs": []
    },
    {
      "cell_type": "code",
      "metadata": {
        "id": "8nZHWDh9iHZ0",
        "colab": {
          "base_uri": "https://localhost:8080/",
          "height": 1000
        },
        "outputId": "2adb5ee0-ddc4-48d9-8812-fd391f05ebda"
      },
      "source": [
        "h=model.fit_generator(train_flow_w_crops,\n",
        "                    epochs=200,\n",
        "                    steps_per_epoch=len(x_train) / BATCH_SIZE,\n",
        "                    validation_data=valid_flow,\n",
        "                    validation_steps=(len(x_train) / BATCH_SIZE))"
      ],
      "execution_count": 26,
      "outputs": [
        {
          "output_type": "stream",
          "text": [
            "/usr/local/lib/python3.6/dist-packages/tensorflow/python/keras/engine/training.py:1844: UserWarning: `Model.fit_generator` is deprecated and will be removed in a future version. Please use `Model.fit`, which supports generators.\n",
            "  warnings.warn('`Model.fit_generator` is deprecated and '\n"
          ],
          "name": "stderr"
        },
        {
          "output_type": "stream",
          "text": [
            "Epoch 1/200\n",
            "500/500 [==============================] - 244s 469ms/step - loss: 11.1502 - accuracy: 0.0150 - top_k_categorical_accuracy: 0.0738 - val_loss: 10.5278 - val_accuracy: 0.0212 - val_top_k_categorical_accuracy: 0.1055\n",
            "Epoch 2/200\n",
            "500/500 [==============================] - 234s 469ms/step - loss: 10.2104 - accuracy: 0.0421 - top_k_categorical_accuracy: 0.1692 - val_loss: 9.3673 - val_accuracy: 0.0994 - val_top_k_categorical_accuracy: 0.3078\n",
            "Epoch 3/200\n",
            "500/500 [==============================] - 235s 469ms/step - loss: 9.2842 - accuracy: 0.0884 - top_k_categorical_accuracy: 0.2970 - val_loss: 8.4994 - val_accuracy: 0.1553 - val_top_k_categorical_accuracy: 0.4179\n",
            "Epoch 4/200\n",
            "500/500 [==============================] - 235s 471ms/step - loss: 8.4928 - accuracy: 0.1374 - top_k_categorical_accuracy: 0.3940 - val_loss: 7.6987 - val_accuracy: 0.2201 - val_top_k_categorical_accuracy: 0.5256\n",
            "Epoch 5/200\n",
            "500/500 [==============================] - 234s 468ms/step - loss: 7.8124 - accuracy: 0.1848 - top_k_categorical_accuracy: 0.4690 - val_loss: 7.0997 - val_accuracy: 0.2659 - val_top_k_categorical_accuracy: 0.5772\n",
            "Epoch 6/200\n",
            "500/500 [==============================] - 234s 468ms/step - loss: 7.2263 - accuracy: 0.2260 - top_k_categorical_accuracy: 0.5270 - val_loss: 6.6082 - val_accuracy: 0.2964 - val_top_k_categorical_accuracy: 0.6146\n",
            "Epoch 7/200\n",
            "500/500 [==============================] - 231s 463ms/step - loss: 6.7095 - accuracy: 0.2576 - top_k_categorical_accuracy: 0.5744 - val_loss: 6.0685 - val_accuracy: 0.3423 - val_top_k_categorical_accuracy: 0.6667\n",
            "Epoch 8/200\n",
            "500/500 [==============================] - 230s 461ms/step - loss: 6.2645 - accuracy: 0.2904 - top_k_categorical_accuracy: 0.6106 - val_loss: 5.6030 - val_accuracy: 0.3856 - val_top_k_categorical_accuracy: 0.7098\n",
            "Epoch 9/200\n",
            "500/500 [==============================] - 229s 458ms/step - loss: 5.9037 - accuracy: 0.3048 - top_k_categorical_accuracy: 0.6338 - val_loss: 5.2830 - val_accuracy: 0.4009 - val_top_k_categorical_accuracy: 0.7244\n",
            "Epoch 10/200\n",
            "500/500 [==============================] - 226s 453ms/step - loss: 5.5628 - accuracy: 0.3325 - top_k_categorical_accuracy: 0.6489 - val_loss: 4.9958 - val_accuracy: 0.4231 - val_top_k_categorical_accuracy: 0.7360\n",
            "Epoch 11/200\n",
            "500/500 [==============================] - 236s 472ms/step - loss: 5.2909 - accuracy: 0.3404 - top_k_categorical_accuracy: 0.6619 - val_loss: 4.7119 - val_accuracy: 0.4391 - val_top_k_categorical_accuracy: 0.7497\n",
            "Epoch 12/200\n",
            "500/500 [==============================] - 234s 469ms/step - loss: 5.0606 - accuracy: 0.3489 - top_k_categorical_accuracy: 0.6740 - val_loss: 4.4392 - val_accuracy: 0.4516 - val_top_k_categorical_accuracy: 0.7701\n",
            "Epoch 13/200\n",
            "500/500 [==============================] - 231s 461ms/step - loss: 4.7988 - accuracy: 0.3653 - top_k_categorical_accuracy: 0.6923 - val_loss: 4.3062 - val_accuracy: 0.4489 - val_top_k_categorical_accuracy: 0.7655\n",
            "Epoch 14/200\n",
            "500/500 [==============================] - 232s 464ms/step - loss: 4.6134 - accuracy: 0.3758 - top_k_categorical_accuracy: 0.6979 - val_loss: 4.1112 - val_accuracy: 0.4602 - val_top_k_categorical_accuracy: 0.7723\n",
            "Epoch 15/200\n",
            "500/500 [==============================] - 231s 461ms/step - loss: 4.4371 - accuracy: 0.3790 - top_k_categorical_accuracy: 0.7064 - val_loss: 3.9113 - val_accuracy: 0.4781 - val_top_k_categorical_accuracy: 0.7841\n",
            "Epoch 16/200\n",
            "500/500 [==============================] - 228s 457ms/step - loss: 4.2673 - accuracy: 0.3900 - top_k_categorical_accuracy: 0.7162 - val_loss: 3.7828 - val_accuracy: 0.4793 - val_top_k_categorical_accuracy: 0.7932\n",
            "Epoch 17/200\n",
            "500/500 [==============================] - 225s 450ms/step - loss: 4.1503 - accuracy: 0.3923 - top_k_categorical_accuracy: 0.7156 - val_loss: 3.5264 - val_accuracy: 0.5140 - val_top_k_categorical_accuracy: 0.8193\n",
            "Epoch 18/200\n",
            "500/500 [==============================] - 226s 451ms/step - loss: 3.9900 - accuracy: 0.4049 - top_k_categorical_accuracy: 0.7272 - val_loss: 3.4812 - val_accuracy: 0.5034 - val_top_k_categorical_accuracy: 0.8055\n",
            "Epoch 19/200\n",
            "500/500 [==============================] - 227s 454ms/step - loss: 3.8823 - accuracy: 0.4058 - top_k_categorical_accuracy: 0.7321 - val_loss: 3.3077 - val_accuracy: 0.5205 - val_top_k_categorical_accuracy: 0.8220\n",
            "Epoch 20/200\n",
            "500/500 [==============================] - 232s 464ms/step - loss: 3.7740 - accuracy: 0.4088 - top_k_categorical_accuracy: 0.7341 - val_loss: 3.2586 - val_accuracy: 0.5143 - val_top_k_categorical_accuracy: 0.8163\n",
            "Epoch 21/200\n",
            "500/500 [==============================] - 226s 451ms/step - loss: 3.7005 - accuracy: 0.4134 - top_k_categorical_accuracy: 0.7334 - val_loss: 3.2578 - val_accuracy: 0.4986 - val_top_k_categorical_accuracy: 0.8047\n",
            "Epoch 22/200\n",
            "500/500 [==============================] - 234s 469ms/step - loss: 3.6071 - accuracy: 0.4177 - top_k_categorical_accuracy: 0.7394 - val_loss: 3.1282 - val_accuracy: 0.5184 - val_top_k_categorical_accuracy: 0.8235\n",
            "Epoch 23/200\n",
            "500/500 [==============================] - 235s 470ms/step - loss: 3.5089 - accuracy: 0.4238 - top_k_categorical_accuracy: 0.7464 - val_loss: 3.1185 - val_accuracy: 0.5069 - val_top_k_categorical_accuracy: 0.8087\n",
            "Epoch 24/200\n",
            "500/500 [==============================] - 239s 478ms/step - loss: 3.4671 - accuracy: 0.4237 - top_k_categorical_accuracy: 0.7431 - val_loss: 2.9417 - val_accuracy: 0.5314 - val_top_k_categorical_accuracy: 0.8328\n",
            "Epoch 25/200\n",
            "500/500 [==============================] - 240s 480ms/step - loss: 3.4063 - accuracy: 0.4267 - top_k_categorical_accuracy: 0.7472 - val_loss: 2.8978 - val_accuracy: 0.5339 - val_top_k_categorical_accuracy: 0.8324\n",
            "Epoch 26/200\n",
            "500/500 [==============================] - 241s 482ms/step - loss: 3.3344 - accuracy: 0.4270 - top_k_categorical_accuracy: 0.7503 - val_loss: 2.8690 - val_accuracy: 0.5348 - val_top_k_categorical_accuracy: 0.8319\n",
            "Epoch 27/200\n",
            "500/500 [==============================] - 240s 479ms/step - loss: 3.2847 - accuracy: 0.4354 - top_k_categorical_accuracy: 0.7523 - val_loss: 2.7993 - val_accuracy: 0.5356 - val_top_k_categorical_accuracy: 0.8356\n",
            "Epoch 28/200\n",
            "500/500 [==============================] - 233s 466ms/step - loss: 3.2527 - accuracy: 0.4330 - top_k_categorical_accuracy: 0.7530 - val_loss: 2.7419 - val_accuracy: 0.5484 - val_top_k_categorical_accuracy: 0.8393\n",
            "Epoch 29/200\n",
            "500/500 [==============================] - 230s 461ms/step - loss: 3.1854 - accuracy: 0.4432 - top_k_categorical_accuracy: 0.7594 - val_loss: 2.7170 - val_accuracy: 0.5459 - val_top_k_categorical_accuracy: 0.8396\n",
            "Epoch 30/200\n",
            "500/500 [==============================] - 230s 460ms/step - loss: 3.1696 - accuracy: 0.4373 - top_k_categorical_accuracy: 0.7568 - val_loss: 2.6650 - val_accuracy: 0.5506 - val_top_k_categorical_accuracy: 0.8442\n",
            "Epoch 31/200\n",
            "500/500 [==============================] - 239s 478ms/step - loss: 3.1384 - accuracy: 0.4394 - top_k_categorical_accuracy: 0.7603 - val_loss: 2.6334 - val_accuracy: 0.5517 - val_top_k_categorical_accuracy: 0.8437\n",
            "Epoch 32/200\n",
            "500/500 [==============================] - 241s 482ms/step - loss: 3.1023 - accuracy: 0.4405 - top_k_categorical_accuracy: 0.7628 - val_loss: 2.5939 - val_accuracy: 0.5533 - val_top_k_categorical_accuracy: 0.8462\n",
            "Epoch 33/200\n",
            "500/500 [==============================] - 240s 481ms/step - loss: 3.0688 - accuracy: 0.4438 - top_k_categorical_accuracy: 0.7657 - val_loss: 2.5734 - val_accuracy: 0.5563 - val_top_k_categorical_accuracy: 0.8490\n",
            "Epoch 34/200\n",
            "500/500 [==============================] - 236s 472ms/step - loss: 3.0421 - accuracy: 0.4480 - top_k_categorical_accuracy: 0.7640 - val_loss: 2.5583 - val_accuracy: 0.5560 - val_top_k_categorical_accuracy: 0.8451\n",
            "Epoch 35/200\n",
            "500/500 [==============================] - 234s 469ms/step - loss: 3.0295 - accuracy: 0.4457 - top_k_categorical_accuracy: 0.7650 - val_loss: 2.4967 - val_accuracy: 0.5649 - val_top_k_categorical_accuracy: 0.8542\n",
            "Epoch 36/200\n",
            "500/500 [==============================] - 234s 468ms/step - loss: 2.9959 - accuracy: 0.4516 - top_k_categorical_accuracy: 0.7646 - val_loss: 2.4793 - val_accuracy: 0.5667 - val_top_k_categorical_accuracy: 0.8571\n",
            "Epoch 37/200\n",
            "500/500 [==============================] - 233s 467ms/step - loss: 2.9821 - accuracy: 0.4490 - top_k_categorical_accuracy: 0.7668 - val_loss: 2.5084 - val_accuracy: 0.5552 - val_top_k_categorical_accuracy: 0.8507\n",
            "Epoch 38/200\n",
            "500/500 [==============================] - 233s 466ms/step - loss: 2.9715 - accuracy: 0.4497 - top_k_categorical_accuracy: 0.7694 - val_loss: 2.4562 - val_accuracy: 0.5681 - val_top_k_categorical_accuracy: 0.8559\n",
            "Epoch 39/200\n",
            "500/500 [==============================] - 232s 465ms/step - loss: 2.9523 - accuracy: 0.4545 - top_k_categorical_accuracy: 0.7683 - val_loss: 2.4454 - val_accuracy: 0.5682 - val_top_k_categorical_accuracy: 0.8580\n",
            "Epoch 40/200\n",
            "500/500 [==============================] - 232s 464ms/step - loss: 2.9508 - accuracy: 0.4498 - top_k_categorical_accuracy: 0.7690 - val_loss: 2.4175 - val_accuracy: 0.5742 - val_top_k_categorical_accuracy: 0.8595\n",
            "Epoch 41/200\n",
            "500/500 [==============================] - 232s 465ms/step - loss: 2.9388 - accuracy: 0.4535 - top_k_categorical_accuracy: 0.7692 - val_loss: 2.4183 - val_accuracy: 0.5709 - val_top_k_categorical_accuracy: 0.8572\n",
            "Epoch 42/200\n",
            "500/500 [==============================] - 232s 464ms/step - loss: 2.9259 - accuracy: 0.4530 - top_k_categorical_accuracy: 0.7706 - val_loss: 2.4335 - val_accuracy: 0.5667 - val_top_k_categorical_accuracy: 0.8510\n",
            "Epoch 43/200\n",
            "500/500 [==============================] - 231s 462ms/step - loss: 2.9169 - accuracy: 0.4534 - top_k_categorical_accuracy: 0.7729 - val_loss: 2.4045 - val_accuracy: 0.5677 - val_top_k_categorical_accuracy: 0.8577\n",
            "Epoch 44/200\n",
            "500/500 [==============================] - 230s 460ms/step - loss: 2.8860 - accuracy: 0.4572 - top_k_categorical_accuracy: 0.7765 - val_loss: 2.4544 - val_accuracy: 0.5583 - val_top_k_categorical_accuracy: 0.8528\n",
            "Epoch 45/200\n",
            "500/500 [==============================] - 224s 449ms/step - loss: 2.9160 - accuracy: 0.4514 - top_k_categorical_accuracy: 0.7660 - val_loss: 2.4279 - val_accuracy: 0.5646 - val_top_k_categorical_accuracy: 0.8499\n",
            "Epoch 46/200\n",
            "500/500 [==============================] - 227s 454ms/step - loss: 2.9089 - accuracy: 0.4516 - top_k_categorical_accuracy: 0.7692 - val_loss: 2.4166 - val_accuracy: 0.5648 - val_top_k_categorical_accuracy: 0.8526\n",
            "Epoch 47/200\n",
            "500/500 [==============================] - 250s 501ms/step - loss: 2.8816 - accuracy: 0.4541 - top_k_categorical_accuracy: 0.7749 - val_loss: 2.3469 - val_accuracy: 0.5787 - val_top_k_categorical_accuracy: 0.8629\n",
            "Epoch 48/200\n",
            "500/500 [==============================] - 245s 491ms/step - loss: 2.8766 - accuracy: 0.4544 - top_k_categorical_accuracy: 0.7767 - val_loss: 2.4098 - val_accuracy: 0.5622 - val_top_k_categorical_accuracy: 0.8539\n",
            "Epoch 49/200\n",
            "500/500 [==============================] - 242s 484ms/step - loss: 2.8930 - accuracy: 0.4540 - top_k_categorical_accuracy: 0.7712 - val_loss: 2.3900 - val_accuracy: 0.5728 - val_top_k_categorical_accuracy: 0.8543\n",
            "Epoch 50/200\n",
            "500/500 [==============================] - 244s 489ms/step - loss: 2.8778 - accuracy: 0.4575 - top_k_categorical_accuracy: 0.7714 - val_loss: 2.3705 - val_accuracy: 0.5766 - val_top_k_categorical_accuracy: 0.8586\n",
            "Epoch 51/200\n",
            " 88/500 [====>.........................] - ETA: 2:07 - loss: 2.8769 - accuracy: 0.4562 - top_k_categorical_accuracy: 0.7693"
          ],
          "name": "stdout"
        },
        {
          "output_type": "error",
          "ename": "KeyboardInterrupt",
          "evalue": "ignored",
          "traceback": [
            "\u001b[0;31m---------------------------------------------------------------------------\u001b[0m",
            "\u001b[0;31mKeyboardInterrupt\u001b[0m                         Traceback (most recent call last)",
            "\u001b[0;32m<ipython-input-26-b361c42ef2ab>\u001b[0m in \u001b[0;36m<module>\u001b[0;34m()\u001b[0m\n\u001b[1;32m      4\u001b[0m                     \u001b[0;31m#callbacks=[lr_rate_scheduler, dropout_scheduler, tensorboard, checkpointer],\u001b[0m\u001b[0;34m\u001b[0m\u001b[0;34m\u001b[0m\u001b[0;34m\u001b[0m\u001b[0m\n\u001b[1;32m      5\u001b[0m                     \u001b[0mvalidation_data\u001b[0m\u001b[0;34m=\u001b[0m\u001b[0mvalid_flow\u001b[0m\u001b[0;34m,\u001b[0m\u001b[0;34m\u001b[0m\u001b[0;34m\u001b[0m\u001b[0m\n\u001b[0;32m----> 6\u001b[0;31m                     validation_steps=(len(x_train) / BATCH_SIZE))\n\u001b[0m",
            "\u001b[0;32m/usr/local/lib/python3.6/dist-packages/tensorflow/python/keras/engine/training.py\u001b[0m in \u001b[0;36mfit_generator\u001b[0;34m(self, generator, steps_per_epoch, epochs, verbose, callbacks, validation_data, validation_steps, validation_freq, class_weight, max_queue_size, workers, use_multiprocessing, shuffle, initial_epoch)\u001b[0m\n\u001b[1;32m   1859\u001b[0m         \u001b[0muse_multiprocessing\u001b[0m\u001b[0;34m=\u001b[0m\u001b[0muse_multiprocessing\u001b[0m\u001b[0;34m,\u001b[0m\u001b[0;34m\u001b[0m\u001b[0;34m\u001b[0m\u001b[0m\n\u001b[1;32m   1860\u001b[0m         \u001b[0mshuffle\u001b[0m\u001b[0;34m=\u001b[0m\u001b[0mshuffle\u001b[0m\u001b[0;34m,\u001b[0m\u001b[0;34m\u001b[0m\u001b[0;34m\u001b[0m\u001b[0m\n\u001b[0;32m-> 1861\u001b[0;31m         initial_epoch=initial_epoch)\n\u001b[0m\u001b[1;32m   1862\u001b[0m \u001b[0;34m\u001b[0m\u001b[0m\n\u001b[1;32m   1863\u001b[0m   def evaluate_generator(self,\n",
            "\u001b[0;32m/usr/local/lib/python3.6/dist-packages/tensorflow/python/keras/engine/training.py\u001b[0m in \u001b[0;36mfit\u001b[0;34m(self, x, y, batch_size, epochs, verbose, callbacks, validation_split, validation_data, shuffle, class_weight, sample_weight, initial_epoch, steps_per_epoch, validation_steps, validation_batch_size, validation_freq, max_queue_size, workers, use_multiprocessing)\u001b[0m\n\u001b[1;32m   1103\u001b[0m               \u001b[0mlogs\u001b[0m \u001b[0;34m=\u001b[0m \u001b[0mtmp_logs\u001b[0m  \u001b[0;31m# No error, now safe to assign to logs.\u001b[0m\u001b[0;34m\u001b[0m\u001b[0;34m\u001b[0m\u001b[0m\n\u001b[1;32m   1104\u001b[0m               \u001b[0mend_step\u001b[0m \u001b[0;34m=\u001b[0m \u001b[0mstep\u001b[0m \u001b[0;34m+\u001b[0m \u001b[0mdata_handler\u001b[0m\u001b[0;34m.\u001b[0m\u001b[0mstep_increment\u001b[0m\u001b[0;34m\u001b[0m\u001b[0;34m\u001b[0m\u001b[0m\n\u001b[0;32m-> 1105\u001b[0;31m               \u001b[0mcallbacks\u001b[0m\u001b[0;34m.\u001b[0m\u001b[0mon_train_batch_end\u001b[0m\u001b[0;34m(\u001b[0m\u001b[0mend_step\u001b[0m\u001b[0;34m,\u001b[0m \u001b[0mlogs\u001b[0m\u001b[0;34m)\u001b[0m\u001b[0;34m\u001b[0m\u001b[0;34m\u001b[0m\u001b[0m\n\u001b[0m\u001b[1;32m   1106\u001b[0m               \u001b[0;32mif\u001b[0m \u001b[0mself\u001b[0m\u001b[0;34m.\u001b[0m\u001b[0mstop_training\u001b[0m\u001b[0;34m:\u001b[0m\u001b[0;34m\u001b[0m\u001b[0;34m\u001b[0m\u001b[0m\n\u001b[1;32m   1107\u001b[0m                 \u001b[0;32mbreak\u001b[0m\u001b[0;34m\u001b[0m\u001b[0;34m\u001b[0m\u001b[0m\n",
            "\u001b[0;32m/usr/local/lib/python3.6/dist-packages/tensorflow/python/keras/callbacks.py\u001b[0m in \u001b[0;36mon_train_batch_end\u001b[0;34m(self, batch, logs)\u001b[0m\n\u001b[1;32m    452\u001b[0m     \"\"\"\n\u001b[1;32m    453\u001b[0m     \u001b[0;32mif\u001b[0m \u001b[0mself\u001b[0m\u001b[0;34m.\u001b[0m\u001b[0m_should_call_train_batch_hooks\u001b[0m\u001b[0;34m:\u001b[0m\u001b[0;34m\u001b[0m\u001b[0;34m\u001b[0m\u001b[0m\n\u001b[0;32m--> 454\u001b[0;31m       \u001b[0mself\u001b[0m\u001b[0;34m.\u001b[0m\u001b[0m_call_batch_hook\u001b[0m\u001b[0;34m(\u001b[0m\u001b[0mModeKeys\u001b[0m\u001b[0;34m.\u001b[0m\u001b[0mTRAIN\u001b[0m\u001b[0;34m,\u001b[0m \u001b[0;34m'end'\u001b[0m\u001b[0;34m,\u001b[0m \u001b[0mbatch\u001b[0m\u001b[0;34m,\u001b[0m \u001b[0mlogs\u001b[0m\u001b[0;34m=\u001b[0m\u001b[0mlogs\u001b[0m\u001b[0;34m)\u001b[0m\u001b[0;34m\u001b[0m\u001b[0;34m\u001b[0m\u001b[0m\n\u001b[0m\u001b[1;32m    455\u001b[0m \u001b[0;34m\u001b[0m\u001b[0m\n\u001b[1;32m    456\u001b[0m   \u001b[0;32mdef\u001b[0m \u001b[0mon_test_batch_begin\u001b[0m\u001b[0;34m(\u001b[0m\u001b[0mself\u001b[0m\u001b[0;34m,\u001b[0m \u001b[0mbatch\u001b[0m\u001b[0;34m,\u001b[0m \u001b[0mlogs\u001b[0m\u001b[0;34m=\u001b[0m\u001b[0;32mNone\u001b[0m\u001b[0;34m)\u001b[0m\u001b[0;34m:\u001b[0m\u001b[0;34m\u001b[0m\u001b[0;34m\u001b[0m\u001b[0m\n",
            "\u001b[0;32m/usr/local/lib/python3.6/dist-packages/tensorflow/python/keras/callbacks.py\u001b[0m in \u001b[0;36m_call_batch_hook\u001b[0;34m(self, mode, hook, batch, logs)\u001b[0m\n\u001b[1;32m    294\u001b[0m       \u001b[0mself\u001b[0m\u001b[0;34m.\u001b[0m\u001b[0m_call_batch_begin_hook\u001b[0m\u001b[0;34m(\u001b[0m\u001b[0mmode\u001b[0m\u001b[0;34m,\u001b[0m \u001b[0mbatch\u001b[0m\u001b[0;34m,\u001b[0m \u001b[0mlogs\u001b[0m\u001b[0;34m)\u001b[0m\u001b[0;34m\u001b[0m\u001b[0;34m\u001b[0m\u001b[0m\n\u001b[1;32m    295\u001b[0m     \u001b[0;32melif\u001b[0m \u001b[0mhook\u001b[0m \u001b[0;34m==\u001b[0m \u001b[0;34m'end'\u001b[0m\u001b[0;34m:\u001b[0m\u001b[0;34m\u001b[0m\u001b[0;34m\u001b[0m\u001b[0m\n\u001b[0;32m--> 296\u001b[0;31m       \u001b[0mself\u001b[0m\u001b[0;34m.\u001b[0m\u001b[0m_call_batch_end_hook\u001b[0m\u001b[0;34m(\u001b[0m\u001b[0mmode\u001b[0m\u001b[0;34m,\u001b[0m \u001b[0mbatch\u001b[0m\u001b[0;34m,\u001b[0m \u001b[0mlogs\u001b[0m\u001b[0;34m)\u001b[0m\u001b[0;34m\u001b[0m\u001b[0;34m\u001b[0m\u001b[0m\n\u001b[0m\u001b[1;32m    297\u001b[0m     \u001b[0;32melse\u001b[0m\u001b[0;34m:\u001b[0m\u001b[0;34m\u001b[0m\u001b[0;34m\u001b[0m\u001b[0m\n\u001b[1;32m    298\u001b[0m       \u001b[0;32mraise\u001b[0m \u001b[0mValueError\u001b[0m\u001b[0;34m(\u001b[0m\u001b[0;34m'Unrecognized hook: {}'\u001b[0m\u001b[0;34m.\u001b[0m\u001b[0mformat\u001b[0m\u001b[0;34m(\u001b[0m\u001b[0mhook\u001b[0m\u001b[0;34m)\u001b[0m\u001b[0;34m)\u001b[0m\u001b[0;34m\u001b[0m\u001b[0;34m\u001b[0m\u001b[0m\n",
            "\u001b[0;32m/usr/local/lib/python3.6/dist-packages/tensorflow/python/keras/callbacks.py\u001b[0m in \u001b[0;36m_call_batch_end_hook\u001b[0;34m(self, mode, batch, logs)\u001b[0m\n\u001b[1;32m    314\u001b[0m       \u001b[0mself\u001b[0m\u001b[0;34m.\u001b[0m\u001b[0m_batch_times\u001b[0m\u001b[0;34m.\u001b[0m\u001b[0mappend\u001b[0m\u001b[0;34m(\u001b[0m\u001b[0mbatch_time\u001b[0m\u001b[0;34m)\u001b[0m\u001b[0;34m\u001b[0m\u001b[0;34m\u001b[0m\u001b[0m\n\u001b[1;32m    315\u001b[0m \u001b[0;34m\u001b[0m\u001b[0m\n\u001b[0;32m--> 316\u001b[0;31m     \u001b[0mself\u001b[0m\u001b[0;34m.\u001b[0m\u001b[0m_call_batch_hook_helper\u001b[0m\u001b[0;34m(\u001b[0m\u001b[0mhook_name\u001b[0m\u001b[0;34m,\u001b[0m \u001b[0mbatch\u001b[0m\u001b[0;34m,\u001b[0m \u001b[0mlogs\u001b[0m\u001b[0;34m)\u001b[0m\u001b[0;34m\u001b[0m\u001b[0;34m\u001b[0m\u001b[0m\n\u001b[0m\u001b[1;32m    317\u001b[0m \u001b[0;34m\u001b[0m\u001b[0m\n\u001b[1;32m    318\u001b[0m     \u001b[0;32mif\u001b[0m \u001b[0mlen\u001b[0m\u001b[0;34m(\u001b[0m\u001b[0mself\u001b[0m\u001b[0;34m.\u001b[0m\u001b[0m_batch_times\u001b[0m\u001b[0;34m)\u001b[0m \u001b[0;34m>=\u001b[0m \u001b[0mself\u001b[0m\u001b[0;34m.\u001b[0m\u001b[0m_num_batches_for_timing_check\u001b[0m\u001b[0;34m:\u001b[0m\u001b[0;34m\u001b[0m\u001b[0;34m\u001b[0m\u001b[0m\n",
            "\u001b[0;32m/usr/local/lib/python3.6/dist-packages/tensorflow/python/keras/callbacks.py\u001b[0m in \u001b[0;36m_call_batch_hook_helper\u001b[0;34m(self, hook_name, batch, logs)\u001b[0m\n\u001b[1;32m    354\u001b[0m       \u001b[0mhook\u001b[0m \u001b[0;34m=\u001b[0m \u001b[0mgetattr\u001b[0m\u001b[0;34m(\u001b[0m\u001b[0mcallback\u001b[0m\u001b[0;34m,\u001b[0m \u001b[0mhook_name\u001b[0m\u001b[0;34m)\u001b[0m\u001b[0;34m\u001b[0m\u001b[0;34m\u001b[0m\u001b[0m\n\u001b[1;32m    355\u001b[0m       \u001b[0;32mif\u001b[0m \u001b[0mgetattr\u001b[0m\u001b[0;34m(\u001b[0m\u001b[0mcallback\u001b[0m\u001b[0;34m,\u001b[0m \u001b[0;34m'_supports_tf_logs'\u001b[0m\u001b[0;34m,\u001b[0m \u001b[0;32mFalse\u001b[0m\u001b[0;34m)\u001b[0m\u001b[0;34m:\u001b[0m\u001b[0;34m\u001b[0m\u001b[0;34m\u001b[0m\u001b[0m\n\u001b[0;32m--> 356\u001b[0;31m         \u001b[0mhook\u001b[0m\u001b[0;34m(\u001b[0m\u001b[0mbatch\u001b[0m\u001b[0;34m,\u001b[0m \u001b[0mlogs\u001b[0m\u001b[0;34m)\u001b[0m\u001b[0;34m\u001b[0m\u001b[0;34m\u001b[0m\u001b[0m\n\u001b[0m\u001b[1;32m    357\u001b[0m       \u001b[0;32melse\u001b[0m\u001b[0;34m:\u001b[0m\u001b[0;34m\u001b[0m\u001b[0;34m\u001b[0m\u001b[0m\n\u001b[1;32m    358\u001b[0m         \u001b[0;32mif\u001b[0m \u001b[0mnumpy_logs\u001b[0m \u001b[0;32mis\u001b[0m \u001b[0;32mNone\u001b[0m\u001b[0;34m:\u001b[0m  \u001b[0;31m# Only convert once.\u001b[0m\u001b[0;34m\u001b[0m\u001b[0;34m\u001b[0m\u001b[0m\n",
            "\u001b[0;32m/usr/local/lib/python3.6/dist-packages/tensorflow/python/keras/callbacks.py\u001b[0m in \u001b[0;36mon_train_batch_end\u001b[0;34m(self, batch, logs)\u001b[0m\n\u001b[1;32m   1018\u001b[0m \u001b[0;34m\u001b[0m\u001b[0m\n\u001b[1;32m   1019\u001b[0m   \u001b[0;32mdef\u001b[0m \u001b[0mon_train_batch_end\u001b[0m\u001b[0;34m(\u001b[0m\u001b[0mself\u001b[0m\u001b[0;34m,\u001b[0m \u001b[0mbatch\u001b[0m\u001b[0;34m,\u001b[0m \u001b[0mlogs\u001b[0m\u001b[0;34m=\u001b[0m\u001b[0;32mNone\u001b[0m\u001b[0;34m)\u001b[0m\u001b[0;34m:\u001b[0m\u001b[0;34m\u001b[0m\u001b[0;34m\u001b[0m\u001b[0m\n\u001b[0;32m-> 1020\u001b[0;31m     \u001b[0mself\u001b[0m\u001b[0;34m.\u001b[0m\u001b[0m_batch_update_progbar\u001b[0m\u001b[0;34m(\u001b[0m\u001b[0mbatch\u001b[0m\u001b[0;34m,\u001b[0m \u001b[0mlogs\u001b[0m\u001b[0;34m)\u001b[0m\u001b[0;34m\u001b[0m\u001b[0;34m\u001b[0m\u001b[0m\n\u001b[0m\u001b[1;32m   1021\u001b[0m \u001b[0;34m\u001b[0m\u001b[0m\n\u001b[1;32m   1022\u001b[0m   \u001b[0;32mdef\u001b[0m \u001b[0mon_test_batch_end\u001b[0m\u001b[0;34m(\u001b[0m\u001b[0mself\u001b[0m\u001b[0;34m,\u001b[0m \u001b[0mbatch\u001b[0m\u001b[0;34m,\u001b[0m \u001b[0mlogs\u001b[0m\u001b[0;34m=\u001b[0m\u001b[0;32mNone\u001b[0m\u001b[0;34m)\u001b[0m\u001b[0;34m:\u001b[0m\u001b[0;34m\u001b[0m\u001b[0;34m\u001b[0m\u001b[0m\n",
            "\u001b[0;32m/usr/local/lib/python3.6/dist-packages/tensorflow/python/keras/callbacks.py\u001b[0m in \u001b[0;36m_batch_update_progbar\u001b[0;34m(self, batch, logs)\u001b[0m\n\u001b[1;32m   1082\u001b[0m     \u001b[0;32mif\u001b[0m \u001b[0mself\u001b[0m\u001b[0;34m.\u001b[0m\u001b[0mverbose\u001b[0m \u001b[0;34m==\u001b[0m \u001b[0;36m1\u001b[0m\u001b[0;34m:\u001b[0m\u001b[0;34m\u001b[0m\u001b[0;34m\u001b[0m\u001b[0m\n\u001b[1;32m   1083\u001b[0m       \u001b[0;31m# Only block async when verbose = 1.\u001b[0m\u001b[0;34m\u001b[0m\u001b[0;34m\u001b[0m\u001b[0;34m\u001b[0m\u001b[0m\n\u001b[0;32m-> 1084\u001b[0;31m       \u001b[0mlogs\u001b[0m \u001b[0;34m=\u001b[0m \u001b[0mtf_utils\u001b[0m\u001b[0;34m.\u001b[0m\u001b[0mto_numpy_or_python_type\u001b[0m\u001b[0;34m(\u001b[0m\u001b[0mlogs\u001b[0m\u001b[0;34m)\u001b[0m\u001b[0;34m\u001b[0m\u001b[0;34m\u001b[0m\u001b[0m\n\u001b[0m\u001b[1;32m   1085\u001b[0m       \u001b[0mself\u001b[0m\u001b[0;34m.\u001b[0m\u001b[0mprogbar\u001b[0m\u001b[0;34m.\u001b[0m\u001b[0mupdate\u001b[0m\u001b[0;34m(\u001b[0m\u001b[0mself\u001b[0m\u001b[0;34m.\u001b[0m\u001b[0mseen\u001b[0m\u001b[0;34m,\u001b[0m \u001b[0mlist\u001b[0m\u001b[0;34m(\u001b[0m\u001b[0mlogs\u001b[0m\u001b[0;34m.\u001b[0m\u001b[0mitems\u001b[0m\u001b[0;34m(\u001b[0m\u001b[0;34m)\u001b[0m\u001b[0;34m)\u001b[0m\u001b[0;34m,\u001b[0m \u001b[0mfinalize\u001b[0m\u001b[0;34m=\u001b[0m\u001b[0;32mFalse\u001b[0m\u001b[0;34m)\u001b[0m\u001b[0;34m\u001b[0m\u001b[0;34m\u001b[0m\u001b[0m\n\u001b[1;32m   1086\u001b[0m \u001b[0;34m\u001b[0m\u001b[0m\n",
            "\u001b[0;32m/usr/local/lib/python3.6/dist-packages/tensorflow/python/keras/utils/tf_utils.py\u001b[0m in \u001b[0;36mto_numpy_or_python_type\u001b[0;34m(tensors)\u001b[0m\n\u001b[1;32m    512\u001b[0m     \u001b[0;32mreturn\u001b[0m \u001b[0mt\u001b[0m  \u001b[0;31m# Don't turn ragged or sparse tensors to NumPy.\u001b[0m\u001b[0;34m\u001b[0m\u001b[0;34m\u001b[0m\u001b[0m\n\u001b[1;32m    513\u001b[0m \u001b[0;34m\u001b[0m\u001b[0m\n\u001b[0;32m--> 514\u001b[0;31m   \u001b[0;32mreturn\u001b[0m \u001b[0mnest\u001b[0m\u001b[0;34m.\u001b[0m\u001b[0mmap_structure\u001b[0m\u001b[0;34m(\u001b[0m\u001b[0m_to_single_numpy_or_python_type\u001b[0m\u001b[0;34m,\u001b[0m \u001b[0mtensors\u001b[0m\u001b[0;34m)\u001b[0m\u001b[0;34m\u001b[0m\u001b[0;34m\u001b[0m\u001b[0m\n\u001b[0m\u001b[1;32m    515\u001b[0m \u001b[0;34m\u001b[0m\u001b[0m\n\u001b[1;32m    516\u001b[0m \u001b[0;34m\u001b[0m\u001b[0m\n",
            "\u001b[0;32m/usr/local/lib/python3.6/dist-packages/tensorflow/python/util/nest.py\u001b[0m in \u001b[0;36mmap_structure\u001b[0;34m(func, *structure, **kwargs)\u001b[0m\n\u001b[1;32m    657\u001b[0m \u001b[0;34m\u001b[0m\u001b[0m\n\u001b[1;32m    658\u001b[0m   return pack_sequence_as(\n\u001b[0;32m--> 659\u001b[0;31m       \u001b[0mstructure\u001b[0m\u001b[0;34m[\u001b[0m\u001b[0;36m0\u001b[0m\u001b[0;34m]\u001b[0m\u001b[0;34m,\u001b[0m \u001b[0;34m[\u001b[0m\u001b[0mfunc\u001b[0m\u001b[0;34m(\u001b[0m\u001b[0;34m*\u001b[0m\u001b[0mx\u001b[0m\u001b[0;34m)\u001b[0m \u001b[0;32mfor\u001b[0m \u001b[0mx\u001b[0m \u001b[0;32min\u001b[0m \u001b[0mentries\u001b[0m\u001b[0;34m]\u001b[0m\u001b[0;34m,\u001b[0m\u001b[0;34m\u001b[0m\u001b[0;34m\u001b[0m\u001b[0m\n\u001b[0m\u001b[1;32m    660\u001b[0m       expand_composites=expand_composites)\n\u001b[1;32m    661\u001b[0m \u001b[0;34m\u001b[0m\u001b[0m\n",
            "\u001b[0;32m/usr/local/lib/python3.6/dist-packages/tensorflow/python/util/nest.py\u001b[0m in \u001b[0;36m<listcomp>\u001b[0;34m(.0)\u001b[0m\n\u001b[1;32m    657\u001b[0m \u001b[0;34m\u001b[0m\u001b[0m\n\u001b[1;32m    658\u001b[0m   return pack_sequence_as(\n\u001b[0;32m--> 659\u001b[0;31m       \u001b[0mstructure\u001b[0m\u001b[0;34m[\u001b[0m\u001b[0;36m0\u001b[0m\u001b[0;34m]\u001b[0m\u001b[0;34m,\u001b[0m \u001b[0;34m[\u001b[0m\u001b[0mfunc\u001b[0m\u001b[0;34m(\u001b[0m\u001b[0;34m*\u001b[0m\u001b[0mx\u001b[0m\u001b[0;34m)\u001b[0m \u001b[0;32mfor\u001b[0m \u001b[0mx\u001b[0m \u001b[0;32min\u001b[0m \u001b[0mentries\u001b[0m\u001b[0;34m]\u001b[0m\u001b[0;34m,\u001b[0m\u001b[0;34m\u001b[0m\u001b[0;34m\u001b[0m\u001b[0m\n\u001b[0m\u001b[1;32m    660\u001b[0m       expand_composites=expand_composites)\n\u001b[1;32m    661\u001b[0m \u001b[0;34m\u001b[0m\u001b[0m\n",
            "\u001b[0;32m/usr/local/lib/python3.6/dist-packages/tensorflow/python/keras/utils/tf_utils.py\u001b[0m in \u001b[0;36m_to_single_numpy_or_python_type\u001b[0;34m(t)\u001b[0m\n\u001b[1;32m    508\u001b[0m   \u001b[0;32mdef\u001b[0m \u001b[0m_to_single_numpy_or_python_type\u001b[0m\u001b[0;34m(\u001b[0m\u001b[0mt\u001b[0m\u001b[0;34m)\u001b[0m\u001b[0;34m:\u001b[0m\u001b[0;34m\u001b[0m\u001b[0;34m\u001b[0m\u001b[0m\n\u001b[1;32m    509\u001b[0m     \u001b[0;32mif\u001b[0m \u001b[0misinstance\u001b[0m\u001b[0;34m(\u001b[0m\u001b[0mt\u001b[0m\u001b[0;34m,\u001b[0m \u001b[0mops\u001b[0m\u001b[0;34m.\u001b[0m\u001b[0mTensor\u001b[0m\u001b[0;34m)\u001b[0m\u001b[0;34m:\u001b[0m\u001b[0;34m\u001b[0m\u001b[0;34m\u001b[0m\u001b[0m\n\u001b[0;32m--> 510\u001b[0;31m       \u001b[0mx\u001b[0m \u001b[0;34m=\u001b[0m \u001b[0mt\u001b[0m\u001b[0;34m.\u001b[0m\u001b[0mnumpy\u001b[0m\u001b[0;34m(\u001b[0m\u001b[0;34m)\u001b[0m\u001b[0;34m\u001b[0m\u001b[0;34m\u001b[0m\u001b[0m\n\u001b[0m\u001b[1;32m    511\u001b[0m       \u001b[0;32mreturn\u001b[0m \u001b[0mx\u001b[0m\u001b[0;34m.\u001b[0m\u001b[0mitem\u001b[0m\u001b[0;34m(\u001b[0m\u001b[0;34m)\u001b[0m \u001b[0;32mif\u001b[0m \u001b[0mnp\u001b[0m\u001b[0;34m.\u001b[0m\u001b[0mndim\u001b[0m\u001b[0;34m(\u001b[0m\u001b[0mx\u001b[0m\u001b[0;34m)\u001b[0m \u001b[0;34m==\u001b[0m \u001b[0;36m0\u001b[0m \u001b[0;32melse\u001b[0m \u001b[0mx\u001b[0m\u001b[0;34m\u001b[0m\u001b[0;34m\u001b[0m\u001b[0m\n\u001b[1;32m    512\u001b[0m     \u001b[0;32mreturn\u001b[0m \u001b[0mt\u001b[0m  \u001b[0;31m# Don't turn ragged or sparse tensors to NumPy.\u001b[0m\u001b[0;34m\u001b[0m\u001b[0;34m\u001b[0m\u001b[0m\n",
            "\u001b[0;32m/usr/local/lib/python3.6/dist-packages/tensorflow/python/framework/ops.py\u001b[0m in \u001b[0;36mnumpy\u001b[0;34m(self)\u001b[0m\n\u001b[1;32m   1069\u001b[0m     \"\"\"\n\u001b[1;32m   1070\u001b[0m     \u001b[0;31m# TODO(slebedev): Consider avoiding a copy for non-CPU or remote tensors.\u001b[0m\u001b[0;34m\u001b[0m\u001b[0;34m\u001b[0m\u001b[0;34m\u001b[0m\u001b[0m\n\u001b[0;32m-> 1071\u001b[0;31m     \u001b[0mmaybe_arr\u001b[0m \u001b[0;34m=\u001b[0m \u001b[0mself\u001b[0m\u001b[0;34m.\u001b[0m\u001b[0m_numpy\u001b[0m\u001b[0;34m(\u001b[0m\u001b[0;34m)\u001b[0m  \u001b[0;31m# pylint: disable=protected-access\u001b[0m\u001b[0;34m\u001b[0m\u001b[0;34m\u001b[0m\u001b[0m\n\u001b[0m\u001b[1;32m   1072\u001b[0m     \u001b[0;32mreturn\u001b[0m \u001b[0mmaybe_arr\u001b[0m\u001b[0;34m.\u001b[0m\u001b[0mcopy\u001b[0m\u001b[0;34m(\u001b[0m\u001b[0;34m)\u001b[0m \u001b[0;32mif\u001b[0m \u001b[0misinstance\u001b[0m\u001b[0;34m(\u001b[0m\u001b[0mmaybe_arr\u001b[0m\u001b[0;34m,\u001b[0m \u001b[0mnp\u001b[0m\u001b[0;34m.\u001b[0m\u001b[0mndarray\u001b[0m\u001b[0;34m)\u001b[0m \u001b[0;32melse\u001b[0m \u001b[0mmaybe_arr\u001b[0m\u001b[0;34m\u001b[0m\u001b[0;34m\u001b[0m\u001b[0m\n\u001b[1;32m   1073\u001b[0m \u001b[0;34m\u001b[0m\u001b[0m\n",
            "\u001b[0;32m/usr/local/lib/python3.6/dist-packages/tensorflow/python/framework/ops.py\u001b[0m in \u001b[0;36m_numpy\u001b[0;34m(self)\u001b[0m\n\u001b[1;32m   1035\u001b[0m   \u001b[0;32mdef\u001b[0m \u001b[0m_numpy\u001b[0m\u001b[0;34m(\u001b[0m\u001b[0mself\u001b[0m\u001b[0;34m)\u001b[0m\u001b[0;34m:\u001b[0m\u001b[0;34m\u001b[0m\u001b[0;34m\u001b[0m\u001b[0m\n\u001b[1;32m   1036\u001b[0m     \u001b[0;32mtry\u001b[0m\u001b[0;34m:\u001b[0m\u001b[0;34m\u001b[0m\u001b[0;34m\u001b[0m\u001b[0m\n\u001b[0;32m-> 1037\u001b[0;31m       \u001b[0;32mreturn\u001b[0m \u001b[0mself\u001b[0m\u001b[0;34m.\u001b[0m\u001b[0m_numpy_internal\u001b[0m\u001b[0;34m(\u001b[0m\u001b[0;34m)\u001b[0m\u001b[0;34m\u001b[0m\u001b[0;34m\u001b[0m\u001b[0m\n\u001b[0m\u001b[1;32m   1038\u001b[0m     \u001b[0;32mexcept\u001b[0m \u001b[0mcore\u001b[0m\u001b[0;34m.\u001b[0m\u001b[0m_NotOkStatusException\u001b[0m \u001b[0;32mas\u001b[0m \u001b[0me\u001b[0m\u001b[0;34m:\u001b[0m  \u001b[0;31m# pylint: disable=protected-access\u001b[0m\u001b[0;34m\u001b[0m\u001b[0;34m\u001b[0m\u001b[0m\n\u001b[1;32m   1039\u001b[0m       \u001b[0msix\u001b[0m\u001b[0;34m.\u001b[0m\u001b[0mraise_from\u001b[0m\u001b[0;34m(\u001b[0m\u001b[0mcore\u001b[0m\u001b[0;34m.\u001b[0m\u001b[0m_status_to_exception\u001b[0m\u001b[0;34m(\u001b[0m\u001b[0me\u001b[0m\u001b[0;34m.\u001b[0m\u001b[0mcode\u001b[0m\u001b[0;34m,\u001b[0m \u001b[0me\u001b[0m\u001b[0;34m.\u001b[0m\u001b[0mmessage\u001b[0m\u001b[0;34m)\u001b[0m\u001b[0;34m,\u001b[0m \u001b[0;32mNone\u001b[0m\u001b[0;34m)\u001b[0m  \u001b[0;31m# pylint: disable=protected-access\u001b[0m\u001b[0;34m\u001b[0m\u001b[0;34m\u001b[0m\u001b[0m\n",
            "\u001b[0;31mKeyboardInterrupt\u001b[0m: "
          ]
        }
      ]
    },
    {
      "cell_type": "code",
      "metadata": {
        "id": "sOrIfhGri0Tm",
        "colab": {
          "base_uri": "https://localhost:8080/",
          "height": 231
        },
        "outputId": "75876f72-5fa4-4ebb-f32d-410d6d28a065"
      },
      "source": [
        "plt.plot(h.history['accuracy'])\n",
        "plt.title('Model Accuracy')\n",
        "plt.xlabel('EPOCHS')\n",
        "plt.ylable('Accuracy')\n",
        "plt.show()"
      ],
      "execution_count": 28,
      "outputs": [
        {
          "output_type": "error",
          "ename": "NameError",
          "evalue": "ignored",
          "traceback": [
            "\u001b[0;31m---------------------------------------------------------------------------\u001b[0m",
            "\u001b[0;31mNameError\u001b[0m                                 Traceback (most recent call last)",
            "\u001b[0;32m<ipython-input-28-108269889981>\u001b[0m in \u001b[0;36m<module>\u001b[0;34m()\u001b[0m\n\u001b[0;32m----> 1\u001b[0;31m \u001b[0mplt\u001b[0m\u001b[0;34m.\u001b[0m\u001b[0mplot\u001b[0m\u001b[0;34m(\u001b[0m\u001b[0mh\u001b[0m\u001b[0;34m.\u001b[0m\u001b[0mhistory\u001b[0m\u001b[0;34m[\u001b[0m\u001b[0;34m'accuracy'\u001b[0m\u001b[0;34m]\u001b[0m\u001b[0;34m)\u001b[0m\u001b[0;34m\u001b[0m\u001b[0;34m\u001b[0m\u001b[0m\n\u001b[0m\u001b[1;32m      2\u001b[0m \u001b[0mplt\u001b[0m\u001b[0;34m.\u001b[0m\u001b[0mtitle\u001b[0m\u001b[0;34m(\u001b[0m\u001b[0;34m'Model Accuracy'\u001b[0m\u001b[0;34m)\u001b[0m\u001b[0;34m\u001b[0m\u001b[0;34m\u001b[0m\u001b[0m\n\u001b[1;32m      3\u001b[0m \u001b[0mplt\u001b[0m\u001b[0;34m.\u001b[0m\u001b[0mxlabel\u001b[0m\u001b[0;34m(\u001b[0m\u001b[0;34m'EPOCHS'\u001b[0m\u001b[0;34m)\u001b[0m\u001b[0;34m\u001b[0m\u001b[0;34m\u001b[0m\u001b[0m\n\u001b[1;32m      4\u001b[0m \u001b[0mplt\u001b[0m\u001b[0;34m.\u001b[0m\u001b[0mylable\u001b[0m\u001b[0;34m(\u001b[0m\u001b[0;34m'Accuracy'\u001b[0m\u001b[0;34m)\u001b[0m\u001b[0;34m\u001b[0m\u001b[0;34m\u001b[0m\u001b[0m\n\u001b[1;32m      5\u001b[0m \u001b[0mplt\u001b[0m\u001b[0;34m.\u001b[0m\u001b[0mshow\u001b[0m\u001b[0;34m(\u001b[0m\u001b[0;34m)\u001b[0m\u001b[0;34m\u001b[0m\u001b[0;34m\u001b[0m\u001b[0m\n",
            "\u001b[0;31mNameError\u001b[0m: name 'h' is not defined"
          ]
        }
      ]
    },
    {
      "cell_type": "code",
      "metadata": {
        "id": "K8uR8oePlBi1",
        "colab": {
          "base_uri": "https://localhost:8080/"
        },
        "outputId": "15747166-5cde-4410-a0dc-b47f17b56b7d"
      },
      "source": [
        "score = model.evaluate(x_test, y_test)\n",
        "print('Test Accuracy: %0.4f%%' % (score[0] * 100))"
      ],
      "execution_count": 30,
      "outputs": [
        {
          "output_type": "stream",
          "text": [
            "313/313 [==============================] - 12s 36ms/step - loss: 9.3318 - accuracy: 0.0182 - top_k_categorical_accuracy: 0.0770\n",
            "Test Accuracy: 933.1774%\n"
          ],
          "name": "stdout"
        }
      ]
    },
    {
      "cell_type": "code",
      "metadata": {
        "id": "OPn1J9NIfm3u"
      },
      "source": [
        "hh=model.fit_generator(train_flow_w_crops,\n",
        "                    epochs=EPOCHS,\n",
        "                    steps_per_epoch=len(x_train) / BATCH_SIZE,\n",
        "                    callbacks=[lr_rate_scheduler, tensorboard, checkpointer],\n",
        "                    validation_data=valid_flow,\n",
        "                    validation_steps=(len(x_train) / BATCH_SIZE))"
      ],
      "execution_count": null,
      "outputs": []
    }
  ]
}