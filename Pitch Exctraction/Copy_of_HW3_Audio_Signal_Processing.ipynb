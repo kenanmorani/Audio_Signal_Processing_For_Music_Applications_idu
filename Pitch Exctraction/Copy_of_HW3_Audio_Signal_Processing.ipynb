{
  "nbformat": 4,
  "nbformat_minor": 0,
  "metadata": {
    "colab": {
      "name": "Copy of HW3_Audio_Signal_Processing.ipynb",
      "provenance": [],
      "collapsed_sections": [],
      "include_colab_link": true
    },
    "kernelspec": {
      "display_name": "Python 3",
      "language": "python",
      "name": "python3"
    },
    "language_info": {
      "codemirror_mode": {
        "name": "ipython",
        "version": 3
      },
      "file_extension": ".py",
      "mimetype": "text/x-python",
      "name": "python",
      "nbconvert_exporter": "python",
      "pygments_lexer": "ipython3",
      "version": "3.6.7"
    }
  },
  "cells": [
    {
      "cell_type": "markdown",
      "metadata": {
        "id": "view-in-github",
        "colab_type": "text"
      },
      "source": [
        "<a href=\"https://colab.research.google.com/github/kenanmorani/Audio_Signal_Processing_For_Music_Applications_idu/blob/main/Pitch%20Exctraction/Copy_of_HW3_Audio_Signal_Processing.ipynb\" target=\"_parent\"><img src=\"https://colab.research.google.com/assets/colab-badge.svg\" alt=\"Open In Colab\"/></a>"
      ]
    },
    {
      "cell_type": "markdown",
      "metadata": {
        "id": "813w7nF0E0r_"
      },
      "source": [
        "# HW3 Audio Signal Processing for Music Applications course\n",
        "Izmir Democracy University, Electrical and Electronics Program    \n",
        "Submitted to Professor Barsi Bozkurt      \n",
        "Submitted by Kenan MORANI     "
      ]
    },
    {
      "cell_type": "markdown",
      "metadata": {
        "id": "NEXra68zL6MF"
      },
      "source": [
        "# Installing and importing the required libraries"
      ]
    },
    {
      "cell_type": "code",
      "metadata": {
        "colab": {
          "base_uri": "https://localhost:8080/"
        },
        "id": "IyIgmh-aq29r",
        "outputId": "733ce0f7-1db8-426b-a367-94008410baf1"
      },
      "source": [
        "!pip install essentia mir_eval pysoundfile"
      ],
      "execution_count": null,
      "outputs": [
        {
          "output_type": "stream",
          "text": [
            "Collecting essentia\n",
            "\u001b[?25l  Downloading https://files.pythonhosted.org/packages/c7/38/97727f544712a2b0c1d7fcbf220b05fae257ae869adb5c0c33f486201528/essentia-2.1b6.dev374-cp36-cp36m-manylinux1_x86_64.whl (12.0MB)\n",
            "\u001b[K     |████████████████████████████████| 12.0MB 8.7MB/s \n",
            "\u001b[?25hCollecting mir_eval\n",
            "\u001b[?25l  Downloading https://files.pythonhosted.org/packages/0a/fe/be4f7a59ed71938e21e89f23afe93eea0d39eb3e77f83754a12028cf1a68/mir_eval-0.6.tar.gz (87kB)\n",
            "\u001b[K     |████████████████████████████████| 92kB 9.1MB/s \n",
            "\u001b[?25hCollecting pysoundfile\n",
            "  Downloading https://files.pythonhosted.org/packages/2a/b3/0b871e5fd31b9a8e54b4ee359384e705a1ca1e2870706d2f081dc7cc1693/PySoundFile-0.9.0.post1-py2.py3-none-any.whl\n",
            "Requirement already satisfied: pyyaml in /usr/local/lib/python3.6/dist-packages (from essentia) (3.13)\n",
            "Requirement already satisfied: numpy>=1.8.2 in /usr/local/lib/python3.6/dist-packages (from essentia) (1.19.5)\n",
            "Requirement already satisfied: six in /usr/local/lib/python3.6/dist-packages (from essentia) (1.15.0)\n",
            "Requirement already satisfied: scipy>=1.0.0 in /usr/local/lib/python3.6/dist-packages (from mir_eval) (1.4.1)\n",
            "Requirement already satisfied: future in /usr/local/lib/python3.6/dist-packages (from mir_eval) (0.16.0)\n",
            "Requirement already satisfied: cffi>=0.6 in /usr/local/lib/python3.6/dist-packages (from pysoundfile) (1.14.4)\n",
            "Requirement already satisfied: pycparser in /usr/local/lib/python3.6/dist-packages (from cffi>=0.6->pysoundfile) (2.20)\n",
            "Building wheels for collected packages: mir-eval\n",
            "  Building wheel for mir-eval (setup.py) ... \u001b[?25l\u001b[?25hdone\n",
            "  Created wheel for mir-eval: filename=mir_eval-0.6-cp36-none-any.whl size=96515 sha256=5c10d91a64e9a1437e9de7457000544f3b30fd94985d81e8ee7ab04eeec9ef1d\n",
            "  Stored in directory: /root/.cache/pip/wheels/49/ce/30/730fa72addf275e49d90683b01b3613048b4be3bf7ff8eb6ec\n",
            "Successfully built mir-eval\n",
            "Installing collected packages: essentia, mir-eval, pysoundfile\n",
            "Successfully installed essentia-2.1b6.dev374 mir-eval-0.6 pysoundfile-0.9.0.post1\n"
          ],
          "name": "stdout"
        }
      ]
    },
    {
      "cell_type": "code",
      "metadata": {
        "id": "p9G8MdxSE0sE"
      },
      "source": [
        "import os\n",
        "from essentia import *\n",
        "from essentia.standard import *\n",
        "import matplotlib.pyplot as plt\n",
        "import numpy as np\n",
        "from scipy.signal import get_window\n",
        "import soundfile as sf\n",
        "import urllib.request\n",
        "from IPython.display import Audio\n",
        "import mir_eval"
      ],
      "execution_count": null,
      "outputs": []
    },
    {
      "cell_type": "code",
      "metadata": {
        "id": "IkmVYNdtE0sH",
        "colab": {
          "base_uri": "https://localhost:8080/",
          "height": 1000
        },
        "outputId": "5d4fc06c-10d4-4e26-d69d-e0b240aaaca8"
      },
      "source": [
        "#Downloading a standard mir dataset\n",
        "!pip install mirdata\n",
        "import mirdata\n",
        "orchset = mirdata.initialize('orchset')\n",
        "orchset.download()"
      ],
      "execution_count": null,
      "outputs": [
        {
          "output_type": "stream",
          "text": [
            "Collecting mirdata\n",
            "\u001b[?25l  Downloading https://files.pythonhosted.org/packages/ad/20/989b7d3113920bea268d2de6912772faea08ae4009a92b7aa1ce080f8353/mirdata-0.3.0-py3-none-any.whl (6.1MB)\n",
            "\u001b[K     |████████████████████████████████| 6.1MB 6.6MB/s \n",
            "\u001b[?25hCollecting jams\n",
            "\u001b[?25l  Downloading https://files.pythonhosted.org/packages/cc/1a/761a500a9512937931e325b8950195f17e5ba991c92d38d2079a2d8c5590/jams-0.3.4.tar.gz (51kB)\n",
            "\u001b[K     |████████████████████████████████| 61kB 7.0MB/s \n",
            "\u001b[?25hRequirement already satisfied: tqdm in /usr/local/lib/python3.6/dist-packages (from mirdata) (4.41.1)\n",
            "Requirement already satisfied: numpy>=1.16 in /usr/local/lib/python3.6/dist-packages (from mirdata) (1.19.5)\n",
            "Collecting pretty-midi>=0.2.8\n",
            "\u001b[?25l  Downloading https://files.pythonhosted.org/packages/bc/8e/63c6e39a7a64623a9cd6aec530070c70827f6f8f40deec938f323d7b1e15/pretty_midi-0.2.9.tar.gz (5.6MB)\n",
            "\u001b[K     |████████████████████████████████| 5.6MB 32.0MB/s \n",
            "\u001b[?25hCollecting librosa>=0.8.0\n",
            "\u001b[?25l  Downloading https://files.pythonhosted.org/packages/26/4d/c22d8ca74ca2c13cd4ac430fa353954886104321877b65fa871939e78591/librosa-0.8.0.tar.gz (183kB)\n",
            "\u001b[K     |████████████████████████████████| 184kB 47.6MB/s \n",
            "\u001b[?25hRequirement already satisfied: requests in /usr/local/lib/python3.6/dist-packages (from mirdata) (2.23.0)\n",
            "Requirement already satisfied: pandas in /usr/local/lib/python3.6/dist-packages (from jams->mirdata) (1.1.5)\n",
            "Requirement already satisfied: sortedcontainers>=2.0.0 in /usr/local/lib/python3.6/dist-packages (from jams->mirdata) (2.3.0)\n",
            "Collecting jsonschema>=3.0.0\n",
            "\u001b[?25l  Downloading https://files.pythonhosted.org/packages/c5/8f/51e89ce52a085483359217bc72cdbf6e75ee595d5b1d4b5ade40c7e018b8/jsonschema-3.2.0-py2.py3-none-any.whl (56kB)\n",
            "\u001b[K     |████████████████████████████████| 61kB 6.6MB/s \n",
            "\u001b[?25hRequirement already satisfied: six in /usr/local/lib/python3.6/dist-packages (from jams->mirdata) (1.15.0)\n",
            "Requirement already satisfied: decorator in /usr/local/lib/python3.6/dist-packages (from jams->mirdata) (4.4.2)\n",
            "Requirement already satisfied: mir_eval>=0.5 in /usr/local/lib/python3.6/dist-packages (from jams->mirdata) (0.6)\n",
            "Collecting mido>=1.1.16\n",
            "\u001b[?25l  Downloading https://files.pythonhosted.org/packages/20/0a/81beb587b1ae832ea6a1901dc7c6faa380e8dd154e0a862f0a9f3d2afab9/mido-1.2.9-py2.py3-none-any.whl (52kB)\n",
            "\u001b[K     |████████████████████████████████| 61kB 6.1MB/s \n",
            "\u001b[?25hRequirement already satisfied: audioread>=2.0.0 in /usr/local/lib/python3.6/dist-packages (from librosa>=0.8.0->mirdata) (2.1.9)\n",
            "Requirement already satisfied: scipy>=1.0.0 in /usr/local/lib/python3.6/dist-packages (from librosa>=0.8.0->mirdata) (1.4.1)\n",
            "Requirement already satisfied: scikit-learn!=0.19.0,>=0.14.0 in /usr/local/lib/python3.6/dist-packages (from librosa>=0.8.0->mirdata) (0.22.2.post1)\n",
            "Requirement already satisfied: joblib>=0.14 in /usr/local/lib/python3.6/dist-packages (from librosa>=0.8.0->mirdata) (1.0.0)\n",
            "Requirement already satisfied: resampy>=0.2.2 in /usr/local/lib/python3.6/dist-packages (from librosa>=0.8.0->mirdata) (0.2.2)\n",
            "Requirement already satisfied: numba>=0.43.0 in /usr/local/lib/python3.6/dist-packages (from librosa>=0.8.0->mirdata) (0.48.0)\n",
            "Collecting soundfile>=0.9.0\n",
            "  Downloading https://files.pythonhosted.org/packages/eb/f2/3cbbbf3b96fb9fa91582c438b574cff3f45b29c772f94c400e2c99ef5db9/SoundFile-0.10.3.post1-py2.py3-none-any.whl\n",
            "Collecting pooch>=1.0\n",
            "\u001b[?25l  Downloading https://files.pythonhosted.org/packages/40/b9/9876662636ba451d4406543047c0b45ca5b4e830f931308c8274dad1db43/pooch-1.3.0-py3-none-any.whl (51kB)\n",
            "\u001b[K     |████████████████████████████████| 61kB 7.2MB/s \n",
            "\u001b[?25hRequirement already satisfied: certifi>=2017.4.17 in /usr/local/lib/python3.6/dist-packages (from requests->mirdata) (2020.12.5)\n",
            "Requirement already satisfied: urllib3!=1.25.0,!=1.25.1,<1.26,>=1.21.1 in /usr/local/lib/python3.6/dist-packages (from requests->mirdata) (1.24.3)\n",
            "Requirement already satisfied: idna<3,>=2.5 in /usr/local/lib/python3.6/dist-packages (from requests->mirdata) (2.10)\n",
            "Requirement already satisfied: chardet<4,>=3.0.2 in /usr/local/lib/python3.6/dist-packages (from requests->mirdata) (3.0.4)\n",
            "Requirement already satisfied: pytz>=2017.2 in /usr/local/lib/python3.6/dist-packages (from pandas->jams->mirdata) (2018.9)\n",
            "Requirement already satisfied: python-dateutil>=2.7.3 in /usr/local/lib/python3.6/dist-packages (from pandas->jams->mirdata) (2.8.1)\n",
            "Requirement already satisfied: pyrsistent>=0.14.0 in /usr/local/lib/python3.6/dist-packages (from jsonschema>=3.0.0->jams->mirdata) (0.17.3)\n",
            "Requirement already satisfied: setuptools in /usr/local/lib/python3.6/dist-packages (from jsonschema>=3.0.0->jams->mirdata) (51.3.3)\n",
            "Requirement already satisfied: attrs>=17.4.0 in /usr/local/lib/python3.6/dist-packages (from jsonschema>=3.0.0->jams->mirdata) (20.3.0)\n",
            "Requirement already satisfied: importlib-metadata; python_version < \"3.8\" in /usr/local/lib/python3.6/dist-packages (from jsonschema>=3.0.0->jams->mirdata) (3.3.0)\n",
            "Requirement already satisfied: future in /usr/local/lib/python3.6/dist-packages (from mir_eval>=0.5->jams->mirdata) (0.16.0)\n",
            "Requirement already satisfied: llvmlite<0.32.0,>=0.31.0dev0 in /usr/local/lib/python3.6/dist-packages (from numba>=0.43.0->librosa>=0.8.0->mirdata) (0.31.0)\n",
            "Requirement already satisfied: cffi>=1.0 in /usr/local/lib/python3.6/dist-packages (from soundfile>=0.9.0->librosa>=0.8.0->mirdata) (1.14.4)\n",
            "Collecting appdirs\n",
            "  Downloading https://files.pythonhosted.org/packages/3b/00/2344469e2084fb287c2e0b57b72910309874c3245463acd6cf5e3db69324/appdirs-1.4.4-py2.py3-none-any.whl\n",
            "Requirement already satisfied: packaging in /usr/local/lib/python3.6/dist-packages (from pooch>=1.0->librosa>=0.8.0->mirdata) (20.8)\n",
            "Requirement already satisfied: zipp>=0.5 in /usr/local/lib/python3.6/dist-packages (from importlib-metadata; python_version < \"3.8\"->jsonschema>=3.0.0->jams->mirdata) (3.4.0)\n",
            "Requirement already satisfied: typing-extensions>=3.6.4; python_version < \"3.8\" in /usr/local/lib/python3.6/dist-packages (from importlib-metadata; python_version < \"3.8\"->jsonschema>=3.0.0->jams->mirdata) (3.7.4.3)\n",
            "Requirement already satisfied: pycparser in /usr/local/lib/python3.6/dist-packages (from cffi>=1.0->soundfile>=0.9.0->librosa>=0.8.0->mirdata) (2.20)\n",
            "Requirement already satisfied: pyparsing>=2.0.2 in /usr/local/lib/python3.6/dist-packages (from packaging->pooch>=1.0->librosa>=0.8.0->mirdata) (2.4.7)\n",
            "Building wheels for collected packages: jams, pretty-midi, librosa\n",
            "  Building wheel for jams (setup.py) ... \u001b[?25l\u001b[?25hdone\n",
            "  Created wheel for jams: filename=jams-0.3.4-cp36-none-any.whl size=64925 sha256=0c64d5cbf943a772730de7d339795b45dee137ebbd96fbee43bffae85719c94b\n",
            "  Stored in directory: /root/.cache/pip/wheels/2b/b8/c7/092096a3af0eb864cca4e79a44bc883dee5b9767da2c6f8ab3\n",
            "  Building wheel for pretty-midi (setup.py) ... \u001b[?25l\u001b[?25hdone\n",
            "  Created wheel for pretty-midi: filename=pretty_midi-0.2.9-cp36-none-any.whl size=5591954 sha256=4b8350995ef1089402f037355975429f28201150a47c70c237ca7611ea0aca71\n",
            "  Stored in directory: /root/.cache/pip/wheels/4c/a1/c6/b5697841db1112c6e5866d75a6b6bf1bef73b874782556ba66\n",
            "  Building wheel for librosa (setup.py) ... \u001b[?25l\u001b[?25hdone\n",
            "  Created wheel for librosa: filename=librosa-0.8.0-cp36-none-any.whl size=201375 sha256=e20c4123b1e2f3a8abc8593ebb47668f7f295791f59352f0af61ffeb6daccd4b\n",
            "  Stored in directory: /root/.cache/pip/wheels/ee/10/1e/382bb4369e189938d5c02e06d10c651817da8d485bfd1647c9\n",
            "Successfully built jams pretty-midi librosa\n",
            "\u001b[31mERROR: nbclient 0.5.1 has requirement jupyter-client>=6.1.5, but you'll have jupyter-client 5.3.5 which is incompatible.\u001b[0m\n",
            "Installing collected packages: jsonschema, jams, mido, pretty-midi, soundfile, appdirs, pooch, librosa, mirdata\n",
            "  Found existing installation: jsonschema 2.6.0\n",
            "    Uninstalling jsonschema-2.6.0:\n",
            "      Successfully uninstalled jsonschema-2.6.0\n",
            "  Found existing installation: librosa 0.6.3\n",
            "    Uninstalling librosa-0.6.3:\n",
            "      Successfully uninstalled librosa-0.6.3\n",
            "Successfully installed appdirs-1.4.4 jams-0.3.4 jsonschema-3.2.0 librosa-0.8.0 mido-1.2.9 mirdata-0.3.0 pooch-1.3.0 pretty-midi-0.2.9 soundfile-0.10.3.post1\n"
          ],
          "name": "stdout"
        },
        {
          "output_type": "display_data",
          "data": {
            "application/vnd.colab-display-data+json": {
              "pip_warning": {
                "packages": [
                  "soundfile"
                ]
              }
            }
          },
          "metadata": {
            "tags": []
          }
        },
        {
          "output_type": "stream",
          "text": [
            "INFO: Downloading ['all'] to /root/mir_datasets/orchset\n",
            "INFO: [all] downloading Orchset_dataset_0.zip\n",
            "311MB [01:09, 4.70MB/s]                           \n"
          ],
          "name": "stderr"
        }
      ]
    },
    {
      "cell_type": "markdown",
      "metadata": {
        "id": "KrAkxHGRMLIJ"
      },
      "source": [
        "# Exctracting f0s"
      ]
    },
    {
      "cell_type": "code",
      "metadata": {
        "id": "UKI6xk62FgC5"
      },
      "source": [
        "#Collecting audio file names \n",
        "all_files = []\n",
        "for root, dirs, files in os.walk('/root/mir_datasets/orchset/audio/mono/'):\n",
        "    for file in files:\n",
        "        if file.endswith('.wav'):\n",
        "            file_name = os.path.join(root,file)\n",
        "            all_files.append(file_name)"
      ],
      "execution_count": null,
      "outputs": []
    },
    {
      "cell_type": "code",
      "metadata": {
        "id": "_OYL8MMBsUfZ"
      },
      "source": [
        "for file in all_files:\n",
        " x, fs = sf.read(file)\n",
        " x = x / np.max(np.abs(x))#amplitude normalisation\n",
        " minF0 = 50 #in Hz\n",
        " maxF0 = 2000 #in Hz\n",
        " windowSize = 4096\n",
        " hopSize = 1024\n",
        " w = get_window('blackman', windowSize)\n",
        " startIndexes = np.arange(0, x.size - windowSize, hopSize, dtype = int)\n",
        " numWindows = startIndexes.size\n",
        " Audio(x, rate=fs)\n",
        " run_predominant_melody = PitchMelodia(guessUnvoiced = True,\n",
        "                                      frameSize = windowSize,\n",
        "                                      hopSize = hopSize,\n",
        "                                      maxFrequency = maxF0,\n",
        "                                      minFrequency = minF0,\n",
        "                                      sampleRate = fs);\n",
        " f0, confidence = run_predominant_melody(x)\n"
      ],
      "execution_count": null,
      "outputs": []
    },
    {
      "cell_type": "markdown",
      "metadata": {
        "id": "LzzbAdSFMUob"
      },
      "source": [
        "# Using essentia-melody algorithm"
      ]
    },
    {
      "cell_type": "code",
      "metadata": {
        "id": "bik1FdrLfz9m"
      },
      "source": [
        "#Collecting mel file names for Annotations \n",
        "all_midi = []\n",
        "for root, dirs, files in os.walk('/root/mir_datasets/orchset/GT'):\n",
        "    for file in files:\n",
        "        if file.endswith('.mel'):\n",
        "            file_name = os.path.join(root,file)\n",
        "            all_midi.append(file_name)\n",
        "for file in all_midi:        \n",
        "   #Reading ground-truth\n",
        "   ref_time, ref_freq = mir_eval.io.load_time_series(file)"
      ],
      "execution_count": null,
      "outputs": []
    },
    {
      "cell_type": "code",
      "metadata": {
        "id": "OD-5DO8kf1_A",
        "colab": {
          "base_uri": "https://localhost:8080/",
          "height": 231
        },
        "outputId": "5ffca7b3-4c26-4b58-9a0c-a63eb3a290d9"
      },
      "source": [
        "#Saving estimated values to file\n",
        "for file in all_files:\n",
        " fileNameF0 = file.replace('.wav','.f0_preDomMel.txt')\n",
        " startIndexes = np.arange(0, x.size - windowSize, hopSize, dtype = int)\n",
        " with open(fileNameF0, 'w') as f:\n",
        "    for k in range(startIndexes.size):\n",
        "        time = (startIndexes[k] + windowSize / 2) / fs\n",
        "        f.write(str(time) + '\\t' + str(f0[k]) + '\\n')"
      ],
      "execution_count": null,
      "outputs": [
        {
          "output_type": "error",
          "ename": "NameError",
          "evalue": "ignored",
          "traceback": [
            "\u001b[0;31m---------------------------------------------------------------------------\u001b[0m",
            "\u001b[0;31mNameError\u001b[0m                                 Traceback (most recent call last)",
            "\u001b[0;32m<ipython-input-6-4dd9029df63f>\u001b[0m in \u001b[0;36m<module>\u001b[0;34m()\u001b[0m\n\u001b[1;32m      2\u001b[0m \u001b[0;32mfor\u001b[0m \u001b[0mfile\u001b[0m \u001b[0;32min\u001b[0m \u001b[0mall_files\u001b[0m\u001b[0;34m:\u001b[0m\u001b[0;34m\u001b[0m\u001b[0;34m\u001b[0m\u001b[0m\n\u001b[1;32m      3\u001b[0m  \u001b[0mfileNameF0\u001b[0m \u001b[0;34m=\u001b[0m \u001b[0mfile\u001b[0m\u001b[0;34m.\u001b[0m\u001b[0mreplace\u001b[0m\u001b[0;34m(\u001b[0m\u001b[0;34m'.wav'\u001b[0m\u001b[0;34m,\u001b[0m\u001b[0;34m'.f0_preDomMel.txt'\u001b[0m\u001b[0;34m)\u001b[0m\u001b[0;34m\u001b[0m\u001b[0;34m\u001b[0m\u001b[0m\n\u001b[0;32m----> 4\u001b[0;31m  \u001b[0mstartIndexes\u001b[0m \u001b[0;34m=\u001b[0m \u001b[0mnp\u001b[0m\u001b[0;34m.\u001b[0m\u001b[0marange\u001b[0m\u001b[0;34m(\u001b[0m\u001b[0;36m0\u001b[0m\u001b[0;34m,\u001b[0m \u001b[0mx\u001b[0m\u001b[0;34m.\u001b[0m\u001b[0msize\u001b[0m \u001b[0;34m-\u001b[0m \u001b[0mwindowSize\u001b[0m\u001b[0;34m,\u001b[0m \u001b[0mhopSize\u001b[0m\u001b[0;34m,\u001b[0m \u001b[0mdtype\u001b[0m \u001b[0;34m=\u001b[0m \u001b[0mint\u001b[0m\u001b[0;34m)\u001b[0m\u001b[0;34m\u001b[0m\u001b[0;34m\u001b[0m\u001b[0m\n\u001b[0m\u001b[1;32m      5\u001b[0m  \u001b[0;32mwith\u001b[0m \u001b[0mopen\u001b[0m\u001b[0;34m(\u001b[0m\u001b[0mfileNameF0\u001b[0m\u001b[0;34m,\u001b[0m \u001b[0;34m'w'\u001b[0m\u001b[0;34m)\u001b[0m \u001b[0;32mas\u001b[0m \u001b[0mf\u001b[0m\u001b[0;34m:\u001b[0m\u001b[0;34m\u001b[0m\u001b[0;34m\u001b[0m\u001b[0m\n\u001b[1;32m      6\u001b[0m     \u001b[0;32mfor\u001b[0m \u001b[0mk\u001b[0m \u001b[0;32min\u001b[0m \u001b[0mrange\u001b[0m\u001b[0;34m(\u001b[0m\u001b[0mstartIndexes\u001b[0m\u001b[0;34m.\u001b[0m\u001b[0msize\u001b[0m\u001b[0;34m)\u001b[0m\u001b[0;34m:\u001b[0m\u001b[0;34m\u001b[0m\u001b[0;34m\u001b[0m\u001b[0m\n",
            "\u001b[0;31mNameError\u001b[0m: name 'x' is not defined"
          ]
        }
      ]
    },
    {
      "cell_type": "code",
      "metadata": {
        "id": "2zXzdsixLHVR",
        "colab": {
          "base_uri": "https://localhost:8080/",
          "height": 129
        },
        "outputId": "48d44be2-61f3-4391-a83e-26a89b7cc1d4"
      },
      "source": [
        "#Collecting text file names \n",
        "all_text = []\n",
        "for root, dirs, files in os.walk('/root/mir_datasets/orchset/audio/mono/'):\n",
        "    for file in files:\n",
        "        if file.endswith('.txt'):\n",
        "         \n",
        "            est_time, est_freq = mir_eval.io\n",
        "            scores = mir_eval.melody.evaluate(ref_time, ref_freq,est_time, est_freq)\n",
        "            for score in scores:\n",
        "              print(score,'\\t',scores[score])"
      ],
      "execution_count": null,
      "outputs": [
        {
          "output_type": "error",
          "ename": "IndentationError",
          "evalue": "ignored",
          "traceback": [
            "\u001b[0;36m  File \u001b[0;32m\"<ipython-input-69-a6905d5dd55b>\"\u001b[0;36m, line \u001b[0;32m6\u001b[0m\n\u001b[0;31m    file_name = os.path.join(root,file)\u001b[0m\n\u001b[0m            ^\u001b[0m\n\u001b[0;31mIndentationError\u001b[0m\u001b[0;31m:\u001b[0m expected an indented block\n"
          ]
        }
      ]
    },
    {
      "cell_type": "code",
      "metadata": {
        "colab": {
          "base_uri": "https://localhost:8080/"
        },
        "id": "0n9TGJnHgQ5n",
        "outputId": "1382d3ad-34c1-4569-cf33-7b8fadd689b0"
      },
      "source": [
        "for file in all_files:\n",
        " x, fs = sf.read(file)\n",
        " x = x / np.max(np.abs(x))#amplitude normalisation\n",
        " minF0 = 50 #in Hz\n",
        " maxF0 = 2000 #in Hz\n",
        " windowSize = 4096\n",
        " hopSize = 1024\n",
        " w = get_window('blackman', windowSize)\n",
        " startIndexes = np.arange(0, x.size - windowSize, hopSize, dtype = int)\n",
        " numWindows = startIndexes.size\n",
        " Audio(x, rate=fs)\n",
        " run_predominant_melody = PitchMelodia(guessUnvoiced = True,\n",
        "                                      frameSize = windowSize,\n",
        "                                      hopSize = hopSize,\n",
        "                                      maxFrequency = maxF0,\n",
        "                                      minFrequency = minF0,\n",
        "                                      sampleRate = fs);\n",
        " f0, confidence = run_predominant_melody(x)\n",
        " est_time, est_freq = mir_eval.io.load_wav(x)\n",
        " scores = mir_eval.melody.evaluate(ref_time, ref_freq,est_time, est_freq)\n",
        "  for score in scores:\n",
        "    print(score,'\\t',scores[score])\n",
        "\n"
      ],
      "execution_count": null,
      "outputs": [
        {
          "output_type": "stream",
          "text": [
            "Voicing Recall \t 0.9198641765704584\n",
            "Voicing False Alarm \t 0.2647058823529412\n",
            "Raw Pitch Accuracy \t 0.0023769100169779285\n",
            "Raw Chroma Accuracy \t 0.04380305602716469\n",
            "Overall Accuracy \t 0.010741859684457872\n",
            "Voicing Recall \t 0.9198641765704584\n",
            "Voicing False Alarm \t 0.2647058823529412\n",
            "Raw Pitch Accuracy \t 0.0023769100169779285\n",
            "Raw Chroma Accuracy \t 0.04380305602716469\n",
            "Overall Accuracy \t 0.010741859684457872\n",
            "Voicing Recall \t 0.9198641765704584\n",
            "Voicing False Alarm \t 0.2647058823529412\n",
            "Raw Pitch Accuracy \t 0.0023769100169779285\n",
            "Raw Chroma Accuracy \t 0.04380305602716469\n",
            "Overall Accuracy \t 0.010741859684457872\n",
            "Voicing Recall \t 0.9198641765704584\n",
            "Voicing False Alarm \t 0.2647058823529412\n",
            "Raw Pitch Accuracy \t 0.0023769100169779285\n",
            "Raw Chroma Accuracy \t 0.04380305602716469\n",
            "Overall Accuracy \t 0.010741859684457872\n",
            "Voicing Recall \t 0.9198641765704584\n",
            "Voicing False Alarm \t 0.2647058823529412\n",
            "Raw Pitch Accuracy \t 0.0023769100169779285\n",
            "Raw Chroma Accuracy \t 0.04380305602716469\n",
            "Overall Accuracy \t 0.010741859684457872\n",
            "Voicing Recall \t 0.9198641765704584\n",
            "Voicing False Alarm \t 0.2647058823529412\n",
            "Raw Pitch Accuracy \t 0.0023769100169779285\n",
            "Raw Chroma Accuracy \t 0.04380305602716469\n",
            "Overall Accuracy \t 0.010741859684457872\n",
            "Voicing Recall \t 0.9198641765704584\n",
            "Voicing False Alarm \t 0.2647058823529412\n",
            "Raw Pitch Accuracy \t 0.0023769100169779285\n",
            "Raw Chroma Accuracy \t 0.04380305602716469\n",
            "Overall Accuracy \t 0.010741859684457872\n",
            "Voicing Recall \t 0.9198641765704584\n",
            "Voicing False Alarm \t 0.2647058823529412\n",
            "Raw Pitch Accuracy \t 0.0023769100169779285\n",
            "Raw Chroma Accuracy \t 0.04380305602716469\n",
            "Overall Accuracy \t 0.010741859684457872\n",
            "Voicing Recall \t 0.9198641765704584\n",
            "Voicing False Alarm \t 0.2647058823529412\n",
            "Raw Pitch Accuracy \t 0.0023769100169779285\n",
            "Raw Chroma Accuracy \t 0.04380305602716469\n",
            "Overall Accuracy \t 0.010741859684457872\n",
            "Voicing Recall \t 0.9198641765704584\n",
            "Voicing False Alarm \t 0.2647058823529412\n",
            "Raw Pitch Accuracy \t 0.0023769100169779285\n",
            "Raw Chroma Accuracy \t 0.04380305602716469\n",
            "Overall Accuracy \t 0.010741859684457872\n",
            "Voicing Recall \t 0.9198641765704584\n",
            "Voicing False Alarm \t 0.2647058823529412\n",
            "Raw Pitch Accuracy \t 0.0023769100169779285\n",
            "Raw Chroma Accuracy \t 0.04380305602716469\n",
            "Overall Accuracy \t 0.010741859684457872\n",
            "Voicing Recall \t 0.9198641765704584\n",
            "Voicing False Alarm \t 0.2647058823529412\n",
            "Raw Pitch Accuracy \t 0.0023769100169779285\n",
            "Raw Chroma Accuracy \t 0.04380305602716469\n",
            "Overall Accuracy \t 0.010741859684457872\n",
            "Voicing Recall \t 0.9198641765704584\n",
            "Voicing False Alarm \t 0.2647058823529412\n",
            "Raw Pitch Accuracy \t 0.0023769100169779285\n",
            "Raw Chroma Accuracy \t 0.04380305602716469\n",
            "Overall Accuracy \t 0.010741859684457872\n",
            "Voicing Recall \t 0.9198641765704584\n",
            "Voicing False Alarm \t 0.2647058823529412\n",
            "Raw Pitch Accuracy \t 0.0023769100169779285\n",
            "Raw Chroma Accuracy \t 0.04380305602716469\n",
            "Overall Accuracy \t 0.010741859684457872\n",
            "Voicing Recall \t 0.9198641765704584\n",
            "Voicing False Alarm \t 0.2647058823529412\n",
            "Raw Pitch Accuracy \t 0.0023769100169779285\n",
            "Raw Chroma Accuracy \t 0.04380305602716469\n",
            "Overall Accuracy \t 0.010741859684457872\n",
            "Voicing Recall \t 0.9198641765704584\n",
            "Voicing False Alarm \t 0.2647058823529412\n",
            "Raw Pitch Accuracy \t 0.0023769100169779285\n",
            "Raw Chroma Accuracy \t 0.04380305602716469\n",
            "Overall Accuracy \t 0.010741859684457872\n",
            "Voicing Recall \t 0.9198641765704584\n",
            "Voicing False Alarm \t 0.2647058823529412\n",
            "Raw Pitch Accuracy \t 0.0023769100169779285\n",
            "Raw Chroma Accuracy \t 0.04380305602716469\n",
            "Overall Accuracy \t 0.010741859684457872\n",
            "Voicing Recall \t 0.9198641765704584\n",
            "Voicing False Alarm \t 0.2647058823529412\n",
            "Raw Pitch Accuracy \t 0.0023769100169779285\n",
            "Raw Chroma Accuracy \t 0.04380305602716469\n",
            "Overall Accuracy \t 0.010741859684457872\n",
            "Voicing Recall \t 0.9198641765704584\n",
            "Voicing False Alarm \t 0.2647058823529412\n",
            "Raw Pitch Accuracy \t 0.0023769100169779285\n",
            "Raw Chroma Accuracy \t 0.04380305602716469\n",
            "Overall Accuracy \t 0.010741859684457872\n",
            "Voicing Recall \t 0.9198641765704584\n",
            "Voicing False Alarm \t 0.2647058823529412\n",
            "Raw Pitch Accuracy \t 0.0023769100169779285\n",
            "Raw Chroma Accuracy \t 0.04380305602716469\n",
            "Overall Accuracy \t 0.010741859684457872\n",
            "Voicing Recall \t 0.9198641765704584\n",
            "Voicing False Alarm \t 0.2647058823529412\n",
            "Raw Pitch Accuracy \t 0.0023769100169779285\n",
            "Raw Chroma Accuracy \t 0.04380305602716469\n",
            "Overall Accuracy \t 0.010741859684457872\n",
            "Voicing Recall \t 0.9198641765704584\n",
            "Voicing False Alarm \t 0.2647058823529412\n",
            "Raw Pitch Accuracy \t 0.0023769100169779285\n",
            "Raw Chroma Accuracy \t 0.04380305602716469\n",
            "Overall Accuracy \t 0.010741859684457872\n",
            "Voicing Recall \t 0.9198641765704584\n",
            "Voicing False Alarm \t 0.2647058823529412\n",
            "Raw Pitch Accuracy \t 0.0023769100169779285\n",
            "Raw Chroma Accuracy \t 0.04380305602716469\n",
            "Overall Accuracy \t 0.010741859684457872\n",
            "Voicing Recall \t 0.9198641765704584\n",
            "Voicing False Alarm \t 0.2647058823529412\n",
            "Raw Pitch Accuracy \t 0.0023769100169779285\n",
            "Raw Chroma Accuracy \t 0.04380305602716469\n",
            "Overall Accuracy \t 0.010741859684457872\n",
            "Voicing Recall \t 0.9198641765704584\n",
            "Voicing False Alarm \t 0.2647058823529412\n",
            "Raw Pitch Accuracy \t 0.0023769100169779285\n",
            "Raw Chroma Accuracy \t 0.04380305602716469\n",
            "Overall Accuracy \t 0.010741859684457872\n",
            "Voicing Recall \t 0.9198641765704584\n",
            "Voicing False Alarm \t 0.2647058823529412\n",
            "Raw Pitch Accuracy \t 0.0023769100169779285\n",
            "Raw Chroma Accuracy \t 0.04380305602716469\n",
            "Overall Accuracy \t 0.010741859684457872\n",
            "Voicing Recall \t 0.9198641765704584\n",
            "Voicing False Alarm \t 0.2647058823529412\n",
            "Raw Pitch Accuracy \t 0.0023769100169779285\n",
            "Raw Chroma Accuracy \t 0.04380305602716469\n",
            "Overall Accuracy \t 0.010741859684457872\n",
            "Voicing Recall \t 0.9198641765704584\n",
            "Voicing False Alarm \t 0.2647058823529412\n",
            "Raw Pitch Accuracy \t 0.0023769100169779285\n",
            "Raw Chroma Accuracy \t 0.04380305602716469\n",
            "Overall Accuracy \t 0.010741859684457872\n",
            "Voicing Recall \t 0.9198641765704584\n",
            "Voicing False Alarm \t 0.2647058823529412\n",
            "Raw Pitch Accuracy \t 0.0023769100169779285\n",
            "Raw Chroma Accuracy \t 0.04380305602716469\n",
            "Overall Accuracy \t 0.010741859684457872\n",
            "Voicing Recall \t 0.9198641765704584\n",
            "Voicing False Alarm \t 0.2647058823529412\n",
            "Raw Pitch Accuracy \t 0.0023769100169779285\n",
            "Raw Chroma Accuracy \t 0.04380305602716469\n",
            "Overall Accuracy \t 0.010741859684457872\n",
            "Voicing Recall \t 0.9198641765704584\n",
            "Voicing False Alarm \t 0.2647058823529412\n",
            "Raw Pitch Accuracy \t 0.0023769100169779285\n",
            "Raw Chroma Accuracy \t 0.04380305602716469\n",
            "Overall Accuracy \t 0.010741859684457872\n",
            "Voicing Recall \t 0.9198641765704584\n",
            "Voicing False Alarm \t 0.2647058823529412\n",
            "Raw Pitch Accuracy \t 0.0023769100169779285\n",
            "Raw Chroma Accuracy \t 0.04380305602716469\n",
            "Overall Accuracy \t 0.010741859684457872\n",
            "Voicing Recall \t 0.9198641765704584\n",
            "Voicing False Alarm \t 0.2647058823529412\n",
            "Raw Pitch Accuracy \t 0.0023769100169779285\n",
            "Raw Chroma Accuracy \t 0.04380305602716469\n",
            "Overall Accuracy \t 0.010741859684457872\n",
            "Voicing Recall \t 0.9198641765704584\n",
            "Voicing False Alarm \t 0.2647058823529412\n",
            "Raw Pitch Accuracy \t 0.0023769100169779285\n",
            "Raw Chroma Accuracy \t 0.04380305602716469\n",
            "Overall Accuracy \t 0.010741859684457872\n",
            "Voicing Recall \t 0.9198641765704584\n",
            "Voicing False Alarm \t 0.2647058823529412\n",
            "Raw Pitch Accuracy \t 0.0023769100169779285\n",
            "Raw Chroma Accuracy \t 0.04380305602716469\n",
            "Overall Accuracy \t 0.010741859684457872\n",
            "Voicing Recall \t 0.9198641765704584\n",
            "Voicing False Alarm \t 0.2647058823529412\n",
            "Raw Pitch Accuracy \t 0.0023769100169779285\n",
            "Raw Chroma Accuracy \t 0.04380305602716469\n",
            "Overall Accuracy \t 0.010741859684457872\n",
            "Voicing Recall \t 0.9198641765704584\n",
            "Voicing False Alarm \t 0.2647058823529412\n",
            "Raw Pitch Accuracy \t 0.0023769100169779285\n",
            "Raw Chroma Accuracy \t 0.04380305602716469\n",
            "Overall Accuracy \t 0.010741859684457872\n",
            "Voicing Recall \t 0.9198641765704584\n",
            "Voicing False Alarm \t 0.2647058823529412\n",
            "Raw Pitch Accuracy \t 0.0023769100169779285\n",
            "Raw Chroma Accuracy \t 0.04380305602716469\n",
            "Overall Accuracy \t 0.010741859684457872\n",
            "Voicing Recall \t 0.9198641765704584\n",
            "Voicing False Alarm \t 0.2647058823529412\n",
            "Raw Pitch Accuracy \t 0.0023769100169779285\n",
            "Raw Chroma Accuracy \t 0.04380305602716469\n",
            "Overall Accuracy \t 0.010741859684457872\n",
            "Voicing Recall \t 0.9198641765704584\n",
            "Voicing False Alarm \t 0.2647058823529412\n",
            "Raw Pitch Accuracy \t 0.0023769100169779285\n",
            "Raw Chroma Accuracy \t 0.04380305602716469\n",
            "Overall Accuracy \t 0.010741859684457872\n",
            "Voicing Recall \t 0.9198641765704584\n",
            "Voicing False Alarm \t 0.2647058823529412\n",
            "Raw Pitch Accuracy \t 0.0023769100169779285\n",
            "Raw Chroma Accuracy \t 0.04380305602716469\n",
            "Overall Accuracy \t 0.010741859684457872\n",
            "Voicing Recall \t 0.9198641765704584\n",
            "Voicing False Alarm \t 0.2647058823529412\n",
            "Raw Pitch Accuracy \t 0.0023769100169779285\n",
            "Raw Chroma Accuracy \t 0.04380305602716469\n",
            "Overall Accuracy \t 0.010741859684457872\n",
            "Voicing Recall \t 0.9198641765704584\n",
            "Voicing False Alarm \t 0.2647058823529412\n",
            "Raw Pitch Accuracy \t 0.0023769100169779285\n",
            "Raw Chroma Accuracy \t 0.04380305602716469\n",
            "Overall Accuracy \t 0.010741859684457872\n",
            "Voicing Recall \t 0.9198641765704584\n",
            "Voicing False Alarm \t 0.2647058823529412\n",
            "Raw Pitch Accuracy \t 0.0023769100169779285\n",
            "Raw Chroma Accuracy \t 0.04380305602716469\n",
            "Overall Accuracy \t 0.010741859684457872\n",
            "Voicing Recall \t 0.9198641765704584\n",
            "Voicing False Alarm \t 0.2647058823529412\n",
            "Raw Pitch Accuracy \t 0.0023769100169779285\n",
            "Raw Chroma Accuracy \t 0.04380305602716469\n",
            "Overall Accuracy \t 0.010741859684457872\n",
            "Voicing Recall \t 0.9198641765704584\n",
            "Voicing False Alarm \t 0.2647058823529412\n",
            "Raw Pitch Accuracy \t 0.0023769100169779285\n",
            "Raw Chroma Accuracy \t 0.04380305602716469\n",
            "Overall Accuracy \t 0.010741859684457872\n",
            "Voicing Recall \t 0.9198641765704584\n",
            "Voicing False Alarm \t 0.2647058823529412\n",
            "Raw Pitch Accuracy \t 0.0023769100169779285\n",
            "Raw Chroma Accuracy \t 0.04380305602716469\n",
            "Overall Accuracy \t 0.010741859684457872\n",
            "Voicing Recall \t 0.9198641765704584\n",
            "Voicing False Alarm \t 0.2647058823529412\n",
            "Raw Pitch Accuracy \t 0.0023769100169779285\n",
            "Raw Chroma Accuracy \t 0.04380305602716469\n",
            "Overall Accuracy \t 0.010741859684457872\n",
            "Voicing Recall \t 0.9198641765704584\n",
            "Voicing False Alarm \t 0.2647058823529412\n",
            "Raw Pitch Accuracy \t 0.0023769100169779285\n",
            "Raw Chroma Accuracy \t 0.04380305602716469\n",
            "Overall Accuracy \t 0.010741859684457872\n",
            "Voicing Recall \t 0.9198641765704584\n",
            "Voicing False Alarm \t 0.2647058823529412\n",
            "Raw Pitch Accuracy \t 0.0023769100169779285\n",
            "Raw Chroma Accuracy \t 0.04380305602716469\n",
            "Overall Accuracy \t 0.010741859684457872\n",
            "Voicing Recall \t 0.9198641765704584\n",
            "Voicing False Alarm \t 0.2647058823529412\n",
            "Raw Pitch Accuracy \t 0.0023769100169779285\n",
            "Raw Chroma Accuracy \t 0.04380305602716469\n",
            "Overall Accuracy \t 0.010741859684457872\n",
            "Voicing Recall \t 0.9198641765704584\n",
            "Voicing False Alarm \t 0.2647058823529412\n",
            "Raw Pitch Accuracy \t 0.0023769100169779285\n",
            "Raw Chroma Accuracy \t 0.04380305602716469\n",
            "Overall Accuracy \t 0.010741859684457872\n",
            "Voicing Recall \t 0.9198641765704584\n",
            "Voicing False Alarm \t 0.2647058823529412\n",
            "Raw Pitch Accuracy \t 0.0023769100169779285\n",
            "Raw Chroma Accuracy \t 0.04380305602716469\n",
            "Overall Accuracy \t 0.010741859684457872\n",
            "Voicing Recall \t 0.9198641765704584\n",
            "Voicing False Alarm \t 0.2647058823529412\n",
            "Raw Pitch Accuracy \t 0.0023769100169779285\n",
            "Raw Chroma Accuracy \t 0.04380305602716469\n",
            "Overall Accuracy \t 0.010741859684457872\n",
            "Voicing Recall \t 0.9198641765704584\n",
            "Voicing False Alarm \t 0.2647058823529412\n",
            "Raw Pitch Accuracy \t 0.0023769100169779285\n",
            "Raw Chroma Accuracy \t 0.04380305602716469\n",
            "Overall Accuracy \t 0.010741859684457872\n",
            "Voicing Recall \t 0.9198641765704584\n",
            "Voicing False Alarm \t 0.2647058823529412\n",
            "Raw Pitch Accuracy \t 0.0023769100169779285\n",
            "Raw Chroma Accuracy \t 0.04380305602716469\n",
            "Overall Accuracy \t 0.010741859684457872\n",
            "Voicing Recall \t 0.9198641765704584\n",
            "Voicing False Alarm \t 0.2647058823529412\n",
            "Raw Pitch Accuracy \t 0.0023769100169779285\n",
            "Raw Chroma Accuracy \t 0.04380305602716469\n",
            "Overall Accuracy \t 0.010741859684457872\n",
            "Voicing Recall \t 0.9198641765704584\n",
            "Voicing False Alarm \t 0.2647058823529412\n",
            "Raw Pitch Accuracy \t 0.0023769100169779285\n",
            "Raw Chroma Accuracy \t 0.04380305602716469\n",
            "Overall Accuracy \t 0.010741859684457872\n",
            "Voicing Recall \t 0.9198641765704584\n",
            "Voicing False Alarm \t 0.2647058823529412\n",
            "Raw Pitch Accuracy \t 0.0023769100169779285\n",
            "Raw Chroma Accuracy \t 0.04380305602716469\n",
            "Overall Accuracy \t 0.010741859684457872\n",
            "Voicing Recall \t 0.9198641765704584\n",
            "Voicing False Alarm \t 0.2647058823529412\n",
            "Raw Pitch Accuracy \t 0.0023769100169779285\n",
            "Raw Chroma Accuracy \t 0.04380305602716469\n",
            "Overall Accuracy \t 0.010741859684457872\n",
            "Voicing Recall \t 0.9198641765704584\n",
            "Voicing False Alarm \t 0.2647058823529412\n",
            "Raw Pitch Accuracy \t 0.0023769100169779285\n",
            "Raw Chroma Accuracy \t 0.04380305602716469\n",
            "Overall Accuracy \t 0.010741859684457872\n",
            "Voicing Recall \t 0.9198641765704584\n",
            "Voicing False Alarm \t 0.2647058823529412\n",
            "Raw Pitch Accuracy \t 0.0023769100169779285\n",
            "Raw Chroma Accuracy \t 0.04380305602716469\n",
            "Overall Accuracy \t 0.010741859684457872\n",
            "Voicing Recall \t 0.9198641765704584\n",
            "Voicing False Alarm \t 0.2647058823529412\n",
            "Raw Pitch Accuracy \t 0.0023769100169779285\n",
            "Raw Chroma Accuracy \t 0.04380305602716469\n",
            "Overall Accuracy \t 0.010741859684457872\n",
            "Voicing Recall \t 0.9198641765704584\n",
            "Voicing False Alarm \t 0.2647058823529412\n",
            "Raw Pitch Accuracy \t 0.0023769100169779285\n",
            "Raw Chroma Accuracy \t 0.04380305602716469\n",
            "Overall Accuracy \t 0.010741859684457872\n"
          ],
          "name": "stdout"
        }
      ]
    },
    {
      "cell_type": "markdown",
      "metadata": {
        "id": "DiZPocjwE0sG"
      },
      "source": [
        "# Using crepe algorithm"
      ]
    },
    {
      "cell_type": "code",
      "metadata": {
        "id": "vewwKxUjLy85",
        "colab": {
          "base_uri": "https://localhost:8080/"
        },
        "outputId": "fe8f5aa9-682f-4736-8685-94357b7cd694"
      },
      "source": [
        "!pip install crepe\n",
        "import crepe"
      ],
      "execution_count": null,
      "outputs": [
        {
          "output_type": "stream",
          "text": [
            "Requirement already satisfied: crepe in /usr/local/lib/python3.6/dist-packages (0.0.11)\n",
            "Requirement already satisfied: imageio>=2.3.0 in /usr/local/lib/python3.6/dist-packages (from crepe) (2.4.1)\n",
            "Requirement already satisfied: hmmlearn<0.3.0,>=0.2.0 in /usr/local/lib/python3.6/dist-packages (from crepe) (0.2.4)\n",
            "Requirement already satisfied: matplotlib>=2.1.0 in /usr/local/lib/python3.6/dist-packages (from crepe) (3.2.2)\n",
            "Requirement already satisfied: numpy>=1.14.0 in /usr/local/lib/python3.6/dist-packages (from crepe) (1.19.5)\n",
            "Requirement already satisfied: resampy<0.3.0,>=0.2.0 in /usr/local/lib/python3.6/dist-packages (from crepe) (0.2.2)\n",
            "Requirement already satisfied: scikit-learn>=0.16 in /usr/local/lib/python3.6/dist-packages (from crepe) (0.22.2.post1)\n",
            "Requirement already satisfied: h5py<3.0.0,>=2.7.0 in /usr/local/lib/python3.6/dist-packages (from crepe) (2.10.0)\n",
            "Requirement already satisfied: scipy>=1.0.0 in /usr/local/lib/python3.6/dist-packages (from crepe) (1.4.1)\n",
            "Requirement already satisfied: pillow in /usr/local/lib/python3.6/dist-packages (from imageio>=2.3.0->crepe) (7.0.0)\n",
            "Requirement already satisfied: cycler>=0.10 in /usr/local/lib/python3.6/dist-packages (from matplotlib>=2.1.0->crepe) (0.10.0)\n",
            "Requirement already satisfied: pyparsing!=2.0.4,!=2.1.2,!=2.1.6,>=2.0.1 in /usr/local/lib/python3.6/dist-packages (from matplotlib>=2.1.0->crepe) (2.4.7)\n",
            "Requirement already satisfied: kiwisolver>=1.0.1 in /usr/local/lib/python3.6/dist-packages (from matplotlib>=2.1.0->crepe) (1.3.1)\n",
            "Requirement already satisfied: python-dateutil>=2.1 in /usr/local/lib/python3.6/dist-packages (from matplotlib>=2.1.0->crepe) (2.8.1)\n",
            "Requirement already satisfied: six>=1.3 in /usr/local/lib/python3.6/dist-packages (from resampy<0.3.0,>=0.2.0->crepe) (1.15.0)\n",
            "Requirement already satisfied: numba>=0.32 in /usr/local/lib/python3.6/dist-packages (from resampy<0.3.0,>=0.2.0->crepe) (0.48.0)\n",
            "Requirement already satisfied: joblib>=0.11 in /usr/local/lib/python3.6/dist-packages (from scikit-learn>=0.16->crepe) (1.0.0)\n",
            "Requirement already satisfied: llvmlite<0.32.0,>=0.31.0dev0 in /usr/local/lib/python3.6/dist-packages (from numba>=0.32->resampy<0.3.0,>=0.2.0->crepe) (0.31.0)\n",
            "Requirement already satisfied: setuptools in /usr/local/lib/python3.6/dist-packages (from numba>=0.32->resampy<0.3.0,>=0.2.0->crepe) (51.3.3)\n"
          ],
          "name": "stdout"
        }
      ]
    },
    {
      "cell_type": "code",
      "metadata": {
        "colab": {
          "base_uri": "https://localhost:8080/",
          "height": 816
        },
        "id": "DVFRMX_mC6Xd",
        "outputId": "d2010432-8da7-4131-d16e-b78a6adb9719"
      },
      "source": [
        "for file in all_files[:10]:\n",
        "  #Running Essentia predominant melody extraction and saving to an output file\n",
        "    hopSize = 441#10 miliseconds\n",
        "    windowSize = 4096\n",
        "    fs = 44100\n",
        "    x, fs = sf.read(file)\n",
        "    x = x / np.max(np.abs(x))#amplitude normalisation\n",
        "    #x = EqualLoudness()(x)\n",
        "    est_time, est_freq, confidence, activation = crepe.predict(x, fs,viterbi=True)\n",
        "    #Running evaluation and ptinting\n",
        "    scores = mir_eval.melody.evaluate(ref_time, ref_freq,est_time, est_freq)\n",
        "    for score in scores:\n",
        "      print(score,'\\t',scores[score])"
      ],
      "execution_count": null,
      "outputs": [
        {
          "output_type": "stream",
          "text": [
            "33/33 [==============================] - 51s 2s/step\n",
            "Voicing Recall \t 0.999660441426146\n",
            "Voicing False Alarm \t 1.0\n",
            "Raw Pitch Accuracy \t 0.014261460101867572\n",
            "Raw Chroma Accuracy \t 0.027164685908319185\n",
            "Overall Accuracy \t 0.014098690835850957\n",
            "77/77 [==============================] - 121s 2s/step\n",
            "Voicing Recall \t 0.999660441426146\n",
            "Voicing False Alarm \t 1.0\n",
            "Raw Pitch Accuracy \t 0.0\n",
            "Raw Chroma Accuracy \t 0.03531409168081494\n",
            "Overall Accuracy \t 0.0\n",
            "74/74 [==============================] - 119s 2s/step\n",
            "Voicing Recall \t 0.999660441426146\n",
            "Voicing False Alarm \t 1.0\n",
            "Raw Pitch Accuracy \t 0.00033955857385398983\n",
            "Raw Chroma Accuracy \t 0.061799660441426145\n",
            "Overall Accuracy \t 0.0003356831151393085\n",
            "67/67 [==============================] - 105s 2s/step\n",
            "Voicing Recall \t 0.999660441426146\n",
            "Voicing False Alarm \t 1.0\n",
            "Raw Pitch Accuracy \t 0.0\n",
            "Raw Chroma Accuracy \t 0.014940577249575551\n",
            "Overall Accuracy \t 0.0\n",
            "49/93 [==============>...............] - ETA: 1:09"
          ],
          "name": "stdout"
        },
        {
          "output_type": "error",
          "ename": "KeyboardInterrupt",
          "evalue": "ignored",
          "traceback": [
            "\u001b[0;31m---------------------------------------------------------------------------\u001b[0m",
            "\u001b[0;31mKeyboardInterrupt\u001b[0m                         Traceback (most recent call last)",
            "\u001b[0;32m<ipython-input-52-b78b2102833e>\u001b[0m in \u001b[0;36m<module>\u001b[0;34m()\u001b[0m\n\u001b[1;32m      7\u001b[0m     \u001b[0mx\u001b[0m \u001b[0;34m=\u001b[0m \u001b[0mx\u001b[0m \u001b[0;34m/\u001b[0m \u001b[0mnp\u001b[0m\u001b[0;34m.\u001b[0m\u001b[0mmax\u001b[0m\u001b[0;34m(\u001b[0m\u001b[0mnp\u001b[0m\u001b[0;34m.\u001b[0m\u001b[0mabs\u001b[0m\u001b[0;34m(\u001b[0m\u001b[0mx\u001b[0m\u001b[0;34m)\u001b[0m\u001b[0;34m)\u001b[0m\u001b[0;31m#amplitude normalisation\u001b[0m\u001b[0;34m\u001b[0m\u001b[0;34m\u001b[0m\u001b[0m\n\u001b[1;32m      8\u001b[0m     \u001b[0;31m#x = EqualLoudness()(x)\u001b[0m\u001b[0;34m\u001b[0m\u001b[0;34m\u001b[0m\u001b[0;34m\u001b[0m\u001b[0m\n\u001b[0;32m----> 9\u001b[0;31m     \u001b[0mest_time\u001b[0m\u001b[0;34m,\u001b[0m \u001b[0mest_freq\u001b[0m\u001b[0;34m,\u001b[0m \u001b[0mconfidence\u001b[0m\u001b[0;34m,\u001b[0m \u001b[0mactivation\u001b[0m \u001b[0;34m=\u001b[0m \u001b[0mcrepe\u001b[0m\u001b[0;34m.\u001b[0m\u001b[0mpredict\u001b[0m\u001b[0;34m(\u001b[0m\u001b[0mx\u001b[0m\u001b[0;34m,\u001b[0m \u001b[0mfs\u001b[0m\u001b[0;34m,\u001b[0m\u001b[0mviterbi\u001b[0m\u001b[0;34m=\u001b[0m\u001b[0;32mTrue\u001b[0m\u001b[0;34m)\u001b[0m\u001b[0;34m\u001b[0m\u001b[0;34m\u001b[0m\u001b[0m\n\u001b[0m\u001b[1;32m     10\u001b[0m     \u001b[0;31m#Running evaluation and ptinting\u001b[0m\u001b[0;34m\u001b[0m\u001b[0;34m\u001b[0m\u001b[0;34m\u001b[0m\u001b[0m\n\u001b[1;32m     11\u001b[0m     \u001b[0mscores\u001b[0m \u001b[0;34m=\u001b[0m \u001b[0mmir_eval\u001b[0m\u001b[0;34m.\u001b[0m\u001b[0mmelody\u001b[0m\u001b[0;34m.\u001b[0m\u001b[0mevaluate\u001b[0m\u001b[0;34m(\u001b[0m\u001b[0mref_time\u001b[0m\u001b[0;34m,\u001b[0m \u001b[0mref_freq\u001b[0m\u001b[0;34m,\u001b[0m\u001b[0mest_time\u001b[0m\u001b[0;34m,\u001b[0m \u001b[0mest_freq\u001b[0m\u001b[0;34m)\u001b[0m\u001b[0;34m\u001b[0m\u001b[0;34m\u001b[0m\u001b[0m\n",
            "\u001b[0;32m/usr/local/lib/python3.6/dist-packages/crepe/core.py\u001b[0m in \u001b[0;36mpredict\u001b[0;34m(audio, sr, model_capacity, viterbi, center, step_size, verbose)\u001b[0m\n\u001b[1;32m    255\u001b[0m     activation = get_activation(audio, sr, model_capacity=model_capacity,\n\u001b[1;32m    256\u001b[0m                                 \u001b[0mcenter\u001b[0m\u001b[0;34m=\u001b[0m\u001b[0mcenter\u001b[0m\u001b[0;34m,\u001b[0m \u001b[0mstep_size\u001b[0m\u001b[0;34m=\u001b[0m\u001b[0mstep_size\u001b[0m\u001b[0;34m,\u001b[0m\u001b[0;34m\u001b[0m\u001b[0;34m\u001b[0m\u001b[0m\n\u001b[0;32m--> 257\u001b[0;31m                                 verbose=verbose)\n\u001b[0m\u001b[1;32m    258\u001b[0m     \u001b[0mconfidence\u001b[0m \u001b[0;34m=\u001b[0m \u001b[0mactivation\u001b[0m\u001b[0;34m.\u001b[0m\u001b[0mmax\u001b[0m\u001b[0;34m(\u001b[0m\u001b[0maxis\u001b[0m\u001b[0;34m=\u001b[0m\u001b[0;36m1\u001b[0m\u001b[0;34m)\u001b[0m\u001b[0;34m\u001b[0m\u001b[0;34m\u001b[0m\u001b[0m\n\u001b[1;32m    259\u001b[0m \u001b[0;34m\u001b[0m\u001b[0m\n",
            "\u001b[0;32m/usr/local/lib/python3.6/dist-packages/crepe/core.py\u001b[0m in \u001b[0;36mget_activation\u001b[0;34m(audio, sr, model_capacity, center, step_size, verbose)\u001b[0m\n\u001b[1;32m    210\u001b[0m \u001b[0;34m\u001b[0m\u001b[0m\n\u001b[1;32m    211\u001b[0m     \u001b[0;31m# run prediction and convert the frequency bin weights to Hz\u001b[0m\u001b[0;34m\u001b[0m\u001b[0;34m\u001b[0m\u001b[0;34m\u001b[0m\u001b[0m\n\u001b[0;32m--> 212\u001b[0;31m     \u001b[0;32mreturn\u001b[0m \u001b[0mmodel\u001b[0m\u001b[0;34m.\u001b[0m\u001b[0mpredict\u001b[0m\u001b[0;34m(\u001b[0m\u001b[0mframes\u001b[0m\u001b[0;34m,\u001b[0m \u001b[0mverbose\u001b[0m\u001b[0;34m=\u001b[0m\u001b[0mverbose\u001b[0m\u001b[0;34m)\u001b[0m\u001b[0;34m\u001b[0m\u001b[0;34m\u001b[0m\u001b[0m\n\u001b[0m\u001b[1;32m    213\u001b[0m \u001b[0;34m\u001b[0m\u001b[0m\n\u001b[1;32m    214\u001b[0m \u001b[0;34m\u001b[0m\u001b[0m\n",
            "\u001b[0;32m/usr/local/lib/python3.6/dist-packages/tensorflow/python/keras/engine/training.py\u001b[0m in \u001b[0;36mpredict\u001b[0;34m(self, x, batch_size, verbose, steps, callbacks, max_queue_size, workers, use_multiprocessing)\u001b[0m\n\u001b[1;32m   1627\u001b[0m           \u001b[0;32mfor\u001b[0m \u001b[0mstep\u001b[0m \u001b[0;32min\u001b[0m \u001b[0mdata_handler\u001b[0m\u001b[0;34m.\u001b[0m\u001b[0msteps\u001b[0m\u001b[0;34m(\u001b[0m\u001b[0;34m)\u001b[0m\u001b[0;34m:\u001b[0m\u001b[0;34m\u001b[0m\u001b[0;34m\u001b[0m\u001b[0m\n\u001b[1;32m   1628\u001b[0m             \u001b[0mcallbacks\u001b[0m\u001b[0;34m.\u001b[0m\u001b[0mon_predict_batch_begin\u001b[0m\u001b[0;34m(\u001b[0m\u001b[0mstep\u001b[0m\u001b[0;34m)\u001b[0m\u001b[0;34m\u001b[0m\u001b[0;34m\u001b[0m\u001b[0m\n\u001b[0;32m-> 1629\u001b[0;31m             \u001b[0mtmp_batch_outputs\u001b[0m \u001b[0;34m=\u001b[0m \u001b[0mself\u001b[0m\u001b[0;34m.\u001b[0m\u001b[0mpredict_function\u001b[0m\u001b[0;34m(\u001b[0m\u001b[0miterator\u001b[0m\u001b[0;34m)\u001b[0m\u001b[0;34m\u001b[0m\u001b[0;34m\u001b[0m\u001b[0m\n\u001b[0m\u001b[1;32m   1630\u001b[0m             \u001b[0;32mif\u001b[0m \u001b[0mdata_handler\u001b[0m\u001b[0;34m.\u001b[0m\u001b[0mshould_sync\u001b[0m\u001b[0;34m:\u001b[0m\u001b[0;34m\u001b[0m\u001b[0;34m\u001b[0m\u001b[0m\n\u001b[1;32m   1631\u001b[0m               \u001b[0mcontext\u001b[0m\u001b[0;34m.\u001b[0m\u001b[0masync_wait\u001b[0m\u001b[0;34m(\u001b[0m\u001b[0;34m)\u001b[0m\u001b[0;34m\u001b[0m\u001b[0;34m\u001b[0m\u001b[0m\n",
            "\u001b[0;32m/usr/local/lib/python3.6/dist-packages/tensorflow/python/eager/def_function.py\u001b[0m in \u001b[0;36m__call__\u001b[0;34m(self, *args, **kwds)\u001b[0m\n\u001b[1;32m    826\u001b[0m     \u001b[0mtracing_count\u001b[0m \u001b[0;34m=\u001b[0m \u001b[0mself\u001b[0m\u001b[0;34m.\u001b[0m\u001b[0mexperimental_get_tracing_count\u001b[0m\u001b[0;34m(\u001b[0m\u001b[0;34m)\u001b[0m\u001b[0;34m\u001b[0m\u001b[0;34m\u001b[0m\u001b[0m\n\u001b[1;32m    827\u001b[0m     \u001b[0;32mwith\u001b[0m \u001b[0mtrace\u001b[0m\u001b[0;34m.\u001b[0m\u001b[0mTrace\u001b[0m\u001b[0;34m(\u001b[0m\u001b[0mself\u001b[0m\u001b[0;34m.\u001b[0m\u001b[0m_name\u001b[0m\u001b[0;34m)\u001b[0m \u001b[0;32mas\u001b[0m \u001b[0mtm\u001b[0m\u001b[0;34m:\u001b[0m\u001b[0;34m\u001b[0m\u001b[0;34m\u001b[0m\u001b[0m\n\u001b[0;32m--> 828\u001b[0;31m       \u001b[0mresult\u001b[0m \u001b[0;34m=\u001b[0m \u001b[0mself\u001b[0m\u001b[0;34m.\u001b[0m\u001b[0m_call\u001b[0m\u001b[0;34m(\u001b[0m\u001b[0;34m*\u001b[0m\u001b[0margs\u001b[0m\u001b[0;34m,\u001b[0m \u001b[0;34m**\u001b[0m\u001b[0mkwds\u001b[0m\u001b[0;34m)\u001b[0m\u001b[0;34m\u001b[0m\u001b[0;34m\u001b[0m\u001b[0m\n\u001b[0m\u001b[1;32m    829\u001b[0m       \u001b[0mcompiler\u001b[0m \u001b[0;34m=\u001b[0m \u001b[0;34m\"xla\"\u001b[0m \u001b[0;32mif\u001b[0m \u001b[0mself\u001b[0m\u001b[0;34m.\u001b[0m\u001b[0m_experimental_compile\u001b[0m \u001b[0;32melse\u001b[0m \u001b[0;34m\"nonXla\"\u001b[0m\u001b[0;34m\u001b[0m\u001b[0;34m\u001b[0m\u001b[0m\n\u001b[1;32m    830\u001b[0m       \u001b[0mnew_tracing_count\u001b[0m \u001b[0;34m=\u001b[0m \u001b[0mself\u001b[0m\u001b[0;34m.\u001b[0m\u001b[0mexperimental_get_tracing_count\u001b[0m\u001b[0;34m(\u001b[0m\u001b[0;34m)\u001b[0m\u001b[0;34m\u001b[0m\u001b[0;34m\u001b[0m\u001b[0m\n",
            "\u001b[0;32m/usr/local/lib/python3.6/dist-packages/tensorflow/python/eager/def_function.py\u001b[0m in \u001b[0;36m_call\u001b[0;34m(self, *args, **kwds)\u001b[0m\n\u001b[1;32m    860\u001b[0m       \u001b[0;31m# In this case we have not created variables on the first call. So we can\u001b[0m\u001b[0;34m\u001b[0m\u001b[0;34m\u001b[0m\u001b[0;34m\u001b[0m\u001b[0m\n\u001b[1;32m    861\u001b[0m       \u001b[0;31m# run the first trace but we should fail if variables are created.\u001b[0m\u001b[0;34m\u001b[0m\u001b[0;34m\u001b[0m\u001b[0;34m\u001b[0m\u001b[0m\n\u001b[0;32m--> 862\u001b[0;31m       \u001b[0mresults\u001b[0m \u001b[0;34m=\u001b[0m \u001b[0mself\u001b[0m\u001b[0;34m.\u001b[0m\u001b[0m_stateful_fn\u001b[0m\u001b[0;34m(\u001b[0m\u001b[0;34m*\u001b[0m\u001b[0margs\u001b[0m\u001b[0;34m,\u001b[0m \u001b[0;34m**\u001b[0m\u001b[0mkwds\u001b[0m\u001b[0;34m)\u001b[0m\u001b[0;34m\u001b[0m\u001b[0;34m\u001b[0m\u001b[0m\n\u001b[0m\u001b[1;32m    863\u001b[0m       \u001b[0;32mif\u001b[0m \u001b[0mself\u001b[0m\u001b[0;34m.\u001b[0m\u001b[0m_created_variables\u001b[0m\u001b[0;34m:\u001b[0m\u001b[0;34m\u001b[0m\u001b[0;34m\u001b[0m\u001b[0m\n\u001b[1;32m    864\u001b[0m         raise ValueError(\"Creating variables on a non-first call to a function\"\n",
            "\u001b[0;32m/usr/local/lib/python3.6/dist-packages/tensorflow/python/eager/function.py\u001b[0m in \u001b[0;36m__call__\u001b[0;34m(self, *args, **kwargs)\u001b[0m\n\u001b[1;32m   2941\u001b[0m        filtered_flat_args) = self._maybe_define_function(args, kwargs)\n\u001b[1;32m   2942\u001b[0m     return graph_function._call_flat(\n\u001b[0;32m-> 2943\u001b[0;31m         filtered_flat_args, captured_inputs=graph_function.captured_inputs)  # pylint: disable=protected-access\n\u001b[0m\u001b[1;32m   2944\u001b[0m \u001b[0;34m\u001b[0m\u001b[0m\n\u001b[1;32m   2945\u001b[0m   \u001b[0;34m@\u001b[0m\u001b[0mproperty\u001b[0m\u001b[0;34m\u001b[0m\u001b[0;34m\u001b[0m\u001b[0m\n",
            "\u001b[0;32m/usr/local/lib/python3.6/dist-packages/tensorflow/python/eager/function.py\u001b[0m in \u001b[0;36m_call_flat\u001b[0;34m(self, args, captured_inputs, cancellation_manager)\u001b[0m\n\u001b[1;32m   1917\u001b[0m       \u001b[0;31m# No tape is watching; skip to running the function.\u001b[0m\u001b[0;34m\u001b[0m\u001b[0;34m\u001b[0m\u001b[0;34m\u001b[0m\u001b[0m\n\u001b[1;32m   1918\u001b[0m       return self._build_call_outputs(self._inference_function.call(\n\u001b[0;32m-> 1919\u001b[0;31m           ctx, args, cancellation_manager=cancellation_manager))\n\u001b[0m\u001b[1;32m   1920\u001b[0m     forward_backward = self._select_forward_and_backward_functions(\n\u001b[1;32m   1921\u001b[0m         \u001b[0margs\u001b[0m\u001b[0;34m,\u001b[0m\u001b[0;34m\u001b[0m\u001b[0;34m\u001b[0m\u001b[0m\n",
            "\u001b[0;32m/usr/local/lib/python3.6/dist-packages/tensorflow/python/eager/function.py\u001b[0m in \u001b[0;36mcall\u001b[0;34m(self, ctx, args, cancellation_manager)\u001b[0m\n\u001b[1;32m    558\u001b[0m               \u001b[0minputs\u001b[0m\u001b[0;34m=\u001b[0m\u001b[0margs\u001b[0m\u001b[0;34m,\u001b[0m\u001b[0;34m\u001b[0m\u001b[0;34m\u001b[0m\u001b[0m\n\u001b[1;32m    559\u001b[0m               \u001b[0mattrs\u001b[0m\u001b[0;34m=\u001b[0m\u001b[0mattrs\u001b[0m\u001b[0;34m,\u001b[0m\u001b[0;34m\u001b[0m\u001b[0;34m\u001b[0m\u001b[0m\n\u001b[0;32m--> 560\u001b[0;31m               ctx=ctx)\n\u001b[0m\u001b[1;32m    561\u001b[0m         \u001b[0;32melse\u001b[0m\u001b[0;34m:\u001b[0m\u001b[0;34m\u001b[0m\u001b[0;34m\u001b[0m\u001b[0m\n\u001b[1;32m    562\u001b[0m           outputs = execute.execute_with_cancellation(\n",
            "\u001b[0;32m/usr/local/lib/python3.6/dist-packages/tensorflow/python/eager/execute.py\u001b[0m in \u001b[0;36mquick_execute\u001b[0;34m(op_name, num_outputs, inputs, attrs, ctx, name)\u001b[0m\n\u001b[1;32m     58\u001b[0m     \u001b[0mctx\u001b[0m\u001b[0;34m.\u001b[0m\u001b[0mensure_initialized\u001b[0m\u001b[0;34m(\u001b[0m\u001b[0;34m)\u001b[0m\u001b[0;34m\u001b[0m\u001b[0;34m\u001b[0m\u001b[0m\n\u001b[1;32m     59\u001b[0m     tensors = pywrap_tfe.TFE_Py_Execute(ctx._handle, device_name, op_name,\n\u001b[0;32m---> 60\u001b[0;31m                                         inputs, attrs, num_outputs)\n\u001b[0m\u001b[1;32m     61\u001b[0m   \u001b[0;32mexcept\u001b[0m \u001b[0mcore\u001b[0m\u001b[0;34m.\u001b[0m\u001b[0m_NotOkStatusException\u001b[0m \u001b[0;32mas\u001b[0m \u001b[0me\u001b[0m\u001b[0;34m:\u001b[0m\u001b[0;34m\u001b[0m\u001b[0;34m\u001b[0m\u001b[0m\n\u001b[1;32m     62\u001b[0m     \u001b[0;32mif\u001b[0m \u001b[0mname\u001b[0m \u001b[0;32mis\u001b[0m \u001b[0;32mnot\u001b[0m \u001b[0;32mNone\u001b[0m\u001b[0;34m:\u001b[0m\u001b[0;34m\u001b[0m\u001b[0;34m\u001b[0m\u001b[0m\n",
            "\u001b[0;31mKeyboardInterrupt\u001b[0m: "
          ]
        }
      ]
    }
  ]
}