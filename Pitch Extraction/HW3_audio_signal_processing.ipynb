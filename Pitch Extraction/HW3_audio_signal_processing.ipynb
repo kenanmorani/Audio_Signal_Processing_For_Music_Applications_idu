{
  "nbformat": 4,
  "nbformat_minor": 0,
  "metadata": {
    "colab": {
      "name": "HW3_Audio_Signal_Processing.ipynb",
      "provenance": [],
      "collapsed_sections": [],
      "toc_visible": true,
      "include_colab_link": true
    },
    "kernelspec": {
      "display_name": "Python 3",
      "language": "python",
      "name": "python3"
    },
    "language_info": {
      "codemirror_mode": {
        "name": "ipython",
        "version": 3
      },
      "file_extension": ".py",
      "mimetype": "text/x-python",
      "name": "python",
      "nbconvert_exporter": "python",
      "pygments_lexer": "ipython3",
      "version": "3.6.7"
    }
  },
  "cells": [
    {
      "cell_type": "markdown",
      "metadata": {
        "id": "view-in-github",
        "colab_type": "text"
      },
      "source": [
        "<a href=\"https://colab.research.google.com/github/kenanmorani/Audio_Signal_Processing_For_Music_Applications_idu/blob/main/Pitch%20Extraction/HW3_audio_signal_processing.ipynb\" target=\"_parent\"><img src=\"https://colab.research.google.com/assets/colab-badge.svg\" alt=\"Open In Colab\"/></a>"
      ]
    },
    {
      "cell_type": "markdown",
      "metadata": {
        "id": "813w7nF0E0r_"
      },
      "source": [
        "# HW3 Audio Signal Processing for Music Applications course\n",
        "Izmir Democracy University, Electrical and Electronics Program    \n",
        "Submitted to Professor Barsi Bozkurt      \n",
        "Submitted by Kenan MORANI     "
      ]
    },
    {
      "cell_type": "markdown",
      "metadata": {
        "id": "NEXra68zL6MF"
      },
      "source": [
        "# Installing and importing the required libraries"
      ]
    },
    {
      "cell_type": "code",
      "metadata": {
        "colab": {
          "base_uri": "https://localhost:8080/"
        },
        "id": "IyIgmh-aq29r",
        "outputId": "437344fb-5f35-49be-cf36-6761dceb570c"
      },
      "source": [
        "!pip install essentia mir_eval pysoundfile"
      ],
      "execution_count": 1,
      "outputs": [
        {
          "output_type": "stream",
          "text": [
            "Collecting essentia\n",
            "\u001b[?25l  Downloading https://files.pythonhosted.org/packages/c7/38/97727f544712a2b0c1d7fcbf220b05fae257ae869adb5c0c33f486201528/essentia-2.1b6.dev374-cp36-cp36m-manylinux1_x86_64.whl (12.0MB)\n",
            "\u001b[K     |████████████████████████████████| 12.0MB 335kB/s \n",
            "\u001b[?25hCollecting mir_eval\n",
            "\u001b[?25l  Downloading https://files.pythonhosted.org/packages/0a/fe/be4f7a59ed71938e21e89f23afe93eea0d39eb3e77f83754a12028cf1a68/mir_eval-0.6.tar.gz (87kB)\n",
            "\u001b[K     |████████████████████████████████| 92kB 3.3MB/s \n",
            "\u001b[?25hCollecting pysoundfile\n",
            "  Downloading https://files.pythonhosted.org/packages/2a/b3/0b871e5fd31b9a8e54b4ee359384e705a1ca1e2870706d2f081dc7cc1693/PySoundFile-0.9.0.post1-py2.py3-none-any.whl\n",
            "Requirement already satisfied: numpy>=1.8.2 in /usr/local/lib/python3.6/dist-packages (from essentia) (1.19.5)\n",
            "Requirement already satisfied: six in /usr/local/lib/python3.6/dist-packages (from essentia) (1.15.0)\n",
            "Requirement already satisfied: pyyaml in /usr/local/lib/python3.6/dist-packages (from essentia) (3.13)\n",
            "Requirement already satisfied: scipy>=1.0.0 in /usr/local/lib/python3.6/dist-packages (from mir_eval) (1.4.1)\n",
            "Requirement already satisfied: future in /usr/local/lib/python3.6/dist-packages (from mir_eval) (0.16.0)\n",
            "Requirement already satisfied: cffi>=0.6 in /usr/local/lib/python3.6/dist-packages (from pysoundfile) (1.14.4)\n",
            "Requirement already satisfied: pycparser in /usr/local/lib/python3.6/dist-packages (from cffi>=0.6->pysoundfile) (2.20)\n",
            "Building wheels for collected packages: mir-eval\n",
            "  Building wheel for mir-eval (setup.py) ... \u001b[?25l\u001b[?25hdone\n",
            "  Created wheel for mir-eval: filename=mir_eval-0.6-cp36-none-any.whl size=96515 sha256=d461c39c7637b44d529f9e2d5c211e033a2fd2f54fb1a764f9abfea3b3b2f94e\n",
            "  Stored in directory: /root/.cache/pip/wheels/49/ce/30/730fa72addf275e49d90683b01b3613048b4be3bf7ff8eb6ec\n",
            "Successfully built mir-eval\n",
            "Installing collected packages: essentia, mir-eval, pysoundfile\n",
            "Successfully installed essentia-2.1b6.dev374 mir-eval-0.6 pysoundfile-0.9.0.post1\n"
          ],
          "name": "stdout"
        }
      ]
    },
    {
      "cell_type": "code",
      "metadata": {
        "id": "p9G8MdxSE0sE"
      },
      "source": [
        "import os\n",
        "from essentia import *\n",
        "from essentia.standard import *\n",
        "import matplotlib.pyplot as plt\n",
        "import numpy as np\n",
        "from scipy.signal import get_window\n",
        "import soundfile as sf\n",
        "import urllib.request\n",
        "from IPython.display import Audio\n",
        "import mir_eval"
      ],
      "execution_count": 2,
      "outputs": []
    },
    {
      "cell_type": "code",
      "metadata": {
        "id": "IkmVYNdtE0sH",
        "colab": {
          "base_uri": "https://localhost:8080/",
          "height": 1000
        },
        "outputId": "497774c2-e339-46ed-f04e-475f3de94729"
      },
      "source": [
        "#Downloading a standard mir dataset\n",
        "!pip install mirdata\n",
        "import mirdata\n",
        "orchset = mirdata.initialize('orchset')\n",
        "orchset.download()"
      ],
      "execution_count": 3,
      "outputs": [
        {
          "output_type": "stream",
          "text": [
            "Collecting mirdata\n",
            "\u001b[?25l  Downloading https://files.pythonhosted.org/packages/ad/20/989b7d3113920bea268d2de6912772faea08ae4009a92b7aa1ce080f8353/mirdata-0.3.0-py3-none-any.whl (6.1MB)\n",
            "\u001b[K     |████████████████████████████████| 6.1MB 5.0MB/s \n",
            "\u001b[?25hRequirement already satisfied: tqdm in /usr/local/lib/python3.6/dist-packages (from mirdata) (4.41.1)\n",
            "Requirement already satisfied: requests in /usr/local/lib/python3.6/dist-packages (from mirdata) (2.23.0)\n",
            "Collecting librosa>=0.8.0\n",
            "\u001b[?25l  Downloading https://files.pythonhosted.org/packages/26/4d/c22d8ca74ca2c13cd4ac430fa353954886104321877b65fa871939e78591/librosa-0.8.0.tar.gz (183kB)\n",
            "\u001b[K     |████████████████████████████████| 184kB 41.8MB/s \n",
            "\u001b[?25hCollecting pretty-midi>=0.2.8\n",
            "\u001b[?25l  Downloading https://files.pythonhosted.org/packages/bc/8e/63c6e39a7a64623a9cd6aec530070c70827f6f8f40deec938f323d7b1e15/pretty_midi-0.2.9.tar.gz (5.6MB)\n",
            "\u001b[K     |████████████████████████████████| 5.6MB 37.7MB/s \n",
            "\u001b[?25hRequirement already satisfied: numpy>=1.16 in /usr/local/lib/python3.6/dist-packages (from mirdata) (1.19.5)\n",
            "Collecting jams\n",
            "\u001b[?25l  Downloading https://files.pythonhosted.org/packages/cc/1a/761a500a9512937931e325b8950195f17e5ba991c92d38d2079a2d8c5590/jams-0.3.4.tar.gz (51kB)\n",
            "\u001b[K     |████████████████████████████████| 61kB 6.7MB/s \n",
            "\u001b[?25hRequirement already satisfied: idna<3,>=2.5 in /usr/local/lib/python3.6/dist-packages (from requests->mirdata) (2.10)\n",
            "Requirement already satisfied: certifi>=2017.4.17 in /usr/local/lib/python3.6/dist-packages (from requests->mirdata) (2020.12.5)\n",
            "Requirement already satisfied: urllib3!=1.25.0,!=1.25.1,<1.26,>=1.21.1 in /usr/local/lib/python3.6/dist-packages (from requests->mirdata) (1.24.3)\n",
            "Requirement already satisfied: chardet<4,>=3.0.2 in /usr/local/lib/python3.6/dist-packages (from requests->mirdata) (3.0.4)\n",
            "Requirement already satisfied: audioread>=2.0.0 in /usr/local/lib/python3.6/dist-packages (from librosa>=0.8.0->mirdata) (2.1.9)\n",
            "Requirement already satisfied: scipy>=1.0.0 in /usr/local/lib/python3.6/dist-packages (from librosa>=0.8.0->mirdata) (1.4.1)\n",
            "Requirement already satisfied: scikit-learn!=0.19.0,>=0.14.0 in /usr/local/lib/python3.6/dist-packages (from librosa>=0.8.0->mirdata) (0.22.2.post1)\n",
            "Requirement already satisfied: joblib>=0.14 in /usr/local/lib/python3.6/dist-packages (from librosa>=0.8.0->mirdata) (1.0.0)\n",
            "Requirement already satisfied: decorator>=3.0.0 in /usr/local/lib/python3.6/dist-packages (from librosa>=0.8.0->mirdata) (4.4.2)\n",
            "Requirement already satisfied: resampy>=0.2.2 in /usr/local/lib/python3.6/dist-packages (from librosa>=0.8.0->mirdata) (0.2.2)\n",
            "Requirement already satisfied: numba>=0.43.0 in /usr/local/lib/python3.6/dist-packages (from librosa>=0.8.0->mirdata) (0.48.0)\n",
            "Collecting soundfile>=0.9.0\n",
            "  Downloading https://files.pythonhosted.org/packages/eb/f2/3cbbbf3b96fb9fa91582c438b574cff3f45b29c772f94c400e2c99ef5db9/SoundFile-0.10.3.post1-py2.py3-none-any.whl\n",
            "Collecting pooch>=1.0\n",
            "\u001b[?25l  Downloading https://files.pythonhosted.org/packages/40/b9/9876662636ba451d4406543047c0b45ca5b4e830f931308c8274dad1db43/pooch-1.3.0-py3-none-any.whl (51kB)\n",
            "\u001b[K     |████████████████████████████████| 61kB 7.0MB/s \n",
            "\u001b[?25hCollecting mido>=1.1.16\n",
            "\u001b[?25l  Downloading https://files.pythonhosted.org/packages/20/0a/81beb587b1ae832ea6a1901dc7c6faa380e8dd154e0a862f0a9f3d2afab9/mido-1.2.9-py2.py3-none-any.whl (52kB)\n",
            "\u001b[K     |████████████████████████████████| 61kB 6.4MB/s \n",
            "\u001b[?25hRequirement already satisfied: six in /usr/local/lib/python3.6/dist-packages (from pretty-midi>=0.2.8->mirdata) (1.15.0)\n",
            "Requirement already satisfied: pandas in /usr/local/lib/python3.6/dist-packages (from jams->mirdata) (1.1.5)\n",
            "Requirement already satisfied: sortedcontainers>=2.0.0 in /usr/local/lib/python3.6/dist-packages (from jams->mirdata) (2.3.0)\n",
            "Collecting jsonschema>=3.0.0\n",
            "\u001b[?25l  Downloading https://files.pythonhosted.org/packages/c5/8f/51e89ce52a085483359217bc72cdbf6e75ee595d5b1d4b5ade40c7e018b8/jsonschema-3.2.0-py2.py3-none-any.whl (56kB)\n",
            "\u001b[K     |████████████████████████████████| 61kB 6.3MB/s \n",
            "\u001b[?25hRequirement already satisfied: mir_eval>=0.5 in /usr/local/lib/python3.6/dist-packages (from jams->mirdata) (0.6)\n",
            "Requirement already satisfied: setuptools in /usr/local/lib/python3.6/dist-packages (from numba>=0.43.0->librosa>=0.8.0->mirdata) (51.1.2)\n",
            "Requirement already satisfied: llvmlite<0.32.0,>=0.31.0dev0 in /usr/local/lib/python3.6/dist-packages (from numba>=0.43.0->librosa>=0.8.0->mirdata) (0.31.0)\n",
            "Requirement already satisfied: cffi>=1.0 in /usr/local/lib/python3.6/dist-packages (from soundfile>=0.9.0->librosa>=0.8.0->mirdata) (1.14.4)\n",
            "Requirement already satisfied: packaging in /usr/local/lib/python3.6/dist-packages (from pooch>=1.0->librosa>=0.8.0->mirdata) (20.8)\n",
            "Collecting appdirs\n",
            "  Downloading https://files.pythonhosted.org/packages/3b/00/2344469e2084fb287c2e0b57b72910309874c3245463acd6cf5e3db69324/appdirs-1.4.4-py2.py3-none-any.whl\n",
            "Requirement already satisfied: python-dateutil>=2.7.3 in /usr/local/lib/python3.6/dist-packages (from pandas->jams->mirdata) (2.8.1)\n",
            "Requirement already satisfied: pytz>=2017.2 in /usr/local/lib/python3.6/dist-packages (from pandas->jams->mirdata) (2018.9)\n",
            "Requirement already satisfied: importlib-metadata; python_version < \"3.8\" in /usr/local/lib/python3.6/dist-packages (from jsonschema>=3.0.0->jams->mirdata) (3.3.0)\n",
            "Requirement already satisfied: pyrsistent>=0.14.0 in /usr/local/lib/python3.6/dist-packages (from jsonschema>=3.0.0->jams->mirdata) (0.17.3)\n",
            "Requirement already satisfied: attrs>=17.4.0 in /usr/local/lib/python3.6/dist-packages (from jsonschema>=3.0.0->jams->mirdata) (20.3.0)\n",
            "Requirement already satisfied: future in /usr/local/lib/python3.6/dist-packages (from mir_eval>=0.5->jams->mirdata) (0.16.0)\n",
            "Requirement already satisfied: pycparser in /usr/local/lib/python3.6/dist-packages (from cffi>=1.0->soundfile>=0.9.0->librosa>=0.8.0->mirdata) (2.20)\n",
            "Requirement already satisfied: pyparsing>=2.0.2 in /usr/local/lib/python3.6/dist-packages (from packaging->pooch>=1.0->librosa>=0.8.0->mirdata) (2.4.7)\n",
            "Requirement already satisfied: zipp>=0.5 in /usr/local/lib/python3.6/dist-packages (from importlib-metadata; python_version < \"3.8\"->jsonschema>=3.0.0->jams->mirdata) (3.4.0)\n",
            "Requirement already satisfied: typing-extensions>=3.6.4; python_version < \"3.8\" in /usr/local/lib/python3.6/dist-packages (from importlib-metadata; python_version < \"3.8\"->jsonschema>=3.0.0->jams->mirdata) (3.7.4.3)\n",
            "Building wheels for collected packages: librosa, pretty-midi, jams\n",
            "  Building wheel for librosa (setup.py) ... \u001b[?25l\u001b[?25hdone\n",
            "  Created wheel for librosa: filename=librosa-0.8.0-cp36-none-any.whl size=201375 sha256=af05e7d72eab5af6aee2c69d879bd02b396fe7e2c52127c7916d9f02a32b2ddc\n",
            "  Stored in directory: /root/.cache/pip/wheels/ee/10/1e/382bb4369e189938d5c02e06d10c651817da8d485bfd1647c9\n",
            "  Building wheel for pretty-midi (setup.py) ... \u001b[?25l\u001b[?25hdone\n",
            "  Created wheel for pretty-midi: filename=pretty_midi-0.2.9-cp36-none-any.whl size=5591954 sha256=d1bf431e9b4c54929b5e87e6435ec133d04679ab82aaf64d32b2ca32b5309011\n",
            "  Stored in directory: /root/.cache/pip/wheels/4c/a1/c6/b5697841db1112c6e5866d75a6b6bf1bef73b874782556ba66\n",
            "  Building wheel for jams (setup.py) ... \u001b[?25l\u001b[?25hdone\n",
            "  Created wheel for jams: filename=jams-0.3.4-cp36-none-any.whl size=64925 sha256=1c5304e082a39a1df4945fbb7f5a0e3e9b96ddcc86776db25f4a9355518077e4\n",
            "  Stored in directory: /root/.cache/pip/wheels/2b/b8/c7/092096a3af0eb864cca4e79a44bc883dee5b9767da2c6f8ab3\n",
            "Successfully built librosa pretty-midi jams\n",
            "\u001b[31mERROR: nbclient 0.5.1 has requirement jupyter-client>=6.1.5, but you'll have jupyter-client 5.3.5 which is incompatible.\u001b[0m\n",
            "Installing collected packages: soundfile, appdirs, pooch, librosa, mido, pretty-midi, jsonschema, jams, mirdata\n",
            "  Found existing installation: librosa 0.6.3\n",
            "    Uninstalling librosa-0.6.3:\n",
            "      Successfully uninstalled librosa-0.6.3\n",
            "  Found existing installation: jsonschema 2.6.0\n",
            "    Uninstalling jsonschema-2.6.0:\n",
            "      Successfully uninstalled jsonschema-2.6.0\n",
            "Successfully installed appdirs-1.4.4 jams-0.3.4 jsonschema-3.2.0 librosa-0.8.0 mido-1.2.9 mirdata-0.3.0 pooch-1.3.0 pretty-midi-0.2.9 soundfile-0.10.3.post1\n"
          ],
          "name": "stdout"
        },
        {
          "output_type": "display_data",
          "data": {
            "application/vnd.colab-display-data+json": {
              "pip_warning": {
                "packages": [
                  "soundfile"
                ]
              }
            }
          },
          "metadata": {
            "tags": []
          }
        },
        {
          "output_type": "stream",
          "text": [
            "INFO: Downloading ['all'] to /root/mir_datasets/orchset\n",
            "INFO: [all] downloading Orchset_dataset_0.zip\n",
            "311MB [00:20, 16.0MB/s]                           \n"
          ],
          "name": "stderr"
        }
      ]
    },
    {
      "cell_type": "markdown",
      "metadata": {
        "id": "KrAkxHGRMLIJ"
      },
      "source": [
        "# Exctracting f0s"
      ]
    },
    {
      "cell_type": "code",
      "metadata": {
        "id": "UKI6xk62FgC5"
      },
      "source": [
        "#Collecting audio file names \n",
        "all_files = []\n",
        "for root, dirs, files in os.walk('/root/mir_datasets/orchset/audio/mono/'):\n",
        "    for file in files:\n",
        "        if file.endswith('.wav'):\n",
        "            file_name = os.path.join(root,file)\n",
        "            all_files.append(file_name)"
      ],
      "execution_count": 4,
      "outputs": []
    },
    {
      "cell_type": "code",
      "metadata": {
        "id": "_OYL8MMBsUfZ"
      },
      "source": [
        "for file in all_files:\n",
        " x, fs = sf.read(file)\n",
        " x = x / np.max(np.abs(x))#amplitude normalisation\n",
        " minF0 = 50 #in Hz\n",
        " maxF0 = 2000 #in Hz\n",
        " windowSize = 4096\n",
        " hopSize = 1024\n",
        " w = get_window('blackman', windowSize)\n",
        " startIndexes = np.arange(0, x.size - windowSize, hopSize, dtype = int)\n",
        " numWindows = startIndexes.size\n",
        " Audio(x, rate=fs)\n",
        " run_predominant_melody = PitchMelodia(guessUnvoiced = True,\n",
        "                                      frameSize = windowSize,\n",
        "                                      hopSize = hopSize,\n",
        "                                      maxFrequency = maxF0,\n",
        "                                      minFrequency = minF0,\n",
        "                                      sampleRate = fs);\n",
        " f0, confidence = run_predominant_melody(x)"
      ],
      "execution_count": 6,
      "outputs": []
    },
    {
      "cell_type": "markdown",
      "metadata": {
        "id": "LzzbAdSFMUob"
      },
      "source": [
        "# Using essentia-melody algorithm"
      ]
    },
    {
      "cell_type": "code",
      "metadata": {
        "id": "2zXzdsixLHVR"
      },
      "source": [
        "#Collecting mel file names for Annotations \n",
        "all_midi = []\n",
        "for root, dirs, files in os.walk('/root/mir_datasets/orchset/GT'):\n",
        "    for file in files:\n",
        "        if file.endswith('.mel'):\n",
        "            file_name = os.path.join(root,file)\n",
        "            all_midi.append(file_name)        \n",
        "            #Reading ground-truth\n",
        "            ref_time, ref_freq = mir_eval.io.load_time_series(file)\n",
        "\n",
        "#Saving estimated values to file\n",
        "for file in all_files:\n",
        " fileNameF0 = file.replace('.wav','.f0_preDomMel.txt')\n",
        " startIndexes = np.arange(0, x.size - windowSize, hopSize, dtype = int)\n",
        " with open(fileNameF0, 'w') as f:\n",
        "    for k in range(startIndexes.size):\n",
        "        time = (startIndexes[k] + windowSize / 2) / fs\n",
        "        f.write(str(time) + '\\t' + str(f0[k]) + '\\n')\n",
        "\n",
        "#Collecting text file names \n",
        "all_text = []\n",
        "for root, dirs, files in os.walk('/root/mir_datasets/orchset/audio/mono/'):\n",
        "    for file in files:\n",
        "        if file.endswith('.txt'):\n",
        "            file_name = os.path.join(root,file)\n",
        "            all_text.append(file_name)\n",
        "\n",
        "for file in all_text:\n",
        "  #Re-reading Essentia estimation results\n",
        "  est_time, est_freq = mir_eval.io.load_time_series(file) "
      ],
      "execution_count": 7,
      "outputs": []
    },
    {
      "cell_type": "code",
      "metadata": {
        "colab": {
          "base_uri": "https://localhost:8080/"
        },
        "id": "Dc44uVIEE0sG",
        "outputId": "39c6fed6-633d-4da1-c422-3dd5f52c27f1"
      },
      "source": [
        "for file in files\n",
        "  #Running evaluation and ptinting\n",
        "  scores = mir_eval.melody.evaluate(ref_time, ref_freq,est_time, est_freq)\n",
        "  for score in scores:\n",
        "    print(score,'\\t',scores[score])"
      ],
      "execution_count": null,
      "outputs": [
        {
          "output_type": "stream",
          "text": [
            "Voicing Recall \t 0.7893447642375995\n",
            "Voicing False Alarm \t 0.7719298245614035\n",
            "Raw Pitch Accuracy \t 0.004286589099816289\n",
            "Raw Chroma Accuracy \t 0.07164727495407226\n",
            "Overall Accuracy \t 0.011834319526627219\n"
          ],
          "name": "stdout"
        }
      ]
    },
    {
      "cell_type": "markdown",
      "metadata": {
        "id": "DiZPocjwE0sG"
      },
      "source": [
        "# Using crepe algorithm"
      ]
    },
    {
      "cell_type": "code",
      "metadata": {
        "id": "vewwKxUjLy85",
        "outputId": "05a82563-4aa5-49f1-c051-29945d778ff4",
        "colab": {
          "base_uri": "https://localhost:8080/"
        }
      },
      "source": [
        "!pip install crepe\n",
        "import crepe"
      ],
      "execution_count": 8,
      "outputs": [
        {
          "output_type": "stream",
          "text": [
            "Collecting crepe\n",
            "  Downloading https://files.pythonhosted.org/packages/c8/74/1677b9369f233745b3dedf707ce26fb935c5c400379c45400df818f3a805/crepe-0.0.11.tar.gz\n",
            "Requirement already satisfied: numpy>=1.14.0 in /usr/local/lib/python3.6/dist-packages (from crepe) (1.19.5)\n",
            "Requirement already satisfied: scipy>=1.0.0 in /usr/local/lib/python3.6/dist-packages (from crepe) (1.4.1)\n",
            "Requirement already satisfied: matplotlib>=2.1.0 in /usr/local/lib/python3.6/dist-packages (from crepe) (3.2.2)\n",
            "Requirement already satisfied: resampy<0.3.0,>=0.2.0 in /usr/local/lib/python3.6/dist-packages (from crepe) (0.2.2)\n",
            "Requirement already satisfied: h5py<3.0.0,>=2.7.0 in /usr/local/lib/python3.6/dist-packages (from crepe) (2.10.0)\n",
            "Collecting hmmlearn<0.3.0,>=0.2.0\n",
            "\u001b[?25l  Downloading https://files.pythonhosted.org/packages/b3/49/9e9a89cee24b26ef6afec5abbd5eb9cf14632855f32b999389873ecb1b4e/hmmlearn-0.2.4-cp36-cp36m-manylinux1_x86_64.whl (361kB)\n",
            "\u001b[K     |████████████████████████████████| 368kB 6.4MB/s \n",
            "\u001b[?25hRequirement already satisfied: imageio>=2.3.0 in /usr/local/lib/python3.6/dist-packages (from crepe) (2.4.1)\n",
            "Requirement already satisfied: scikit-learn>=0.16 in /usr/local/lib/python3.6/dist-packages (from crepe) (0.22.2.post1)\n",
            "Requirement already satisfied: python-dateutil>=2.1 in /usr/local/lib/python3.6/dist-packages (from matplotlib>=2.1.0->crepe) (2.8.1)\n",
            "Requirement already satisfied: pyparsing!=2.0.4,!=2.1.2,!=2.1.6,>=2.0.1 in /usr/local/lib/python3.6/dist-packages (from matplotlib>=2.1.0->crepe) (2.4.7)\n",
            "Requirement already satisfied: kiwisolver>=1.0.1 in /usr/local/lib/python3.6/dist-packages (from matplotlib>=2.1.0->crepe) (1.3.1)\n",
            "Requirement already satisfied: cycler>=0.10 in /usr/local/lib/python3.6/dist-packages (from matplotlib>=2.1.0->crepe) (0.10.0)\n",
            "Requirement already satisfied: numba>=0.32 in /usr/local/lib/python3.6/dist-packages (from resampy<0.3.0,>=0.2.0->crepe) (0.48.0)\n",
            "Requirement already satisfied: six>=1.3 in /usr/local/lib/python3.6/dist-packages (from resampy<0.3.0,>=0.2.0->crepe) (1.15.0)\n",
            "Requirement already satisfied: pillow in /usr/local/lib/python3.6/dist-packages (from imageio>=2.3.0->crepe) (7.0.0)\n",
            "Requirement already satisfied: joblib>=0.11 in /usr/local/lib/python3.6/dist-packages (from scikit-learn>=0.16->crepe) (1.0.0)\n",
            "Requirement already satisfied: llvmlite<0.32.0,>=0.31.0dev0 in /usr/local/lib/python3.6/dist-packages (from numba>=0.32->resampy<0.3.0,>=0.2.0->crepe) (0.31.0)\n",
            "Requirement already satisfied: setuptools in /usr/local/lib/python3.6/dist-packages (from numba>=0.32->resampy<0.3.0,>=0.2.0->crepe) (51.1.2)\n",
            "Building wheels for collected packages: crepe\n",
            "  Building wheel for crepe (setup.py) ... \u001b[?25l\u001b[?25hdone\n",
            "  Created wheel for crepe: filename=crepe-0.0.11-cp36-none-any.whl size=134848478 sha256=80b4ec0c41c2cbf6312d08058b6bb277fb082da54415d477bf03e1cda7babfd0\n",
            "  Stored in directory: /root/.cache/pip/wheels/7f/68/d0/502d27bfe590bfa51c6fe95cf9e4482fed18c22c480a8d7c77\n",
            "Successfully built crepe\n",
            "Installing collected packages: hmmlearn, crepe\n",
            "Successfully installed crepe-0.0.11 hmmlearn-0.2.4\n"
          ],
          "name": "stdout"
        }
      ]
    },
    {
      "cell_type": "code",
      "metadata": {
        "colab": {
          "base_uri": "https://localhost:8080/"
        },
        "id": "DVFRMX_mC6Xd",
        "outputId": "aa302b40-5382-4640-c19d-0801c7578686"
      },
      "source": [
        "# After deleting the Readme.txt in orchest folder we can run the following\n",
        "scores =[]\n",
        "for root, dirs, files in os.walk('/root/mir_datasets/orchset/'):\n",
        "        if file.endswith('.mel'):\n",
        "            file_name = os.path.join(root,file)\n",
        "            all_midi.append(file_name)        \n",
        "            #Reading ground-truth\n",
        "            ref_time, ref_freq = mir_eval.io.load_time_series(file)\n",
        "        elif file.endswith('.wav'):\n",
        "           hopSize = 441#10 miliseconds\n",
        "           windowSize = 4096\n",
        "           fs = 44100\n",
        "           x, fs = sf.read(file)\n",
        "           x = x / np.max(np.abs(x))#amplitude normalisation\n",
        "           #x = EqualLoudness()(x)\n",
        "           est_time, est_freq, confidence, activation = crepe.predict(x, fs,viterbi=True)\n",
        "           #Running evaluation and ptinting\n",
        "           for score in scores:\n",
        "             scores[score] = mir_eval.melody.evaluate(ref_time, ref_freq,est_time, est_freq)\n",
        "             print(score,'\\t',scores[file])"
      ],
      "execution_count": null,
      "outputs": [
        {
          "output_type": "stream",
          "text": [
            "69/69 [==============================] - 112s 2s/step\n",
            "69/69 [==============================] - 111s 2s/step\n",
            "27/69 [==========>...................] - ETA: 1:08"
          ],
          "name": "stdout"
        }
      ]
    }
  ]
}