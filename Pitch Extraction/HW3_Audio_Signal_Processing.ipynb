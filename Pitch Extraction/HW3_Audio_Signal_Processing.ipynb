{
  "nbformat": 4,
  "nbformat_minor": 0,
  "metadata": {
    "colab": {
      "name": "HW3_Audio_Signal_Processing.ipynb",
      "provenance": [],
      "collapsed_sections": [],
      "include_colab_link": true
    },
    "kernelspec": {
      "display_name": "Python 3",
      "language": "python",
      "name": "python3"
    },
    "language_info": {
      "codemirror_mode": {
        "name": "ipython",
        "version": 3
      },
      "file_extension": ".py",
      "mimetype": "text/x-python",
      "name": "python",
      "nbconvert_exporter": "python",
      "pygments_lexer": "ipython3",
      "version": "3.6.7"
    }
  },
  "cells": [
    {
      "cell_type": "markdown",
      "metadata": {
        "id": "view-in-github",
        "colab_type": "text"
      },
      "source": [
        "<a href=\"https://colab.research.google.com/github/kenanmorani/Audio_Signal_Processing_For_Music_Applications_idu/blob/main/Pitch%20Extraction/HW3_Audio_Signal_Processing.ipynb\" target=\"_parent\"><img src=\"https://colab.research.google.com/assets/colab-badge.svg\" alt=\"Open In Colab\"/></a>"
      ]
    },
    {
      "cell_type": "markdown",
      "metadata": {
        "id": "813w7nF0E0r_"
      },
      "source": [
        "# HW3 Audio Signal Processing for Music Applications course\n",
        "Izmir Democracy University, Electrical and Electronics Program    \n",
        "Submitted to Professor Barsi Bozkurt      \n",
        "Submitted by Kenan MORANI     "
      ]
    },
    {
      "cell_type": "markdown",
      "metadata": {
        "id": "NEXra68zL6MF"
      },
      "source": [
        "# Installing and importing the required libraries"
      ]
    },
    {
      "cell_type": "code",
      "metadata": {
        "colab": {
          "base_uri": "https://localhost:8080/"
        },
        "id": "IyIgmh-aq29r",
        "outputId": "36eebd4a-86ba-4cde-ae8a-c29d8c9203a9"
      },
      "source": [
        "!pip install essentia mir_eval pysoundfile"
      ],
      "execution_count": 9,
      "outputs": [
        {
          "output_type": "stream",
          "text": [
            "Requirement already satisfied: essentia in /usr/local/lib/python3.6/dist-packages (2.1b6.dev374)\n",
            "Requirement already satisfied: mir_eval in /usr/local/lib/python3.6/dist-packages (0.6)\n",
            "Requirement already satisfied: pysoundfile in /usr/local/lib/python3.6/dist-packages (0.9.0.post1)\n",
            "Requirement already satisfied: pyyaml in /usr/local/lib/python3.6/dist-packages (from essentia) (3.13)\n",
            "Requirement already satisfied: six in /usr/local/lib/python3.6/dist-packages (from essentia) (1.15.0)\n",
            "Requirement already satisfied: numpy>=1.8.2 in /usr/local/lib/python3.6/dist-packages (from essentia) (1.19.5)\n",
            "Requirement already satisfied: scipy>=1.0.0 in /usr/local/lib/python3.6/dist-packages (from mir_eval) (1.4.1)\n",
            "Requirement already satisfied: future in /usr/local/lib/python3.6/dist-packages (from mir_eval) (0.16.0)\n",
            "Requirement already satisfied: cffi>=0.6 in /usr/local/lib/python3.6/dist-packages (from pysoundfile) (1.14.4)\n",
            "Requirement already satisfied: pycparser in /usr/local/lib/python3.6/dist-packages (from cffi>=0.6->pysoundfile) (2.20)\n"
          ],
          "name": "stdout"
        }
      ]
    },
    {
      "cell_type": "code",
      "metadata": {
        "id": "p9G8MdxSE0sE"
      },
      "source": [
        "import os\n",
        "from essentia import *\n",
        "from essentia.standard import *\n",
        "import matplotlib.pyplot as plt\n",
        "import numpy as np\n",
        "from scipy.signal import get_window\n",
        "import soundfile as sf\n",
        "import urllib.request\n",
        "from IPython.display import Audio\n",
        "import mir_eval"
      ],
      "execution_count": 10,
      "outputs": []
    },
    {
      "cell_type": "code",
      "metadata": {
        "id": "IkmVYNdtE0sH",
        "colab": {
          "base_uri": "https://localhost:8080/"
        },
        "outputId": "f5c6d43f-86d6-41fa-e430-a6c766a7e7d7"
      },
      "source": [
        "#Downloading a standard mir dataset\n",
        "!pip install mirdata\n",
        "import mirdata\n",
        "orchset = mirdata.initialize('orchset')\n",
        "orchset.download()"
      ],
      "execution_count": 11,
      "outputs": [
        {
          "output_type": "stream",
          "text": [
            "Requirement already satisfied: mirdata in /usr/local/lib/python3.6/dist-packages (0.3.0)\n",
            "Requirement already satisfied: pretty-midi>=0.2.8 in /usr/local/lib/python3.6/dist-packages (from mirdata) (0.2.9)\n",
            "Requirement already satisfied: requests in /usr/local/lib/python3.6/dist-packages (from mirdata) (2.23.0)\n",
            "Requirement already satisfied: numpy>=1.16 in /usr/local/lib/python3.6/dist-packages (from mirdata) (1.19.5)\n",
            "Requirement already satisfied: jams in /usr/local/lib/python3.6/dist-packages (from mirdata) (0.3.4)\n",
            "Requirement already satisfied: librosa>=0.8.0 in /usr/local/lib/python3.6/dist-packages (from mirdata) (0.8.0)\n",
            "Requirement already satisfied: tqdm in /usr/local/lib/python3.6/dist-packages (from mirdata) (4.41.1)\n",
            "Requirement already satisfied: six in /usr/local/lib/python3.6/dist-packages (from pretty-midi>=0.2.8->mirdata) (1.15.0)\n",
            "Requirement already satisfied: mido>=1.1.16 in /usr/local/lib/python3.6/dist-packages (from pretty-midi>=0.2.8->mirdata) (1.2.9)\n",
            "Requirement already satisfied: chardet<4,>=3.0.2 in /usr/local/lib/python3.6/dist-packages (from requests->mirdata) (3.0.4)\n",
            "Requirement already satisfied: idna<3,>=2.5 in /usr/local/lib/python3.6/dist-packages (from requests->mirdata) (2.10)\n",
            "Requirement already satisfied: certifi>=2017.4.17 in /usr/local/lib/python3.6/dist-packages (from requests->mirdata) (2020.12.5)\n",
            "Requirement already satisfied: urllib3!=1.25.0,!=1.25.1,<1.26,>=1.21.1 in /usr/local/lib/python3.6/dist-packages (from requests->mirdata) (1.24.3)\n",
            "Requirement already satisfied: mir-eval>=0.5 in /usr/local/lib/python3.6/dist-packages (from jams->mirdata) (0.6)\n",
            "Requirement already satisfied: decorator in /usr/local/lib/python3.6/dist-packages (from jams->mirdata) (4.4.2)\n",
            "Requirement already satisfied: sortedcontainers>=2.0.0 in /usr/local/lib/python3.6/dist-packages (from jams->mirdata) (2.3.0)\n",
            "Requirement already satisfied: jsonschema>=3.0.0 in /usr/local/lib/python3.6/dist-packages (from jams->mirdata) (3.2.0)\n",
            "Requirement already satisfied: pandas in /usr/local/lib/python3.6/dist-packages (from jams->mirdata) (1.1.5)\n",
            "Requirement already satisfied: soundfile>=0.9.0 in /usr/local/lib/python3.6/dist-packages (from librosa>=0.8.0->mirdata) (0.10.3.post1)\n",
            "Requirement already satisfied: joblib>=0.14 in /usr/local/lib/python3.6/dist-packages (from librosa>=0.8.0->mirdata) (1.0.0)\n",
            "Requirement already satisfied: scikit-learn!=0.19.0,>=0.14.0 in /usr/local/lib/python3.6/dist-packages (from librosa>=0.8.0->mirdata) (0.22.2.post1)\n",
            "Requirement already satisfied: resampy>=0.2.2 in /usr/local/lib/python3.6/dist-packages (from librosa>=0.8.0->mirdata) (0.2.2)\n",
            "Requirement already satisfied: audioread>=2.0.0 in /usr/local/lib/python3.6/dist-packages (from librosa>=0.8.0->mirdata) (2.1.9)\n",
            "Requirement already satisfied: numba>=0.43.0 in /usr/local/lib/python3.6/dist-packages (from librosa>=0.8.0->mirdata) (0.48.0)\n",
            "Requirement already satisfied: pooch>=1.0 in /usr/local/lib/python3.6/dist-packages (from librosa>=0.8.0->mirdata) (1.3.0)\n",
            "Requirement already satisfied: scipy>=1.0.0 in /usr/local/lib/python3.6/dist-packages (from librosa>=0.8.0->mirdata) (1.4.1)\n",
            "Requirement already satisfied: future in /usr/local/lib/python3.6/dist-packages (from mir-eval>=0.5->jams->mirdata) (0.16.0)\n",
            "Requirement already satisfied: attrs>=17.4.0 in /usr/local/lib/python3.6/dist-packages (from jsonschema>=3.0.0->jams->mirdata) (20.3.0)\n",
            "Requirement already satisfied: importlib-metadata; python_version < \"3.8\" in /usr/local/lib/python3.6/dist-packages (from jsonschema>=3.0.0->jams->mirdata) (3.3.0)\n",
            "Requirement already satisfied: setuptools in /usr/local/lib/python3.6/dist-packages (from jsonschema>=3.0.0->jams->mirdata) (51.1.1)\n",
            "Requirement already satisfied: pyrsistent>=0.14.0 in /usr/local/lib/python3.6/dist-packages (from jsonschema>=3.0.0->jams->mirdata) (0.17.3)\n",
            "Requirement already satisfied: python-dateutil>=2.7.3 in /usr/local/lib/python3.6/dist-packages (from pandas->jams->mirdata) (2.8.1)\n",
            "Requirement already satisfied: pytz>=2017.2 in /usr/local/lib/python3.6/dist-packages (from pandas->jams->mirdata) (2018.9)\n",
            "Requirement already satisfied: cffi>=1.0 in /usr/local/lib/python3.6/dist-packages (from soundfile>=0.9.0->librosa>=0.8.0->mirdata) (1.14.4)\n",
            "Requirement already satisfied: llvmlite<0.32.0,>=0.31.0dev0 in /usr/local/lib/python3.6/dist-packages (from numba>=0.43.0->librosa>=0.8.0->mirdata) (0.31.0)\n",
            "Requirement already satisfied: appdirs in /usr/local/lib/python3.6/dist-packages (from pooch>=1.0->librosa>=0.8.0->mirdata) (1.4.4)\n",
            "Requirement already satisfied: packaging in /usr/local/lib/python3.6/dist-packages (from pooch>=1.0->librosa>=0.8.0->mirdata) (20.8)\n",
            "Requirement already satisfied: zipp>=0.5 in /usr/local/lib/python3.6/dist-packages (from importlib-metadata; python_version < \"3.8\"->jsonschema>=3.0.0->jams->mirdata) (3.4.0)\n",
            "Requirement already satisfied: typing-extensions>=3.6.4; python_version < \"3.8\" in /usr/local/lib/python3.6/dist-packages (from importlib-metadata; python_version < \"3.8\"->jsonschema>=3.0.0->jams->mirdata) (3.7.4.3)\n",
            "Requirement already satisfied: pycparser in /usr/local/lib/python3.6/dist-packages (from cffi>=1.0->soundfile>=0.9.0->librosa>=0.8.0->mirdata) (2.20)\n",
            "Requirement already satisfied: pyparsing>=2.0.2 in /usr/local/lib/python3.6/dist-packages (from packaging->pooch>=1.0->librosa>=0.8.0->mirdata) (2.4.7)\n"
          ],
          "name": "stdout"
        },
        {
          "output_type": "stream",
          "text": [
            "INFO: Downloading ['all'] to /root/mir_datasets/orchset\n",
            "INFO: [all] downloading Orchset_dataset_0.zip\n",
            "INFO: /root/mir_datasets/orchset/Orchset_dataset_0.zip already exists and will not be downloaded. Rerun with force_overwrite=True to delete this file and force the download.\n",
            "INFO: /root/mir_datasets/orchset/GT already exists. Run with force_overwrite=True to download from scratch\n",
            "INFO: /root/mir_datasets/orchset/README.txt already exists. Run with force_overwrite=True to download from scratch\n",
            "INFO: /root/mir_datasets/orchset/midi already exists. Run with force_overwrite=True to download from scratch\n",
            "INFO: /root/mir_datasets/orchset/Orchset - Predominant Melodic Instruments.csv already exists. Run with force_overwrite=True to download from scratch\n",
            "INFO: /root/mir_datasets/orchset/audio already exists. Run with force_overwrite=True to download from scratch\n"
          ],
          "name": "stderr"
        }
      ]
    },
    {
      "cell_type": "markdown",
      "metadata": {
        "id": "KrAkxHGRMLIJ"
      },
      "source": [
        "# Exctracting f0s"
      ]
    },
    {
      "cell_type": "code",
      "metadata": {
        "id": "UKI6xk62FgC5"
      },
      "source": [
        "#Collecting audio file names \n",
        "all_files = []\n",
        "for root, dirs, files in os.walk('/root/mir_datasets/orchset/audio/mono/'):\n",
        "    for file in files:\n",
        "        if file.endswith('.wav'):\n",
        "            file_name = os.path.join(root,file)\n",
        "            all_files.append(file_name)"
      ],
      "execution_count": 12,
      "outputs": []
    },
    {
      "cell_type": "code",
      "metadata": {
        "id": "_OYL8MMBsUfZ"
      },
      "source": [
        "for file in all_files:\n",
        " x, fs = sf.read(file)\n",
        " x = x / np.max(np.abs(x))#amplitude normalisation\n",
        " minF0 = 50 #in Hz\n",
        " maxF0 = 2000 #in Hz\n",
        " windowSize = 4096\n",
        " hopSize = 1024\n",
        " w = get_window('blackman', windowSize)\n",
        " startIndexes = np.arange(0, x.size - windowSize, hopSize, dtype = int)\n",
        " numWindows = startIndexes.size\n",
        " Audio(x, rate=fs)\n",
        " run_predominant_melody = PitchMelodia(guessUnvoiced = True,\n",
        "                                      frameSize = windowSize,\n",
        "                                      hopSize = hopSize,\n",
        "                                      maxFrequency = maxF0,\n",
        "                                      minFrequency = minF0,\n",
        "                                      sampleRate = fs);\n",
        " f0, confidence = run_predominant_melody(x)"
      ],
      "execution_count": 13,
      "outputs": []
    },
    {
      "cell_type": "markdown",
      "metadata": {
        "id": "LzzbAdSFMUob"
      },
      "source": [
        "# Using essentia-melody algorithm"
      ]
    },
    {
      "cell_type": "code",
      "metadata": {
        "id": "2zXzdsixLHVR"
      },
      "source": [
        "#Collecting mel file names for Annotations \n",
        "all_midi = []\n",
        "for root, dirs, files in os.walk('/root/mir_datasets/orchset/GT'):\n",
        "    for file in files:\n",
        "        if file.endswith('.mel'):\n",
        "            file_name = os.path.join(root,file)\n",
        "            all_midi.append(file_name)\n",
        "for file in all_midi:        \n",
        "   #Reading ground-truth\n",
        "   ref_time, ref_freq = mir_eval.io.load_time_series(file)\n",
        "\n",
        "#Saving estimated values to file\n",
        "for file in all_files:\n",
        " fileNameF0 = file.replace('.wav','.f0_preDomMel.txt')\n",
        " startIndexes = np.arange(0, x.size - windowSize, hopSize, dtype = int)\n",
        " with open(fileNameF0, 'w') as f:\n",
        "    for k in range(startIndexes.size):\n",
        "        time = (startIndexes[k] + windowSize / 2) / fs\n",
        "        f.write(str(time) + '\\t' + str(f0[k]) + '\\n')\n",
        "\n",
        "#Collecting text file names \n",
        "all_text = []\n",
        "for root, dirs, files in os.walk('/root/mir_datasets/orchset/audio/mono/'):\n",
        "    for file in files:\n",
        "        if file.endswith('.txt'):\n",
        "            file_name = os.path.join(root,file)\n",
        "            all_text.append(file_name)\n",
        "\n",
        "for file in all_text:\n",
        "  #Re-reading Essentia estimation results\n",
        "  est_time, est_freq = mir_eval.io.load_time_series(file) "
      ],
      "execution_count": 16,
      "outputs": []
    },
    {
      "cell_type": "code",
      "metadata": {
        "colab": {
          "base_uri": "https://localhost:8080/"
        },
        "id": "Dc44uVIEE0sG",
        "outputId": "39c6fed6-633d-4da1-c422-3dd5f52c27f1"
      },
      "source": [
        "for file in files\n",
        "  #Running evaluation and ptinting\n",
        "  scores = mir_eval.melody.evaluate(ref_time, ref_freq,est_time, est_freq)\n",
        "  for score in scores:\n",
        "    print(score,'\\t',scores[score])"
      ],
      "execution_count": 17,
      "outputs": [
        {
          "output_type": "stream",
          "text": [
            "Voicing Recall \t 0.7893447642375995\n",
            "Voicing False Alarm \t 0.7719298245614035\n",
            "Raw Pitch Accuracy \t 0.004286589099816289\n",
            "Raw Chroma Accuracy \t 0.07164727495407226\n",
            "Overall Accuracy \t 0.011834319526627219\n"
          ],
          "name": "stdout"
        }
      ]
    },
    {
      "cell_type": "markdown",
      "metadata": {
        "id": "DiZPocjwE0sG"
      },
      "source": [
        "# Using crepe algorithm"
      ]
    },
    {
      "cell_type": "code",
      "metadata": {
        "id": "vewwKxUjLy85"
      },
      "source": [
        "!pip install crepe\n",
        "import crepe"
      ],
      "execution_count": null,
      "outputs": []
    },
    {
      "cell_type": "code",
      "metadata": {
        "colab": {
          "base_uri": "https://localhost:8080/"
        },
        "id": "DVFRMX_mC6Xd",
        "outputId": "dd0a1a8f-3b90-48c3-f92a-2b7a8cd629a0"
      },
      "source": [
        "for file in all_files:\n",
        "  #Running Essentia predominant melody extraction and saving to an output file\n",
        "    hopSize = 441#10 miliseconds\n",
        "    windowSize = 4096\n",
        "    fs = 44100\n",
        "    x, fs = sf.read(file)\n",
        "    x = x / np.max(np.abs(x))#amplitude normalisation\n",
        "    #x = EqualLoudness()(x)\n",
        "    est_time, est_freq, confidence, activation = crepe.predict(x, fs,viterbi=True)\n",
        "    #Running evaluation and ptinting\n",
        "    scores = mir_eval.melody.evaluate(ref_time, ref_freq,est_time, est_freq)\n",
        "\n",
        "for score in scores:\n",
        "    print(score,'\\t',scores[score])"
      ],
      "execution_count": 37,
      "outputs": [
        {
          "output_type": "stream",
          "text": [
            "32/32 [==============================] - 45s 1s/step\n",
            "32/32 [==============================] - 44s 1s/step\n",
            "97/97 [==============================] - 137s 1s/step\n",
            "47/47 [==============================] - 69s 1s/step\n",
            "78/78 [==============================] - 110s 1s/step\n",
            "86/86 [==============================] - 120s 1s/step\n",
            "63/63 [==============================] - 88s 1s/step\n",
            "86/86 [==============================] - 121s 1s/step\n",
            "97/97 [==============================] - 137s 1s/step\n",
            "30/30 [==============================] - 42s 1s/step\n",
            "58/58 [==============================] - 82s 1s/step\n",
            "90/90 [==============================] - 126s 1s/step\n",
            "82/82 [==============================] - 116s 1s/step\n",
            "88/88 [==============================] - 123s 1s/step\n",
            "87/87 [==============================] - 125s 1s/step\n",
            "90/90 [==============================] - 126s 1s/step\n",
            "77/77 [==============================] - 109s 1s/step\n",
            "72/72 [==============================] - 102s 1s/step\n",
            "94/94 [==============================] - 132s 1s/step\n",
            "53/53 [==============================] - 75s 1s/step\n",
            "51/51 [==============================] - 73s 1s/step\n",
            "70/70 [==============================] - 97s 1s/step\n",
            "103/103 [==============================] - 144s 1s/step\n",
            "54/54 [==============================] - 76s 1s/step\n",
            "102/102 [==============================] - 142s 1s/step\n",
            "84/84 [==============================] - 120s 1s/step\n",
            "50/50 [==============================] - 71s 1s/step\n",
            "67/67 [==============================] - 93s 1s/step\n",
            "81/81 [==============================] - 113s 1s/step\n",
            "66/66 [==============================] - 92s 1s/step\n",
            "94/94 [==============================] - 131s 1s/step\n",
            "78/78 [==============================] - 112s 1s/step\n",
            "71/71 [==============================] - 101s 1s/step\n",
            "83/83 [==============================] - 117s 1s/step\n",
            "62/62 [==============================] - 87s 1s/step\n",
            "74/74 [==============================] - 104s 1s/step\n",
            "62/62 [==============================] - 88s 1s/step\n",
            "76/76 [==============================] - 109s 1s/step\n",
            "93/93 [==============================] - 131s 1s/step\n",
            "75/75 [==============================] - 106s 1s/step\n",
            "75/75 [==============================] - 106s 1s/step\n",
            "67/67 [==============================] - 96s 1s/step\n",
            "69/69 [==============================] - 97s 1s/step\n",
            "55/55 [==============================] - 80s 1s/step\n",
            "88/88 [==============================] - 125s 1s/step\n",
            "73/73 [==============================] - 103s 1s/step\n",
            "41/41 [==============================] - 58s 1s/step\n",
            "47/47 [==============================] - 67s 1s/step\n",
            "62/62 [==============================] - 88s 1s/step\n",
            "80/80 [==============================] - 117s 1s/step\n",
            "38/38 [==============================] - 53s 1s/step\n",
            "45/45 [==============================] - 63s 1s/step\n",
            "93/93 [==============================] - 132s 1s/step\n",
            "71/71 [==============================] - 101s 1s/step\n",
            "41/41 [==============================] - 58s 1s/step\n",
            "86/86 [==============================] - 122s 1s/step\n",
            "40/40 [==============================] - 58s 1s/step\n",
            "85/85 [==============================] - 121s 1s/step\n",
            "48/48 [==============================] - 67s 1s/step\n",
            "72/72 [==============================] - 101s 1s/step\n",
            "69/69 [==============================] - 98s 1s/step\n",
            "33/33 [==============================] - 46s 1s/step\n",
            "62/62 [==============================] - 89s 1s/step\n",
            "75/75 [==============================] - 108s 1s/step\n",
            "Voicing Recall \t 1.0\n",
            "Voicing False Alarm \t 1.0\n",
            "Raw Pitch Accuracy \t 0.011022657685241886\n",
            "Raw Chroma Accuracy \t 0.09124311083894672\n",
            "Overall Accuracy \t 0.010650887573964497\n"
          ],
          "name": "stdout"
        }
      ]
    }
  ]
}