{
  "nbformat": 4,
  "nbformat_minor": 0,
  "metadata": {
    "colab": {
      "name": "HW3Audio_Signal_Processing_for_Music_Applications",
      "provenance": [],
      "collapsed_sections": [],
      "include_colab_link": true
    },
    "kernelspec": {
      "display_name": "Python 3",
      "language": "python",
      "name": "python3"
    },
    "language_info": {
      "codemirror_mode": {
        "name": "ipython",
        "version": 3
      },
      "file_extension": ".py",
      "mimetype": "text/x-python",
      "name": "python",
      "nbconvert_exporter": "python",
      "pygments_lexer": "ipython3",
      "version": "3.6.7"
    }
  },
  "cells": [
    {
      "cell_type": "markdown",
      "metadata": {
        "id": "view-in-github",
        "colab_type": "text"
      },
      "source": [
        "<a href=\"https://colab.research.google.com/github/kenanmorani/Audio_Signal_Processing_For_Music_Applications_idu/blob/main/Pitch%20Extraction/HW3Audio_Signal_Processing_for_Music_Applications.ipynb\" target=\"_parent\"><img src=\"https://colab.research.google.com/assets/colab-badge.svg\" alt=\"Open In Colab\"/></a>"
      ]
    },
    {
      "cell_type": "markdown",
      "metadata": {
        "id": "813w7nF0E0r_"
      },
      "source": [
        "# HW3 Audio Signal Processing for Music Applications course\n",
        "Izmir Democracy University, Electrical and Electronics Program    \n",
        "Submitted to Professor Barsi Bozkurt      \n",
        "Submitted by Kenan MORANI \n",
        "Deadline: 24th of January 2021    "
      ]
    },
    {
      "cell_type": "markdown",
      "metadata": {
        "id": "NEXra68zL6MF"
      },
      "source": [
        "# Installing and importing the required libraries"
      ]
    },
    {
      "cell_type": "code",
      "metadata": {
        "colab": {
          "base_uri": "https://localhost:8080/"
        },
        "id": "IyIgmh-aq29r",
        "outputId": "801dbfe1-0c4f-4a22-a871-fd21e3856bc6"
      },
      "source": [
        "!pip install essentia mir_eval pysoundfile"
      ],
      "execution_count": null,
      "outputs": [
        {
          "output_type": "stream",
          "text": [
            "Requirement already satisfied: essentia in /usr/local/lib/python3.6/dist-packages (2.1b6.dev374)\n",
            "Requirement already satisfied: mir_eval in /usr/local/lib/python3.6/dist-packages (0.6)\n",
            "Requirement already satisfied: pysoundfile in /usr/local/lib/python3.6/dist-packages (0.9.0.post1)\n",
            "Requirement already satisfied: pyyaml in /usr/local/lib/python3.6/dist-packages (from essentia) (3.13)\n",
            "Requirement already satisfied: numpy>=1.8.2 in /usr/local/lib/python3.6/dist-packages (from essentia) (1.19.5)\n",
            "Requirement already satisfied: six in /usr/local/lib/python3.6/dist-packages (from essentia) (1.15.0)\n",
            "Requirement already satisfied: future in /usr/local/lib/python3.6/dist-packages (from mir_eval) (0.16.0)\n",
            "Requirement already satisfied: scipy>=1.0.0 in /usr/local/lib/python3.6/dist-packages (from mir_eval) (1.4.1)\n",
            "Requirement already satisfied: cffi>=0.6 in /usr/local/lib/python3.6/dist-packages (from pysoundfile) (1.14.4)\n",
            "Requirement already satisfied: pycparser in /usr/local/lib/python3.6/dist-packages (from cffi>=0.6->pysoundfile) (2.20)\n"
          ],
          "name": "stdout"
        }
      ]
    },
    {
      "cell_type": "code",
      "metadata": {
        "id": "p9G8MdxSE0sE"
      },
      "source": [
        "import os\n",
        "from essentia import *\n",
        "from essentia.standard import *\n",
        "import matplotlib.pyplot as plt\n",
        "import numpy as np\n",
        "from scipy.signal import get_window\n",
        "import soundfile as sf\n",
        "import urllib.request\n",
        "from IPython.display import Audio\n",
        "import mir_eval"
      ],
      "execution_count": null,
      "outputs": []
    },
    {
      "cell_type": "markdown",
      "metadata": {
        "id": "-UhiRWe-HE9c"
      },
      "source": [
        "# Downloading Standard Dataset including orchset\n"
      ]
    },
    {
      "cell_type": "code",
      "metadata": {
        "id": "IkmVYNdtE0sH"
      },
      "source": [
        "#Downloading a standard mir dataset\n",
        "!pip install mirdata\n",
        "import mirdata\n",
        "orchset = mirdata.initialize('orchset')\n",
        "orchset.download()"
      ],
      "execution_count": null,
      "outputs": []
    },
    {
      "cell_type": "markdown",
      "metadata": {
        "id": "QKMq1epsG17W"
      },
      "source": [
        "# Collecting the Ground Truth Values for the orchset"
      ]
    },
    {
      "cell_type": "code",
      "metadata": {
        "id": "cOgB6BXtjb9h"
      },
      "source": [
        "for file in all_files:\n",
        " x, fs = sf.read(file)\n",
        " x = x / np.max(np.abs(x))#amplitude normalisation\n",
        " minF0 = 50 #in Hz\n",
        " maxF0 = 2000 #in Hz\n",
        " windowSize = 4096\n",
        " hopSize = 1024\n",
        " w = get_window('blackman', windowSize)\n",
        " startIndexes = np.arange(0, x.size - windowSize, hopSize, dtype = int)\n",
        " numWindows = startIndexes.size\n",
        " Audio(x, rate=fs)\n",
        " run_predominant_melody = PitchMelodia(guessUnvoiced = True,\n",
        "                                      frameSize = windowSize,\n",
        "                                      hopSize = hopSize,\n",
        "                                      maxFrequency = maxF0,\n",
        "                                      minFrequency = minF0,\n",
        "                                      sampleRate = fs);"
      ],
      "execution_count": null,
      "outputs": []
    },
    {
      "cell_type": "code",
      "metadata": {
        "id": "UKI6xk62FgC5"
      },
      "source": [
        "#Collecting audio file names \n",
        "all_files = []\n",
        "for root, dirs, files in os.walk('/root/mir_datasets/orchset/audio/mono/'):\n",
        "    for file in files:\n",
        "        if file.endswith('.wav'):\n",
        "            file_name = os.path.join(root,file)\n",
        "            all_files.append(file_name)"
      ],
      "execution_count": null,
      "outputs": []
    },
    {
      "cell_type": "code",
      "metadata": {
        "id": "_OYL8MMBsUfZ"
      },
      "source": [
        "#Collecting mel file names for Annotations \n",
        "all_midi = []\n",
        "for root, dirs, files in os.walk('/root/mir_datasets/orchset/GT'):\n",
        "    for file in files:\n",
        "        if file.endswith('.mel'):\n",
        "            file_name = os.path.join(root,file)\n",
        "            all_midi.append(file_name)\n",
        "for file in all_midi:        \n",
        "   #Reading ground-truth\n",
        "   ref_time, ref_freq = mir_eval.io.load_time_series(file)"
      ],
      "execution_count": null,
      "outputs": []
    },
    {
      "cell_type": "markdown",
      "metadata": {
        "id": "LzzbAdSFMUob"
      },
      "source": [
        "# Using essentia-melodia algorithm"
      ]
    },
    {
      "cell_type": "code",
      "metadata": {
        "id": "2zXzdsixLHVR",
        "colab": {
          "base_uri": "https://localhost:8080/"
        },
        "outputId": "df9808f9-b0f9-4731-b76b-10dccbc91fb1"
      },
      "source": [
        "#Collecting text file names \n",
        "for root, dirs, files in os.walk('/root/mir_datasets/orchset/audio/mono/'):\n",
        "    for file in files:\n",
        "        if file.endswith('.txt'):\n",
        "          file_name = os.path.join(root,file)\n",
        "          est_time, est_freq = mir_eval.io.load_time_series(file)\n",
        "\n",
        "for file in all_files[:20]:\n",
        " scores = mir_eval.melody.evaluate(ref_time, ref_freq,est_time, est_freq)\n",
        " for score in scores:\n",
        "    print(score,'\\t',scores[score])"
      ],
      "execution_count": null,
      "outputs": [
        {
          "output_type": "stream",
          "text": [
            "Voicing Recall \t 0.9995159728944821\n",
            "Voicing False Alarm \t 1.0\n",
            "Raw Pitch Accuracy \t 0.02904162633107454\n",
            "Raw Chroma Accuracy \t 0.06776379477250725\n",
            "Overall Accuracy \t 0.026041666666666668\n",
            "Voicing Recall \t 0.9995159728944821\n",
            "Voicing False Alarm \t 1.0\n",
            "Raw Pitch Accuracy \t 0.02904162633107454\n",
            "Raw Chroma Accuracy \t 0.06776379477250725\n",
            "Overall Accuracy \t 0.026041666666666668\n",
            "Voicing Recall \t 0.9995159728944821\n",
            "Voicing False Alarm \t 1.0\n",
            "Raw Pitch Accuracy \t 0.02904162633107454\n",
            "Raw Chroma Accuracy \t 0.06776379477250725\n",
            "Overall Accuracy \t 0.026041666666666668\n",
            "Voicing Recall \t 0.9995159728944821\n",
            "Voicing False Alarm \t 1.0\n",
            "Raw Pitch Accuracy \t 0.02904162633107454\n",
            "Raw Chroma Accuracy \t 0.06776379477250725\n",
            "Overall Accuracy \t 0.026041666666666668\n",
            "Voicing Recall \t 0.9995159728944821\n",
            "Voicing False Alarm \t 1.0\n",
            "Raw Pitch Accuracy \t 0.02904162633107454\n",
            "Raw Chroma Accuracy \t 0.06776379477250725\n",
            "Overall Accuracy \t 0.026041666666666668\n",
            "Voicing Recall \t 0.9995159728944821\n",
            "Voicing False Alarm \t 1.0\n",
            "Raw Pitch Accuracy \t 0.02904162633107454\n",
            "Raw Chroma Accuracy \t 0.06776379477250725\n",
            "Overall Accuracy \t 0.026041666666666668\n",
            "Voicing Recall \t 0.9995159728944821\n",
            "Voicing False Alarm \t 1.0\n",
            "Raw Pitch Accuracy \t 0.02904162633107454\n",
            "Raw Chroma Accuracy \t 0.06776379477250725\n",
            "Overall Accuracy \t 0.026041666666666668\n",
            "Voicing Recall \t 0.9995159728944821\n",
            "Voicing False Alarm \t 1.0\n",
            "Raw Pitch Accuracy \t 0.02904162633107454\n",
            "Raw Chroma Accuracy \t 0.06776379477250725\n",
            "Overall Accuracy \t 0.026041666666666668\n",
            "Voicing Recall \t 0.9995159728944821\n",
            "Voicing False Alarm \t 1.0\n",
            "Raw Pitch Accuracy \t 0.02904162633107454\n",
            "Raw Chroma Accuracy \t 0.06776379477250725\n",
            "Overall Accuracy \t 0.026041666666666668\n",
            "Voicing Recall \t 0.9995159728944821\n",
            "Voicing False Alarm \t 1.0\n",
            "Raw Pitch Accuracy \t 0.02904162633107454\n",
            "Raw Chroma Accuracy \t 0.06776379477250725\n",
            "Overall Accuracy \t 0.026041666666666668\n",
            "Voicing Recall \t 0.9995159728944821\n",
            "Voicing False Alarm \t 1.0\n",
            "Raw Pitch Accuracy \t 0.02904162633107454\n",
            "Raw Chroma Accuracy \t 0.06776379477250725\n",
            "Overall Accuracy \t 0.026041666666666668\n",
            "Voicing Recall \t 0.9995159728944821\n",
            "Voicing False Alarm \t 1.0\n",
            "Raw Pitch Accuracy \t 0.02904162633107454\n",
            "Raw Chroma Accuracy \t 0.06776379477250725\n",
            "Overall Accuracy \t 0.026041666666666668\n",
            "Voicing Recall \t 0.9995159728944821\n",
            "Voicing False Alarm \t 1.0\n",
            "Raw Pitch Accuracy \t 0.02904162633107454\n",
            "Raw Chroma Accuracy \t 0.06776379477250725\n",
            "Overall Accuracy \t 0.026041666666666668\n",
            "Voicing Recall \t 0.9995159728944821\n",
            "Voicing False Alarm \t 1.0\n",
            "Raw Pitch Accuracy \t 0.02904162633107454\n",
            "Raw Chroma Accuracy \t 0.06776379477250725\n",
            "Overall Accuracy \t 0.026041666666666668\n",
            "Voicing Recall \t 0.9995159728944821\n",
            "Voicing False Alarm \t 1.0\n",
            "Raw Pitch Accuracy \t 0.02904162633107454\n",
            "Raw Chroma Accuracy \t 0.06776379477250725\n",
            "Overall Accuracy \t 0.026041666666666668\n",
            "Voicing Recall \t 0.9995159728944821\n",
            "Voicing False Alarm \t 1.0\n",
            "Raw Pitch Accuracy \t 0.02904162633107454\n",
            "Raw Chroma Accuracy \t 0.06776379477250725\n",
            "Overall Accuracy \t 0.026041666666666668\n",
            "Voicing Recall \t 0.9995159728944821\n",
            "Voicing False Alarm \t 1.0\n",
            "Raw Pitch Accuracy \t 0.02904162633107454\n",
            "Raw Chroma Accuracy \t 0.06776379477250725\n",
            "Overall Accuracy \t 0.026041666666666668\n",
            "Voicing Recall \t 0.9995159728944821\n",
            "Voicing False Alarm \t 1.0\n",
            "Raw Pitch Accuracy \t 0.02904162633107454\n",
            "Raw Chroma Accuracy \t 0.06776379477250725\n",
            "Overall Accuracy \t 0.026041666666666668\n",
            "Voicing Recall \t 0.9995159728944821\n",
            "Voicing False Alarm \t 1.0\n",
            "Raw Pitch Accuracy \t 0.02904162633107454\n",
            "Raw Chroma Accuracy \t 0.06776379477250725\n",
            "Overall Accuracy \t 0.026041666666666668\n",
            "Voicing Recall \t 0.9995159728944821\n",
            "Voicing False Alarm \t 1.0\n",
            "Raw Pitch Accuracy \t 0.02904162633107454\n",
            "Raw Chroma Accuracy \t 0.06776379477250725\n",
            "Overall Accuracy \t 0.026041666666666668\n"
          ],
          "name": "stdout"
        }
      ]
    },
    {
      "cell_type": "markdown",
      "metadata": {
        "id": "DiZPocjwE0sG"
      },
      "source": [
        "# Using crepe algorithm"
      ]
    },
    {
      "cell_type": "code",
      "metadata": {
        "id": "vewwKxUjLy85",
        "colab": {
          "base_uri": "https://localhost:8080/"
        },
        "outputId": "712a4075-9fb8-4787-f5f7-f06a84d7f3a7"
      },
      "source": [
        "!pip install crepe\n",
        "import crepe"
      ],
      "execution_count": null,
      "outputs": [
        {
          "output_type": "stream",
          "text": [
            "Collecting crepe\n",
            "  Downloading https://files.pythonhosted.org/packages/c8/74/1677b9369f233745b3dedf707ce26fb935c5c400379c45400df818f3a805/crepe-0.0.11.tar.gz\n",
            "Requirement already satisfied: numpy>=1.14.0 in /usr/local/lib/python3.6/dist-packages (from crepe) (1.19.5)\n",
            "Requirement already satisfied: scipy>=1.0.0 in /usr/local/lib/python3.6/dist-packages (from crepe) (1.4.1)\n",
            "Requirement already satisfied: matplotlib>=2.1.0 in /usr/local/lib/python3.6/dist-packages (from crepe) (3.2.2)\n",
            "Requirement already satisfied: resampy<0.3.0,>=0.2.0 in /usr/local/lib/python3.6/dist-packages (from crepe) (0.2.2)\n",
            "Requirement already satisfied: h5py<3.0.0,>=2.7.0 in /usr/local/lib/python3.6/dist-packages (from crepe) (2.10.0)\n",
            "Collecting hmmlearn<0.3.0,>=0.2.0\n",
            "\u001b[?25l  Downloading https://files.pythonhosted.org/packages/b3/49/9e9a89cee24b26ef6afec5abbd5eb9cf14632855f32b999389873ecb1b4e/hmmlearn-0.2.4-cp36-cp36m-manylinux1_x86_64.whl (361kB)\n",
            "\u001b[K     |████████████████████████████████| 368kB 5.4MB/s \n",
            "\u001b[?25hRequirement already satisfied: imageio>=2.3.0 in /usr/local/lib/python3.6/dist-packages (from crepe) (2.4.1)\n",
            "Requirement already satisfied: scikit-learn>=0.16 in /usr/local/lib/python3.6/dist-packages (from crepe) (0.22.2.post1)\n",
            "Requirement already satisfied: pyparsing!=2.0.4,!=2.1.2,!=2.1.6,>=2.0.1 in /usr/local/lib/python3.6/dist-packages (from matplotlib>=2.1.0->crepe) (2.4.7)\n",
            "Requirement already satisfied: python-dateutil>=2.1 in /usr/local/lib/python3.6/dist-packages (from matplotlib>=2.1.0->crepe) (2.8.1)\n",
            "Requirement already satisfied: kiwisolver>=1.0.1 in /usr/local/lib/python3.6/dist-packages (from matplotlib>=2.1.0->crepe) (1.3.1)\n",
            "Requirement already satisfied: cycler>=0.10 in /usr/local/lib/python3.6/dist-packages (from matplotlib>=2.1.0->crepe) (0.10.0)\n",
            "Requirement already satisfied: six>=1.3 in /usr/local/lib/python3.6/dist-packages (from resampy<0.3.0,>=0.2.0->crepe) (1.15.0)\n",
            "Requirement already satisfied: numba>=0.32 in /usr/local/lib/python3.6/dist-packages (from resampy<0.3.0,>=0.2.0->crepe) (0.48.0)\n",
            "Requirement already satisfied: pillow in /usr/local/lib/python3.6/dist-packages (from imageio>=2.3.0->crepe) (7.0.0)\n",
            "Requirement already satisfied: joblib>=0.11 in /usr/local/lib/python3.6/dist-packages (from scikit-learn>=0.16->crepe) (1.0.0)\n",
            "Requirement already satisfied: llvmlite<0.32.0,>=0.31.0dev0 in /usr/local/lib/python3.6/dist-packages (from numba>=0.32->resampy<0.3.0,>=0.2.0->crepe) (0.31.0)\n",
            "Requirement already satisfied: setuptools in /usr/local/lib/python3.6/dist-packages (from numba>=0.32->resampy<0.3.0,>=0.2.0->crepe) (51.3.3)\n",
            "Building wheels for collected packages: crepe\n",
            "  Building wheel for crepe (setup.py) ... \u001b[?25l\u001b[?25hdone\n",
            "  Created wheel for crepe: filename=crepe-0.0.11-cp36-none-any.whl size=134848478 sha256=78168dffdf639b6b7c65609d7e62c6ef3e6c8ce462cc30066647068de1e52d30\n",
            "  Stored in directory: /root/.cache/pip/wheels/7f/68/d0/502d27bfe590bfa51c6fe95cf9e4482fed18c22c480a8d7c77\n",
            "Successfully built crepe\n",
            "Installing collected packages: hmmlearn, crepe\n",
            "Successfully installed crepe-0.0.11 hmmlearn-0.2.4\n"
          ],
          "name": "stdout"
        }
      ]
    },
    {
      "cell_type": "code",
      "metadata": {
        "colab": {
          "base_uri": "https://localhost:8080/"
        },
        "id": "DVFRMX_mC6Xd",
        "outputId": "cfa8b865-f639-4115-ba43-398e6dc6750d"
      },
      "source": [
        "for file in all_files[:20]:\n",
        "  #Running Essentia predominant melody extraction and saving to an output file\n",
        "    hopSize = 441#10 miliseconds\n",
        "    windowSize = 4096\n",
        "    fs = 44100\n",
        "    x, fs = sf.read(file)\n",
        "    x = x / np.max(np.abs(x))#amplitude normalisation\n",
        "    #x = EqualLoudness()(x)\n",
        "    est_time, est_freq, confidence, activation = crepe.predict(x, fs,viterbi=True)\n",
        "    #Running evaluation and ptinting\n",
        "    scores = mir_eval.melody.evaluate(ref_time, ref_freq,est_time, est_freq)\n",
        "    for score in scores:\n",
        "      print(score,'\\t',scores[score])"
      ],
      "execution_count": null,
      "outputs": [
        {
          "output_type": "stream",
          "text": [
            "62/62 [==============================] - 99s 2s/step\n",
            "Voicing Recall \t 0.9995159728944821\n",
            "Voicing False Alarm \t 1.0\n",
            "Raw Pitch Accuracy \t 0.04549854791868345\n",
            "Raw Chroma Accuracy \t 0.20571151984511132\n",
            "Overall Accuracy \t 0.04079861111111111\n",
            "69/69 [==============================] - 106s 2s/step\n",
            "Voicing Recall \t 0.9995159728944821\n",
            "Voicing False Alarm \t 1.0\n",
            "Raw Pitch Accuracy \t 0.03484995159728945\n",
            "Raw Chroma Accuracy \t 0.06534365924491771\n",
            "Overall Accuracy \t 0.03125\n",
            "33/33 [==============================] - 50s 2s/step\n",
            "Voicing Recall \t 0.9995159728944821\n",
            "Voicing False Alarm \t 1.0\n",
            "Raw Pitch Accuracy \t 0.02032913843175218\n",
            "Raw Chroma Accuracy \t 0.03823814133591481\n",
            "Overall Accuracy \t 0.018229166666666668\n",
            "47/47 [==============================] - 73s 2s/step\n",
            "Voicing Recall \t 0.9995159728944821\n",
            "Voicing False Alarm \t 1.0\n",
            "Raw Pitch Accuracy \t 0.028073572120038724\n",
            "Raw Chroma Accuracy \t 0.060503388189738626\n",
            "Overall Accuracy \t 0.025173611111111112\n",
            "53/53 [==============================] - 83s 2s/step\n",
            "Voicing Recall \t 0.9995159728944821\n",
            "Voicing False Alarm \t 1.0\n",
            "Raw Pitch Accuracy \t 0.1713455953533398\n",
            "Raw Chroma Accuracy \t 0.38286544046466603\n",
            "Overall Accuracy \t 0.15364583333333334\n",
            "84/84 [==============================] - 130s 2s/step\n",
            "Voicing Recall \t 1.0\n",
            "Voicing False Alarm \t 1.0\n",
            "Raw Pitch Accuracy \t 0.025653436592449178\n",
            "Raw Chroma Accuracy \t 0.07163601161665054\n",
            "Overall Accuracy \t 0.023003472222222224\n",
            "80/80 [==============================] - 124s 2s/step\n",
            "Voicing Recall \t 1.0\n",
            "Voicing False Alarm \t 1.0\n",
            "Raw Pitch Accuracy \t 0.09051306873184899\n",
            "Raw Chroma Accuracy \t 0.16989351403678607\n",
            "Overall Accuracy \t 0.08116319444444445\n",
            "75/75 [==============================] - 119s 2s/step\n",
            "Voicing Recall \t 1.0\n",
            "Voicing False Alarm \t 1.0\n",
            "Raw Pitch Accuracy \t 0.01984511132623427\n",
            "Raw Chroma Accuracy \t 0.16456921587608905\n",
            "Overall Accuracy \t 0.017795138888888888\n",
            "71/71 [==============================] - 110s 2s/step\n",
            "Voicing Recall \t 0.9995159728944821\n",
            "Voicing False Alarm \t 1.0\n",
            "Raw Pitch Accuracy \t 0.021781219748305904\n",
            "Raw Chroma Accuracy \t 0.05614714424007745\n",
            "Overall Accuracy \t 0.01953125\n",
            "103/103 [==============================] - 159s 2s/step\n",
            "Voicing Recall \t 1.0\n",
            "Voicing False Alarm \t 1.0\n",
            "Raw Pitch Accuracy \t 0.12729912875121008\n",
            "Raw Chroma Accuracy \t 0.18635043562439496\n",
            "Overall Accuracy \t 0.11414930555555555\n",
            "88/88 [==============================] - 136s 2s/step\n",
            "Voicing Recall \t 1.0\n",
            "Voicing False Alarm \t 1.0\n",
            "Raw Pitch Accuracy \t 0.051306873184898356\n",
            "Raw Chroma Accuracy \t 0.05953533397870281\n",
            "Overall Accuracy \t 0.04600694444444445\n",
            "94/94 [==============================] - 148s 2s/step\n",
            "Voicing Recall \t 1.0\n",
            "Voicing False Alarm \t 1.0\n",
            "Raw Pitch Accuracy \t 0.031945788964181994\n",
            "Raw Chroma Accuracy \t 0.10067763794772508\n",
            "Overall Accuracy \t 0.028645833333333332\n",
            "102/102 [==============================] - 158s 2s/step\n",
            "Voicing Recall \t 1.0\n",
            "Voicing False Alarm \t 1.0\n",
            "Raw Pitch Accuracy \t 0.15779283639883834\n",
            "Raw Chroma Accuracy \t 0.2918683446272991\n",
            "Overall Accuracy \t 0.14149305555555555\n",
            "88/88 [==============================] - 135s 2s/step\n",
            "Voicing Recall \t 1.0\n",
            "Voicing False Alarm \t 1.0\n",
            "Raw Pitch Accuracy \t 0.012100677637947725\n",
            "Raw Chroma Accuracy \t 0.0537270087124879\n",
            "Overall Accuracy \t 0.010850694444444444\n",
            "87/87 [==============================] - 135s 2s/step\n",
            "Voicing Recall \t 1.0\n",
            "Voicing False Alarm \t 1.0\n",
            "Raw Pitch Accuracy \t 0.0696999031945789\n",
            "Raw Chroma Accuracy \t 0.15924491771539206\n",
            "Overall Accuracy \t 0.0625\n",
            "63/63 [==============================] - 98s 2s/step\n",
            "Voicing Recall \t 0.9995159728944821\n",
            "Voicing False Alarm \t 1.0\n",
            "Raw Pitch Accuracy \t 0.02952565343659245\n",
            "Raw Chroma Accuracy \t 0.23910939012584706\n",
            "Overall Accuracy \t 0.026475694444444444\n",
            "93/93 [==============================] - 148s 2s/step\n",
            "Voicing Recall \t 1.0\n",
            "Voicing False Alarm \t 1.0\n",
            "Raw Pitch Accuracy \t 0.003388189738625363\n",
            "Raw Chroma Accuracy \t 0.05469506292352372\n",
            "Overall Accuracy \t 0.0030381944444444445\n",
            "90/90 [==============================] - 140s 2s/step\n",
            "Voicing Recall \t 1.0\n",
            "Voicing False Alarm \t 1.0\n",
            "Raw Pitch Accuracy \t 0.036786060019361085\n",
            "Raw Chroma Accuracy \t 0.08325266214908035\n",
            "Overall Accuracy \t 0.03298611111111111\n",
            "51/51 [==============================] - 78s 2s/step\n",
            "Voicing Recall \t 0.9995159728944821\n",
            "Voicing False Alarm \t 1.0\n",
            "Raw Pitch Accuracy \t 0.028073572120038724\n",
            "Raw Chroma Accuracy \t 0.03920619554695063\n",
            "Overall Accuracy \t 0.025173611111111112\n",
            "48/48 [==============================] - 73s 2s/step\n",
            "Voicing Recall \t 0.9995159728944821\n",
            "Voicing False Alarm \t 1.0\n",
            "Raw Pitch Accuracy \t 0.02904162633107454\n",
            "Raw Chroma Accuracy \t 0.06776379477250725\n",
            "Overall Accuracy \t 0.026041666666666668\n"
          ],
          "name": "stdout"
        }
      ]
    },
    {
      "cell_type": "markdown",
      "metadata": {
        "id": "rjaSxt1zp5uc"
      },
      "source": [
        "# Comments on Essentia-Melodia and Crepe Algorithms"
      ]
    },
    {
      "cell_type": "markdown",
      "metadata": {
        "id": "CZFGVoRZqGTj"
      },
      "source": [
        "* Crepe is a pitch tracker algorithm that is built on deep convolusion Networks. Crepe algorithm outperformces other pitch trackers at least as known by 2018.\n",
        "Referenes\n",
        "> Jong Wook Kim, Justin Salamon, Peter Li, Juan Pablo Bello.\n",
        "Proceedings of the IEEE International Conference on Acoustics, Speech, and Signal Processing (ICASSP), 2018.\n",
        "* On HW3, Crepe algorithm generally gave  high voicing recall (1), high voicing false alarm, and varying Raw pitch accuracy and raw chroma accuracy. The overall accuracy varied but was quite low in general.\n",
        "* The Melodia algorithm, provided by essentia, also gave high voicing recall (0.99), high voicing false alarm, varying raw pitch and raw chroma accuracy. The overall accuracy was still low."
      ]
    }
  ]
}