{
  "nbformat": 4,
  "nbformat_minor": 0,
  "metadata": {
    "colab": {
      "name": "Welcome To Colaboratory",
      "provenance": [],
      "collapsed_sections": [],
      "include_colab_link": true
    },
    "kernelspec": {
      "display_name": "Python 3",
      "name": "python3"
    }
  },
  "cells": [
    {
      "cell_type": "markdown",
      "metadata": {
        "id": "view-in-github",
        "colab_type": "text"
      },
      "source": [
        "<a href=\"https://colab.research.google.com/github/kenanmorani/Audio_Signal_Processing_For_Music_Applications_idu/blob/main/simple_linear_regression_model.ipynb\" target=\"_parent\"><img src=\"https://colab.research.google.com/assets/colab-badge.svg\" alt=\"Open In Colab\"/></a>"
      ]
    },
    {
      "cell_type": "code",
      "metadata": {
        "id": "c2j6C0oTGyGy"
      },
      "source": [
        "import numpy as np\n",
        "from sklearn import linear_model\n",
        "import pandas as pd\n",
        "from sklearn.metrics import mean_squared_error, r2_score"
      ],
      "execution_count": 14,
      "outputs": []
    },
    {
      "cell_type": "code",
      "metadata": {
        "id": "gyvBdbOGej2P"
      },
      "source": [
        "import matplotlib.pyplot as plt"
      ],
      "execution_count": 56,
      "outputs": []
    },
    {
      "cell_type": "code",
      "metadata": {
        "id": "5jSXVaRuJm_p"
      },
      "source": [
        "dataset = pd.read_csv('/data/Extensographupdated.csv')"
      ],
      "execution_count": 39,
      "outputs": []
    },
    {
      "cell_type": "code",
      "metadata": {
        "colab": {
          "base_uri": "https://localhost:8080/",
          "height": 204
        },
        "id": "e7VRNwz_T40a",
        "outputId": "abf6eed2-3a81-46d3-8ade-de223d3c7b11"
      },
      "source": [
        "dataset.head()"
      ],
      "execution_count": 40,
      "outputs": [
        {
          "output_type": "execute_result",
          "data": {
            "text/html": [
              "<div>\n",
              "<style scoped>\n",
              "    .dataframe tbody tr th:only-of-type {\n",
              "        vertical-align: middle;\n",
              "    }\n",
              "\n",
              "    .dataframe tbody tr th {\n",
              "        vertical-align: top;\n",
              "    }\n",
              "\n",
              "    .dataframe thead th {\n",
              "        text-align: right;\n",
              "    }\n",
              "</style>\n",
              "<table border=\"1\" class=\"dataframe\">\n",
              "  <thead>\n",
              "    <tr style=\"text-align: right;\">\n",
              "      <th></th>\n",
              "      <th>Novamyl 1500MG</th>\n",
              "      <th>Lipopan FBG</th>\n",
              "      <th>Pentopan Mono BG</th>\n",
              "      <th>F.Q.Number</th>\n",
              "      <th>D.of.Softening(ICC)(FU)</th>\n",
              "      <th>D.of.Softening(FU)</th>\n",
              "      <th>Stability(min)</th>\n",
              "      <th>Develop.Time(min)</th>\n",
              "      <th>W.absorption</th>\n",
              "    </tr>\n",
              "  </thead>\n",
              "  <tbody>\n",
              "    <tr>\n",
              "      <th>0</th>\n",
              "      <td>35</td>\n",
              "      <td>7</td>\n",
              "      <td>30</td>\n",
              "      <td>65</td>\n",
              "      <td>76</td>\n",
              "      <td>57</td>\n",
              "      <td>4.9</td>\n",
              "      <td>3.5</td>\n",
              "      <td>61.0</td>\n",
              "    </tr>\n",
              "    <tr>\n",
              "      <th>1</th>\n",
              "      <td>75</td>\n",
              "      <td>7</td>\n",
              "      <td>30</td>\n",
              "      <td>64</td>\n",
              "      <td>78</td>\n",
              "      <td>58</td>\n",
              "      <td>4.8</td>\n",
              "      <td>4.3</td>\n",
              "      <td>60.8</td>\n",
              "    </tr>\n",
              "    <tr>\n",
              "      <th>2</th>\n",
              "      <td>35</td>\n",
              "      <td>7</td>\n",
              "      <td>100</td>\n",
              "      <td>67</td>\n",
              "      <td>105</td>\n",
              "      <td>62</td>\n",
              "      <td>5.2</td>\n",
              "      <td>4.8</td>\n",
              "      <td>61.1</td>\n",
              "    </tr>\n",
              "    <tr>\n",
              "      <th>3</th>\n",
              "      <td>75</td>\n",
              "      <td>7</td>\n",
              "      <td>100</td>\n",
              "      <td>64</td>\n",
              "      <td>97</td>\n",
              "      <td>59</td>\n",
              "      <td>4.8</td>\n",
              "      <td>4.8</td>\n",
              "      <td>61.2</td>\n",
              "    </tr>\n",
              "    <tr>\n",
              "      <th>4</th>\n",
              "      <td>35</td>\n",
              "      <td>4</td>\n",
              "      <td>65</td>\n",
              "      <td>63</td>\n",
              "      <td>91</td>\n",
              "      <td>58</td>\n",
              "      <td>4.4</td>\n",
              "      <td>4.5</td>\n",
              "      <td>61.1</td>\n",
              "    </tr>\n",
              "  </tbody>\n",
              "</table>\n",
              "</div>"
            ],
            "text/plain": [
              "   Novamyl 1500MG  Lipopan FBG  ...  Develop.Time(min)  W.absorption\n",
              "0              35            7  ...                3.5          61.0\n",
              "1              75            7  ...                4.3          60.8\n",
              "2              35            7  ...                4.8          61.1\n",
              "3              75            7  ...                4.8          61.2\n",
              "4              35            4  ...                4.5          61.1\n",
              "\n",
              "[5 rows x 9 columns]"
            ]
          },
          "metadata": {
            "tags": []
          },
          "execution_count": 40
        }
      ]
    },
    {
      "cell_type": "code",
      "metadata": {
        "id": "Xb63mLHwWsaC"
      },
      "source": [
        "# The enzyms\n",
        "x=dataset.iloc[:,0:3].values"
      ],
      "execution_count": 50,
      "outputs": []
    },
    {
      "cell_type": "code",
      "metadata": {
        "colab": {
          "base_uri": "https://localhost:8080/"
        },
        "id": "SG306hmPXOzs",
        "outputId": "b7eec302-f367-483c-a129-a348e93d63fd"
      },
      "source": [
        "x"
      ],
      "execution_count": 51,
      "outputs": [
        {
          "output_type": "execute_result",
          "data": {
            "text/plain": [
              "array([[ 35,   7,  30],\n",
              "       [ 75,   7,  30],\n",
              "       [ 35,   7, 100],\n",
              "       [ 75,   7, 100],\n",
              "       [ 35,   4,  65],\n",
              "       [ 75,   4,  65],\n",
              "       [ 35,  10,  65],\n",
              "       [ 75,  10,  65],\n",
              "       [ 55,   4, 100],\n",
              "       [ 55,  10,  30],\n",
              "       [ 55,  10, 100],\n",
              "       [ 55,   7,  65],\n",
              "       [ 55,   7,  65]])"
            ]
          },
          "metadata": {
            "tags": []
          },
          "execution_count": 51
        }
      ]
    },
    {
      "cell_type": "code",
      "metadata": {
        "id": "5oNE2HkiXP3t"
      },
      "source": [
        "# The F.Q.Number\n",
        "y=dataset.iloc[:,3:4].values"
      ],
      "execution_count": 43,
      "outputs": []
    },
    {
      "cell_type": "code",
      "metadata": {
        "colab": {
          "base_uri": "https://localhost:8080/"
        },
        "id": "8SA_ZEaYackE",
        "outputId": "6150ea8c-54cf-46a0-cdd0-8d00e79b8761"
      },
      "source": [
        "y"
      ],
      "execution_count": 44,
      "outputs": [
        {
          "output_type": "execute_result",
          "data": {
            "text/plain": [
              "array([[65],\n",
              "       [64],\n",
              "       [67],\n",
              "       [64],\n",
              "       [63],\n",
              "       [65],\n",
              "       [67],\n",
              "       [63],\n",
              "       [61],\n",
              "       [62],\n",
              "       [64],\n",
              "       [53],\n",
              "       [56]])"
            ]
          },
          "metadata": {
            "tags": []
          },
          "execution_count": 44
        }
      ]
    },
    {
      "cell_type": "code",
      "metadata": {
        "id": "RSPU5NNAado2"
      },
      "source": [
        "# Reshaping array to cvonvert from 1D to 2D\n",
        "# x=x.reshape(-1,1)"
      ],
      "execution_count": 45,
      "outputs": []
    },
    {
      "cell_type": "code",
      "metadata": {
        "colab": {
          "base_uri": "https://localhost:8080/"
        },
        "id": "3DeL2kg4bo-e",
        "outputId": "fb45bd63-ccde-44c1-c2aa-b8f721f71a81"
      },
      "source": [
        "x"
      ],
      "execution_count": 46,
      "outputs": [
        {
          "output_type": "execute_result",
          "data": {
            "text/plain": [
              "array([[ 35],\n",
              "       [  7],\n",
              "       [ 30],\n",
              "       [ 75],\n",
              "       [  7],\n",
              "       [ 30],\n",
              "       [ 35],\n",
              "       [  7],\n",
              "       [100],\n",
              "       [ 75],\n",
              "       [  7],\n",
              "       [100],\n",
              "       [ 35],\n",
              "       [  4],\n",
              "       [ 65],\n",
              "       [ 75],\n",
              "       [  4],\n",
              "       [ 65],\n",
              "       [ 35],\n",
              "       [ 10],\n",
              "       [ 65],\n",
              "       [ 75],\n",
              "       [ 10],\n",
              "       [ 65],\n",
              "       [ 55],\n",
              "       [  4],\n",
              "       [100],\n",
              "       [ 55],\n",
              "       [ 10],\n",
              "       [ 30],\n",
              "       [ 55],\n",
              "       [ 10],\n",
              "       [100],\n",
              "       [ 55],\n",
              "       [  7],\n",
              "       [ 65],\n",
              "       [ 55],\n",
              "       [  7],\n",
              "       [ 65]])"
            ]
          },
          "metadata": {
            "tags": []
          },
          "execution_count": 46
        }
      ]
    },
    {
      "cell_type": "code",
      "metadata": {
        "id": "ij9a9MhDbp6b"
      },
      "source": [
        "lin_reg=linear_model.LinearRegression()"
      ],
      "execution_count": 47,
      "outputs": []
    },
    {
      "cell_type": "code",
      "metadata": {
        "colab": {
          "base_uri": "https://localhost:8080/"
        },
        "id": "uW2eUXstbvKh",
        "outputId": "8343f301-1ee8-402b-a579-ff1ffd9e85c3"
      },
      "source": [
        "# Fitting the model\n",
        "lin_reg.fit(x,y)"
      ],
      "execution_count": 52,
      "outputs": [
        {
          "output_type": "execute_result",
          "data": {
            "text/plain": [
              "LinearRegression(copy_X=True, fit_intercept=True, n_jobs=None, normalize=False)"
            ]
          },
          "metadata": {
            "tags": []
          },
          "execution_count": 52
        }
      ]
    },
    {
      "cell_type": "code",
      "metadata": {
        "colab": {
          "base_uri": "https://localhost:8080/"
        },
        "id": "4gT4a_pRb3rx",
        "outputId": "6996e25a-2410-4014-ac10-5ecee5238027"
      },
      "source": [
        "# The mean square error\n",
        "print(\"Coefficients:\\n\",lin_reg.coef_)\n",
        "print(\"intercept:\\n\", lin_reg.intercept_)"
      ],
      "execution_count": 54,
      "outputs": [
        {
          "output_type": "stream",
          "text": [
            "Coefficients:\n",
            " [[-0.0375      0.23464912  0.01296992]]\n",
            "intercept:\n",
            " [62.10322682]\n"
          ],
          "name": "stdout"
        }
      ]
    }
  ]
}